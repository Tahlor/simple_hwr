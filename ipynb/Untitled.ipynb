{
 "cells": [
  {
   "cell_type": "code",
   "execution_count": 6,
   "metadata": {},
   "outputs": [],
   "source": [
    "import numpy as np\n",
    "import sklearn\n",
    "from sklearn.linear_model import LinearRegression\n",
    "from sklearn.linear_model import LogisticRegression\n",
    "import matplotlib.pyplot as plt\n",
    "import pandas as pd"
   ]
  },
  {
   "cell_type": "code",
   "execution_count": 4,
   "metadata": {},
   "outputs": [
    {
     "name": "stdout",
     "output_type": "stream",
     "text": [
      "[0 0 0 0 0 0 0 0 0 0 0 0 0 0 0 0 0 0 0 0 0 0 0 0 0 0 0 0 0 0 0 0 0 0 0 0 0\n",
      " 0 0 0 0 0 0 0 0 0 0 0 0 0 1 1 1 1 1 1 1 1 1 1 1 1 1 1 1 1 1 1 1 1 1 1 1 1\n",
      " 1 1 1 1 1 1 1 1 1 1 1 1 1 1 1 1 1 1 1 1 1 1 1 1 1 1 2 2 2 2 2 2 2 2 2 2 2\n",
      " 2 2 2 2 2 2 2 2 2 2 2 2 2 2 2 2 2 2 2 2 2 2 2 2 2 2 2 2 2 2 2 2 2 2 2 2 2\n",
      " 2 2]\n"
     ]
    }
   ],
   "source": [
    "#print(X)\n",
    "print(y)"
   ]
  },
  {
   "cell_type": "code",
   "execution_count": 56,
   "metadata": {},
   "outputs": [
    {
     "name": "stdout",
     "output_type": "stream",
     "text": [
      "[[50]\n",
      " [70]\n",
      " [90]] [[-1.09861229]\n",
      " [ 0.        ]\n",
      " [ 1.38629436]]\n",
      "   HR  probs  HeartAttacks    logits\n",
      "0  50   0.25             1 -1.098612\n",
      "1  70   0.50             1  0.000000\n",
      "2  90   0.80             4  1.386294\n"
     ]
    }
   ],
   "source": [
    "heart_rates = np.asarray([50, 50, 50, 50, 70, 70, 90, 90, 90, 90, 90]).reshape(-1, 1)\n",
    "heart_attacks = np.asarray([1, 0, 0, 0, 0, 1, 1, 1, 0, 1, 1])\n",
    "\n",
    "\n",
    "## Prep data\n",
    "combined_data = pd.concat([pd.DataFrame(heart_rates), pd.DataFrame(heart_attacks)], axis=1)\n",
    "combined_data.columns= [\"HR\", \"HeartAttack\"]\n",
    "\n",
    "collapsed = combined_data.groupby(['HR'])['HeartAttack'].agg(['mean','sum']).reset_index()\n",
    "collapsed.columns= [\"HR\", \"probs\", \"HeartAttacks\"]\n",
    "collapsed[\"logits\"] = np.log(collapsed.probs/(1-collapsed.probs))\n",
    "\n",
    "heart_rates_unique = collapsed.HR.to_numpy().reshape(-1, 1)\n",
    "logits = collapsed.logits.to_numpy().reshape(-1, 1)\n",
    "\n",
    "print(heart_rates_unique, logits)\n",
    "print(collapsed)"
   ]
  },
  {
   "cell_type": "code",
   "execution_count": 36,
   "metadata": {},
   "outputs": [
    {
     "data": {
      "text/plain": [
       "90"
      ]
     },
     "execution_count": 36,
     "metadata": {},
     "output_type": "execute_result"
    }
   ],
   "source": [
    "max(heart_rates_unique)[0]"
   ]
  },
  {
   "cell_type": "code",
   "execution_count": 34,
   "metadata": {},
   "outputs": [
    {
     "data": {
      "text/plain": [
       "array([[  0.        ],\n",
       "       [  2.85714286],\n",
       "       [  5.71428571],\n",
       "       [  8.57142857],\n",
       "       [ 11.42857143],\n",
       "       [ 14.28571429],\n",
       "       [ 17.14285714],\n",
       "       [ 20.        ],\n",
       "       [ 22.85714286],\n",
       "       [ 25.71428571],\n",
       "       [ 28.57142857],\n",
       "       [ 31.42857143],\n",
       "       [ 34.28571429],\n",
       "       [ 37.14285714],\n",
       "       [ 40.        ],\n",
       "       [ 42.85714286],\n",
       "       [ 45.71428571],\n",
       "       [ 48.57142857],\n",
       "       [ 51.42857143],\n",
       "       [ 54.28571429],\n",
       "       [ 57.14285714],\n",
       "       [ 60.        ],\n",
       "       [ 62.85714286],\n",
       "       [ 65.71428571],\n",
       "       [ 68.57142857],\n",
       "       [ 71.42857143],\n",
       "       [ 74.28571429],\n",
       "       [ 77.14285714],\n",
       "       [ 80.        ],\n",
       "       [ 82.85714286],\n",
       "       [ 85.71428571],\n",
       "       [ 88.57142857],\n",
       "       [ 91.42857143],\n",
       "       [ 94.28571429],\n",
       "       [ 97.14285714],\n",
       "       [100.        ],\n",
       "       [102.85714286],\n",
       "       [105.71428571],\n",
       "       [108.57142857],\n",
       "       [111.42857143],\n",
       "       [114.28571429],\n",
       "       [117.14285714],\n",
       "       [120.        ],\n",
       "       [122.85714286],\n",
       "       [125.71428571],\n",
       "       [128.57142857],\n",
       "       [131.42857143],\n",
       "       [134.28571429],\n",
       "       [137.14285714],\n",
       "       [140.        ]])"
      ]
     },
     "execution_count": 34,
     "metadata": {},
     "output_type": "execute_result"
    }
   ],
   "source": [
    "np.linspace(0, max(heart_rates_unique)+50)"
   ]
  },
  {
   "cell_type": "code",
   "execution_count": 1,
   "metadata": {},
   "outputs": [
    {
     "data": {
      "text/plain": [
       "10"
      ]
     },
     "execution_count": 1,
     "metadata": {},
     "output_type": "execute_result"
    }
   ],
   "source": [
    "5+5"
   ]
  },
  {
   "cell_type": "code",
   "execution_count": 3,
   "metadata": {},
   "outputs": [],
   "source": [
    "import datetime\n",
    "def handle_feb29(date, year, as_string=True):\n",
    "    try:\n",
    "        date = date.replace(year=year)\n",
    "    except:\n",
    "        if date.month == 2 and date.day == 29:\n",
    "            date = date.replace(day=28).replace(year=year)\n",
    "\n",
    "    if as_string:\n",
    "        return date.strftime(\"%m/%d/%Y\")\n",
    "    else:\n",
    "        return date "
   ]
  },
  {
   "cell_type": "code",
   "execution_count": 4,
   "metadata": {},
   "outputs": [],
   "source": [
    "d = datetime.datetime.now()"
   ]
  },
  {
   "cell_type": "code",
   "execution_count": 7,
   "metadata": {},
   "outputs": [
    {
     "data": {
      "text/plain": [
       "datetime.datetime(2021, 1, 22, 13, 4, 28, 98089)"
      ]
     },
     "execution_count": 7,
     "metadata": {},
     "output_type": "execute_result"
    }
   ],
   "source": [
    "handle_feb29(d, 2021, as_string=False)"
   ]
  },
  {
   "cell_type": "code",
   "execution_count": null,
   "metadata": {},
   "outputs": [],
   "source": []
  }
 ],
 "metadata": {
  "kernelspec": {
   "display_name": "cs472",
   "language": "python",
   "name": "cs472"
  },
  "language_info": {
   "codemirror_mode": {
    "name": "ipython",
    "version": 3
   },
   "file_extension": ".py",
   "mimetype": "text/x-python",
   "name": "python",
   "nbconvert_exporter": "python",
   "pygments_lexer": "ipython3",
   "version": "3.6.8"
  }
 },
 "nbformat": 4,
 "nbformat_minor": 2
}
