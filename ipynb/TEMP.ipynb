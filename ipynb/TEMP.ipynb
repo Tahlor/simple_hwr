{
 "cells": [
  {
   "cell_type": "code",
   "execution_count": 31,
   "metadata": {},
   "outputs": [],
   "source": [
    "from pathlib import Path\n",
    "import pickle\n",
    "path = Path(\"/media/data/GitHub/simple_hwr/data/online_coordinate_data/3_stroke_64_v2/test_online_coords.pickle\")\n",
    "d = pickle.load(path.open(\"rb\"))"
   ]
  },
  {
   "cell_type": "code",
   "execution_count": 32,
   "metadata": {},
   "outputs": [
    {
     "name": "stdout",
     "output_type": "stream",
     "text": [
      "0\n"
     ]
    }
   ],
   "source": [
    "print(len(d))"
   ]
  },
  {
   "cell_type": "code",
   "execution_count": null,
   "metadata": {},
   "outputs": [],
   "source": [
    "2+2"
   ]
  },
  {
   "cell_type": "code",
   "execution_count": null,
   "metadata": {},
   "outputs": [],
   "source": [
    "print(4)"
   ]
  },
  {
   "cell_type": "code",
   "execution_count": 16,
   "metadata": {},
   "outputs": [],
   "source": [
    "\n",
    "times = \"4h 11m\",\"2h 22m\",\"2h 43m\",\"2h 59m\",\"3h 39m\",\"3h 32m\",\"3h 36m\",\"2h 30m\",\"3h 4m\",\"4h 14m\",\"1h 51m\",\"4h 7m\",\"3h 24m\",\"2h 52m\",\"1h 57m\",\"3h 50m\",\"3h 39m\",\"4h 32m\",\"4h 42m\",\"5h 44m\",\"2h 52m\",\"2h 41m\",\"1h 41m\",\"5h 16m\",\"2h 54m\",\"2h 43m\",\"2h 30m\",\"2h 50m\",\"6h 20m\",\"2h 0m\",\"3h 5m\",\"2h 32m\",\"3h 12m\",\"3h 3m\",\"3h 53m\",\"2h 19m\",\"1h 54m\",\"4h 11m\",\"2h 15m\",\"2h 25m\",\"2h 21m\",\"2h 18m\",\"2h 39m\"\n",
    "\n",
    "times2 = []\n",
    "for t in times:\n",
    "    t = t.replace(\"h\", \"\").replace(\"m\", \"\").split(\" \")\n",
    "    times2.append((int(t[0])*60 + int(t[1]) )/60)"
   ]
  },
  {
   "cell_type": "code",
   "execution_count": 17,
   "metadata": {},
   "outputs": [
    {
     "name": "stdout",
     "output_type": "stream",
     "text": [
      "[4.183333333333334, 2.3666666666666667, 2.716666666666667, 2.9833333333333334, 3.65, 3.533333333333333, 3.6, 2.5, 3.066666666666667, 4.233333333333333, 1.85, 4.116666666666666, 3.4, 2.8666666666666667, 1.95, 3.8333333333333335, 3.65, 4.533333333333333, 4.7, 5.733333333333333, 2.8666666666666667, 2.683333333333333, 1.6833333333333333, 5.266666666666667, 2.9, 2.716666666666667, 2.5, 2.8333333333333335, 6.333333333333333, 2.0, 3.0833333333333335, 2.533333333333333, 3.2, 3.05, 3.8833333333333333, 2.316666666666667, 1.9, 4.183333333333334, 2.25, 2.4166666666666665, 2.35, 2.3, 2.65]\n"
     ]
    }
   ],
   "source": [
    "print(times2)"
   ]
  },
  {
   "cell_type": "code",
   "execution_count": 28,
   "metadata": {},
   "outputs": [
    {
     "name": "stdout",
     "output_type": "stream",
     "text": [
      "Mean: 3.1945736434108527\n",
      "Median: 2.9\n",
      "Std Dev: 1.03773581380506\n"
     ]
    },
    {
     "data": {
      "image/png": "[encoded data removed]",
      "text/plain": [
       "<Figure size 432x288 with 1 Axes>"
      ]
     },
     "metadata": {
      "needs_background": "light"
     },
     "output_type": "display_data"
    }
   ],
   "source": [
    "import matplotlib.pyplot as plt\n",
    "import numpy as np\n",
    "plt.xlabel('Hours', fontsize=18)\n",
    "plt.ylabel('Students', fontsize=18)\n",
    "\n",
    "plt.hist(times2)\n",
    "print(\"Mean:\", np.mean(times2))\n",
    "print(\"Median:\", np.median(times2))\n",
    "print(\"Std Dev:\", np.std(times2))"
   ]
  },
  {
   "cell_type": "code",
   "execution_count": 36,
   "metadata": {},
   "outputs": [
    {
     "data": {
      "text/plain": [
       "['(NCAA) Basketball',\n",
       " 'IMDB Revenue',\n",
       " 'Mass Spec',\n",
       " 'China Firewall I',\n",
       " 'Video Game Rating',\n",
       " 'Stock Market I',\n",
       " 'Checkers',\n",
       " 'IMDB Rating',\n",
       " 'Weather',\n",
       " 'Story Origin']"
      ]
     },
     "execution_count": 36,
     "metadata": {},
     "output_type": "execute_result"
    }
   ],
   "source": [
    "import numpy as np\n",
    "\n",
    "x =[\"China Firewall I\",\"IMDB Rating\",\"Checkers\",\"Stock Market I\",\"Video Game Rating\",\"IMDB Revenue\",\"Mass Spec\",\"Story Origin\",\"(NCAA) Basketball\",\"Weather\"]\n",
    "np.random.shuffle(x)\n",
    "x\n",
    "\n"
   ]
  },
  {
   "cell_type": "code",
   "execution_count": 155,
   "metadata": {},
   "outputs": [
    {
     "name": "stdout",
     "output_type": "stream",
     "text": [
      "[array([[1, 2, 3, 4],\n",
      "       [4, 5, 3, 5]]), array([[1, 2, 3],\n",
      "       [4, 5, 3]]), array([[1, 2],\n",
      "       [4, 5]])]\n",
      "[[ True  True  True  True]\n",
      " [ True  True  True False]\n",
      " [ True  True False False]]\n",
      "[[[ True  True  True  True]\n",
      "  [ True  True  True  True]]\n",
      "\n",
      " [[ True  True  True False]\n",
      "  [ True  True  True False]]\n",
      "\n",
      " [[ True  True False False]\n",
      "  [ True  True False False]]]\n",
      "[[[0. 0. 0. 0.]\n",
      "  [0. 0. 0. 0.]]\n",
      "\n",
      " [[0. 0. 0. 0.]\n",
      "  [0. 0. 0. 0.]]\n",
      "\n",
      " [[0. 0. 0. 0.]\n",
      "  [0. 0. 0. 0.]]]\n"
     ]
    },
    {
     "ename": "ValueError",
     "evalue": "all the input array dimensions for the concatenation axis must match exactly, but along dimension 1, the array at index 0 has size 4 and the array at index 1 has size 3",
     "output_type": "error",
     "traceback": [
      "\u001b[0;31m---------------------------------------------------------------------------\u001b[0m",
      "\u001b[0;31mValueError\u001b[0m                                Traceback (most recent call last)",
      "\u001b[0;32m<ipython-input-155-f906ec6586ad>\u001b[0m in \u001b[0;36m<module>\u001b[0;34m\u001b[0m\n\u001b[1;32m     18\u001b[0m \u001b[0;31m#x = [[1,2,3],[1,2]]\u001b[0m\u001b[0;34m\u001b[0m\u001b[0;34m\u001b[0m\u001b[0;34m\u001b[0m\u001b[0m\n\u001b[1;32m     19\u001b[0m \u001b[0mprint\u001b[0m\u001b[0;34m(\u001b[0m\u001b[0mx\u001b[0m\u001b[0;34m)\u001b[0m\u001b[0;34m\u001b[0m\u001b[0;34m\u001b[0m\u001b[0m\n\u001b[0;32m---> 20\u001b[0;31m \u001b[0mpad\u001b[0m\u001b[0;34m(\u001b[0m\u001b[0mx\u001b[0m\u001b[0;34m)\u001b[0m\u001b[0;34m\u001b[0m\u001b[0;34m\u001b[0m\u001b[0m\n\u001b[0m",
      "\u001b[0;32m<ipython-input-155-f906ec6586ad>\u001b[0m in \u001b[0;36mpad\u001b[0;34m(list_of_numpy_arrays, lengths, variable_length_axis)\u001b[0m\n\u001b[1;32m     12\u001b[0m     \u001b[0mprint\u001b[0m\u001b[0;34m(\u001b[0m\u001b[0mmask\u001b[0m\u001b[0;34m)\u001b[0m\u001b[0;34m\u001b[0m\u001b[0;34m\u001b[0m\u001b[0m\n\u001b[1;32m     13\u001b[0m     \u001b[0mprint\u001b[0m\u001b[0;34m(\u001b[0m\u001b[0marr\u001b[0m\u001b[0;34m)\u001b[0m\u001b[0;34m\u001b[0m\u001b[0;34m\u001b[0m\u001b[0m\n\u001b[0;32m---> 14\u001b[0;31m     \u001b[0marr\u001b[0m\u001b[0;34m[\u001b[0m\u001b[0mmask\u001b[0m\u001b[0;34m]\u001b[0m \u001b[0;34m=\u001b[0m \u001b[0mnp\u001b[0m\u001b[0;34m.\u001b[0m\u001b[0mconcatenate\u001b[0m\u001b[0;34m(\u001b[0m\u001b[0mlist_of_numpy_arrays\u001b[0m\u001b[0;34m)\u001b[0m  \u001b[0;31m# fast 1d assignment\u001b[0m\u001b[0;34m\u001b[0m\u001b[0;34m\u001b[0m\u001b[0m\n\u001b[0m\u001b[1;32m     15\u001b[0m     \u001b[0;32mreturn\u001b[0m \u001b[0marr\u001b[0m\u001b[0;34m\u001b[0m\u001b[0;34m\u001b[0m\u001b[0m\n\u001b[1;32m     16\u001b[0m \u001b[0;34m\u001b[0m\u001b[0m\n",
      "\u001b[0;32m<__array_function__ internals>\u001b[0m in \u001b[0;36mconcatenate\u001b[0;34m(*args, **kwargs)\u001b[0m\n",
      "\u001b[0;31mValueError\u001b[0m: all the input array dimensions for the concatenation axis must match exactly, but along dimension 1, the array at index 0 has size 4 and the array at index 1 has size 3"
     ]
    }
   ],
   "source": [
    "def pad(list_of_numpy_arrays, lengths=None, variable_length_axis=1):\n",
    "    list_of_numpy_arrays = [np.asarray(l) for l in list_of_numpy_arrays]\n",
    "    \n",
    "    if lengths is None:\n",
    "        lengths = [l.shape[variable_length_axis] for l in list_of_numpy_arrays]  # only iteration\n",
    "    dims = list(list_of_numpy_arrays[0].shape)\n",
    "    maxlen = max(lengths)\n",
    "    dims[variable_length_axis] = maxlen\n",
    "    output_dims = len(list_of_numpy_arrays), *dims\n",
    "\n",
    "    arr = np.zeros(output_dims) # BATCH, VOCAB, LENGTH\n",
    "    mask = np.arange(maxlen) < np.array(lengths)[:, None]  # BATCH, MAX LENGTH\n",
    "    print(mask)\n",
    "    mask = np.tile(mask, (variable_length_axis+1)).reshape(output_dims)\n",
    "    print(mask)\n",
    "    print(arr)\n",
    "    arr[mask] = np.concatenate(list_of_numpy_arrays)  # fast 1d assignment\n",
    "    return arr\n",
    "\n",
    "x = [np.array([[1,2,3,4],[4,5,3,5]]),np.array([[1,2,3],[4,5,3]]),np.array([[1,2],[4,5]])]\n",
    "#x = [[1,2,3],[1,2]]\n",
    "print(x)\n",
    "pad(x)"
   ]
  },
  {
   "cell_type": "code",
   "execution_count": 58,
   "metadata": {},
   "outputs": [
    {
     "name": "stdout",
     "output_type": "stream",
     "text": [
      "[4, 5, 8]\n"
     ]
    }
   ],
   "source": [
    "x = [4,5,7,8]\n",
    "del x[2]\n",
    "print(x)"
   ]
  },
  {
   "cell_type": "code",
   "execution_count": 114,
   "metadata": {},
   "outputs": [
    {
     "ename": "ValueError",
     "evalue": "all the input array dimensions for the concatenation axis must match exactly, but along dimension 1, the array at index 0 has size 4 and the array at index 1 has size 3",
     "output_type": "error",
     "traceback": [
      "\u001b[0;31m---------------------------------------------------------------------------\u001b[0m",
      "\u001b[0;31mValueError\u001b[0m                                Traceback (most recent call last)",
      "\u001b[0;32m<ipython-input-114-ee53dc52b4c5>\u001b[0m in \u001b[0;36m<module>\u001b[0;34m\u001b[0m\n\u001b[1;32m      3\u001b[0m \u001b[0;31m# x = [l.transpose(1,0) for l in x]\u001b[0m\u001b[0;34m\u001b[0m\u001b[0;34m\u001b[0m\u001b[0;34m\u001b[0m\u001b[0m\n\u001b[1;32m      4\u001b[0m \u001b[0mx\u001b[0m \u001b[0;34m=\u001b[0m \u001b[0;34m[\u001b[0m\u001b[0mnp\u001b[0m\u001b[0;34m.\u001b[0m\u001b[0masarray\u001b[0m\u001b[0;34m(\u001b[0m\u001b[0ml\u001b[0m\u001b[0;34m)\u001b[0m \u001b[0;32mfor\u001b[0m \u001b[0ml\u001b[0m \u001b[0;32min\u001b[0m \u001b[0mx\u001b[0m\u001b[0;34m]\u001b[0m\u001b[0;34m\u001b[0m\u001b[0;34m\u001b[0m\u001b[0m\n\u001b[0;32m----> 5\u001b[0;31m \u001b[0mx\u001b[0m \u001b[0;34m=\u001b[0m \u001b[0mnp\u001b[0m\u001b[0;34m.\u001b[0m\u001b[0mconcatenate\u001b[0m\u001b[0;34m(\u001b[0m\u001b[0mx\u001b[0m\u001b[0;34m)\u001b[0m\u001b[0;34m\u001b[0m\u001b[0;34m\u001b[0m\u001b[0m\n\u001b[0m\u001b[1;32m      6\u001b[0m \u001b[0mx\u001b[0m\u001b[0;34m.\u001b[0m\u001b[0mtranspose\u001b[0m\u001b[0;34m(\u001b[0m\u001b[0;36m1\u001b[0m\u001b[0;34m,\u001b[0m\u001b[0;36m0\u001b[0m\u001b[0;34m)\u001b[0m\u001b[0;34m\u001b[0m\u001b[0;34m\u001b[0m\u001b[0m\n",
      "\u001b[0;32m<__array_function__ internals>\u001b[0m in \u001b[0;36mconcatenate\u001b[0;34m(*args, **kwargs)\u001b[0m\n",
      "\u001b[0;31mValueError\u001b[0m: all the input array dimensions for the concatenation axis must match exactly, but along dimension 1, the array at index 0 has size 4 and the array at index 1 has size 3"
     ]
    }
   ],
   "source": [
    "x = [[1,2,3],[1,2]]\n",
    "x = [np.array([[1,2,3,4],[4,5,3,5]]),np.array([[1,2,3],[4,5,3]]),np.array([[1,2],[4,5]])]\n",
    "# x = [l.transpose(1,0) for l in x]\n",
    "x = [np.asarray(l) for l in x]\n",
    "x = np.concatenate(x)\n",
    "x.transpose(1,0)"
   ]
  },
  {
   "cell_type": "code",
   "execution_count": 154,
   "metadata": {},
   "outputs": [
    {
     "name": "stdout",
     "output_type": "stream",
     "text": [
      "[array([[1, 2, 3, 4],\n",
      "       [4, 5, 3, 5]]), array([[1, 2, 3],\n",
      "       [4, 5, 3]]), array([[1, 2],\n",
      "       [4, 5]])]\n",
      "(3, 4, 2)\n",
      "(3, 4, 2)\n",
      "[[[ True  True]\n",
      "  [ True  True]\n",
      "  [ True  True]\n",
      "  [ True  True]]\n",
      "\n",
      " [[ True  True]\n",
      "  [ True False]\n",
      "  [ True  True]\n",
      "  [ True False]]\n",
      "\n",
      " [[ True  True]\n",
      "  [False False]\n",
      "  [ True  True]\n",
      "  [False False]]]\n",
      "[[[0. 0.]\n",
      "  [0. 0.]\n",
      "  [0. 0.]\n",
      "  [0. 0.]]\n",
      "\n",
      " [[0. 0.]\n",
      "  [0. 0.]\n",
      "  [0. 0.]\n",
      "  [0. 0.]]\n",
      "\n",
      " [[0. 0.]\n",
      "  [0. 0.]\n",
      "  [0. 0.]\n",
      "  [0. 0.]]]\n"
     ]
    },
    {
     "ename": "ValueError",
     "evalue": "zero-dimensional arrays cannot be concatenated",
     "output_type": "error",
     "traceback": [
      "\u001b[0;31m---------------------------------------------------------------------------\u001b[0m",
      "\u001b[0;31mValueError\u001b[0m                                Traceback (most recent call last)",
      "\u001b[0;32m<ipython-input-154-c6c3897a6b29>\u001b[0m in \u001b[0;36m<module>\u001b[0;34m\u001b[0m\n\u001b[1;32m     26\u001b[0m \u001b[0;34m\u001b[0m\u001b[0m\n\u001b[1;32m     27\u001b[0m \u001b[0mprint\u001b[0m\u001b[0;34m(\u001b[0m\u001b[0mx\u001b[0m\u001b[0;34m)\u001b[0m\u001b[0;34m\u001b[0m\u001b[0;34m\u001b[0m\u001b[0m\n\u001b[0;32m---> 28\u001b[0;31m \u001b[0mpad\u001b[0m\u001b[0;34m(\u001b[0m\u001b[0mx\u001b[0m\u001b[0;34m,\u001b[0m \u001b[0mvariable_length_axis\u001b[0m\u001b[0;34m=\u001b[0m\u001b[0;36m1\u001b[0m\u001b[0;34m)\u001b[0m\u001b[0;34m\u001b[0m\u001b[0;34m\u001b[0m\u001b[0m\n\u001b[0m",
      "\u001b[0;32m<ipython-input-154-c6c3897a6b29>\u001b[0m in \u001b[0;36mpad\u001b[0;34m(list_of_numpy_arrays, lengths, variable_length_axis)\u001b[0m\n\u001b[1;32m     18\u001b[0m     \u001b[0mprint\u001b[0m\u001b[0;34m(\u001b[0m\u001b[0marr\u001b[0m\u001b[0;34m)\u001b[0m\u001b[0;34m\u001b[0m\u001b[0;34m\u001b[0m\u001b[0m\n\u001b[1;32m     19\u001b[0m     \u001b[0mglobals\u001b[0m\u001b[0;34m(\u001b[0m\u001b[0;34m)\u001b[0m\u001b[0;34m.\u001b[0m\u001b[0mupdate\u001b[0m\u001b[0;34m(\u001b[0m\u001b[0mlocals\u001b[0m\u001b[0;34m(\u001b[0m\u001b[0;34m)\u001b[0m\u001b[0;34m)\u001b[0m\u001b[0;34m\u001b[0m\u001b[0;34m\u001b[0m\u001b[0m\n\u001b[0;32m---> 20\u001b[0;31m     \u001b[0marr\u001b[0m\u001b[0;34m[\u001b[0m\u001b[0mmask\u001b[0m\u001b[0;34m]\u001b[0m \u001b[0;34m=\u001b[0m \u001b[0mnp\u001b[0m\u001b[0;34m.\u001b[0m\u001b[0mconcatenate\u001b[0m\u001b[0;34m(\u001b[0m\u001b[0;34m[\u001b[0m\u001b[0;36m1\u001b[0m\u001b[0;34m,\u001b[0m\u001b[0;36m1\u001b[0m\u001b[0;34m]\u001b[0m\u001b[0;34m)\u001b[0m  \u001b[0;31m# fast 1d assignment\u001b[0m\u001b[0;34m\u001b[0m\u001b[0;34m\u001b[0m\u001b[0m\n\u001b[0m\u001b[1;32m     21\u001b[0m     \u001b[0;32mreturn\u001b[0m \u001b[0marr\u001b[0m\u001b[0;34m\u001b[0m\u001b[0;34m\u001b[0m\u001b[0m\n\u001b[1;32m     22\u001b[0m \u001b[0;34m\u001b[0m\u001b[0m\n",
      "\u001b[0;32m<__array_function__ internals>\u001b[0m in \u001b[0;36mconcatenate\u001b[0;34m(*args, **kwargs)\u001b[0m\n",
      "\u001b[0;31mValueError\u001b[0m: zero-dimensional arrays cannot be concatenated"
     ]
    }
   ],
   "source": [
    "def pad(list_of_numpy_arrays, lengths=None, variable_length_axis=1):\n",
    "    list_of_numpy_arrays = [np.asarray(l) for l in list_of_numpy_arrays]\n",
    "\n",
    "    if lengths is None:\n",
    "        lengths = [l.shape[1] for l in list_of_numpy_arrays]  # only iteration\n",
    "        if variable_length_axis!=0:\n",
    "            list_of_numpy_arrays = [l.transpose(1,0) for l in list_of_numpy_arrays]\n",
    "    dims = list(list_of_numpy_arrays[0].shape)\n",
    "    maxlen = max(lengths)\n",
    "    dims[0] = maxlen\n",
    "    output_dims = len(list_of_numpy_arrays), *dims\n",
    "    arr = np.zeros(output_dims) # BATCH, VOCAB, LENGTH\n",
    "    mask = np.arange(maxlen) < np.array(lengths)[:, None]  # BATCH, MAX LENGTH\n",
    "    mask = np.tile(mask, (dims[1])).reshape(output_dims)\n",
    "    print(mask.shape)\n",
    "    print(arr.shape)\n",
    "    print(mask)\n",
    "    print(arr)\n",
    "    globals().update(locals())\n",
    "    arr[mask] = np.concatenate(list_of_numpy_arrays)  # fast 1d assignment\n",
    "    return arr\n",
    "\n",
    "x = [np.array([[1,2,3,4],[4,5,3,5]]),np.array([[1,2,3],[4,5,3]]),np.array([[1,2],[4,5]])]\n",
    "#x = [[1,2,3],[1,2]]\n",
    "#list_of_numpy_arrays = [np.asarray(l) for l in list_of_numpy_arrays]\n",
    "\n",
    "print(x)\n",
    "pad(x, variable_length_axis=1)"
   ]
  },
  {
   "cell_type": "code",
   "execution_count": 138,
   "metadata": {},
   "outputs": [
    {
     "data": {
      "text/plain": [
       "array([1, 4, 2, 5, 3, 3, 4, 5])"
      ]
     },
     "execution_count": 138,
     "metadata": {},
     "output_type": "execute_result"
    }
   ],
   "source": [
    "x = [np.array([[1,2,3,4],[4,5,3,5]]),np.array([[1,2,3],[4,5,3]]),np.array([[1,2],[4,5]])]\n",
    "x = np.array([[1,2,3,4],[4,5,3,5]]).transpose(1,0).reshape(-1)\n",
    "x"
   ]
  },
  {
   "cell_type": "code",
   "execution_count": 142,
   "metadata": {},
   "outputs": [
    {
     "data": {
      "text/plain": [
       "array([1, 2, 3, 4, 4, 5, 3, 5])"
      ]
     },
     "execution_count": 142,
     "metadata": {},
     "output_type": "execute_result"
    }
   ],
   "source": [
    "x = np.array([[1,2,3,4],[4,5,3,5]]).reshape(-1)\n",
    "x"
   ]
  },
  {
   "cell_type": "code",
   "execution_count": 139,
   "metadata": {},
   "outputs": [],
   "source": [
    "y = np.concatenate([x, [0,0]])"
   ]
  },
  {
   "cell_type": "code",
   "execution_count": 140,
   "metadata": {},
   "outputs": [
    {
     "data": {
      "text/plain": [
       "array([[1, 4, 2, 5, 3],\n",
       "       [3, 4, 5, 0, 0]])"
      ]
     },
     "execution_count": 140,
     "metadata": {},
     "output_type": "execute_result"
    }
   ],
   "source": [
    "y.reshape(2,5)"
   ]
  },
  {
   "cell_type": "code",
   "execution_count": 150,
   "metadata": {},
   "outputs": [
    {
     "data": {
      "text/plain": [
       "array([0., 0., 0., 0., 0., 0., 0., 0.])"
      ]
     },
     "execution_count": 150,
     "metadata": {},
     "output_type": "execute_result"
    }
   ],
   "source": [
    "arr[0][mask[0]]\n",
    "#mask[0]"
   ]
  },
  {
   "cell_type": "code",
   "execution_count": 152,
   "metadata": {},
   "outputs": [
    {
     "data": {
      "text/plain": [
       "array([0., 0., 0., 0., 0., 0., 0., 0., 0., 0., 0., 0., 0., 0., 0., 0., 0.,\n",
       "       0.])"
      ]
     },
     "execution_count": 152,
     "metadata": {},
     "output_type": "execute_result"
    }
   ],
   "source": [
    "arr[mask] = "
   ]
  },
  {
   "cell_type": "code",
   "execution_count": 160,
   "metadata": {},
   "outputs": [
    {
     "name": "stdout",
     "output_type": "stream",
     "text": [
      "[array([[1, 2, 3, 4],\n",
      "       [4, 5, 3, 5]]), array([[1, 2, 3],\n",
      "       [4, 5, 3]]), array([[1, 2],\n",
      "       [4, 5]])]\n"
     ]
    },
    {
     "data": {
      "text/plain": [
       "array([[[1., 2., 3., 4.],\n",
       "        [4., 5., 3., 5.]],\n",
       "\n",
       "       [[1., 2., 3., 0.],\n",
       "        [4., 5., 3., 0.]],\n",
       "\n",
       "       [[1., 2., 0., 0.],\n",
       "        [4., 5., 0., 0.]]])"
      ]
     },
     "execution_count": 160,
     "metadata": {},
     "output_type": "execute_result"
    }
   ],
   "source": [
    "def pad(list_of_numpy_arrays, lengths=None, variable_length_axis=1):\n",
    "    dims = list(list_of_numpy_arrays[0].shape)\n",
    "\n",
    "    if lengths is None:\n",
    "        lengths = [l.shape[variable_length_axis] for l in list_of_numpy_arrays]  # only iteration\n",
    "    list_of_numpy_arrays = [np.asarray(l).reshape(-1) for l in list_of_numpy_arrays]   \n",
    "    batch_size = len(list_of_numpy_arrays)\n",
    "    maxlen = max(lengths)\n",
    "    dims[variable_length_axis] = maxlen\n",
    "    output_dims = batch_size, np.product(dims)\n",
    "    arr = np.zeros(output_dims) # BATCH, VOCAB, LENGTH\n",
    "    mask = np.arange(maxlen) < np.array(lengths)[:, None]  # BATCH, MAX LENGTH\n",
    "    mask = np.tile(mask, (variable_length_axis+1)).reshape(output_dims)\n",
    "    arr[mask] = np.concatenate(list_of_numpy_arrays)  # fast 1d assignment\n",
    "    return arr.reshape(batch_size, *dims)\n",
    "\n",
    "x = [np.array([[1,2,3,4],[4,5,3,5]]),np.array([[1,2,3],[4,5,3]]),np.array([[1,2],[4,5]])]\n",
    "#x = [[1,2,3],[1,2]]\n",
    "print(x)\n",
    "pad(x)"
   ]
  },
  {
   "cell_type": "code",
   "execution_count": 161,
   "metadata": {},
   "outputs": [
    {
     "ename": "ValueError",
     "evalue": "all the input array dimensions for the concatenation axis must match exactly, but along dimension 1, the array at index 0 has size 4 and the array at index 1 has size 3",
     "output_type": "error",
     "traceback": [
      "\u001b[0;31m---------------------------------------------------------------------------\u001b[0m",
      "\u001b[0;31mValueError\u001b[0m                                Traceback (most recent call last)",
      "\u001b[0;32m<ipython-input-161-f7d0a3ce63d3>\u001b[0m in \u001b[0;36m<module>\u001b[0;34m\u001b[0m\n\u001b[1;32m      6\u001b[0m     \u001b[0;32mreturn\u001b[0m \u001b[0mout\u001b[0m\u001b[0;34m\u001b[0m\u001b[0;34m\u001b[0m\u001b[0m\n\u001b[1;32m      7\u001b[0m \u001b[0;34m\u001b[0m\u001b[0m\n\u001b[0;32m----> 8\u001b[0;31m \u001b[0mboolean_indexing\u001b[0m\u001b[0;34m(\u001b[0m\u001b[0mx\u001b[0m\u001b[0;34m)\u001b[0m\u001b[0;34m\u001b[0m\u001b[0;34m\u001b[0m\u001b[0m\n\u001b[0m",
      "\u001b[0;32m<ipython-input-161-f7d0a3ce63d3>\u001b[0m in \u001b[0;36mboolean_indexing\u001b[0;34m(v)\u001b[0m\n\u001b[1;32m      3\u001b[0m     \u001b[0mmask\u001b[0m \u001b[0;34m=\u001b[0m \u001b[0mlens\u001b[0m\u001b[0;34m[\u001b[0m\u001b[0;34m:\u001b[0m\u001b[0;34m,\u001b[0m\u001b[0;32mNone\u001b[0m\u001b[0;34m]\u001b[0m \u001b[0;34m>\u001b[0m \u001b[0mnp\u001b[0m\u001b[0;34m.\u001b[0m\u001b[0marange\u001b[0m\u001b[0;34m(\u001b[0m\u001b[0mlens\u001b[0m\u001b[0;34m.\u001b[0m\u001b[0mmax\u001b[0m\u001b[0;34m(\u001b[0m\u001b[0;34m)\u001b[0m\u001b[0;34m)\u001b[0m\u001b[0;34m\u001b[0m\u001b[0;34m\u001b[0m\u001b[0m\n\u001b[1;32m      4\u001b[0m     \u001b[0mout\u001b[0m \u001b[0;34m=\u001b[0m \u001b[0mnp\u001b[0m\u001b[0;34m.\u001b[0m\u001b[0mzeros\u001b[0m\u001b[0;34m(\u001b[0m\u001b[0mmask\u001b[0m\u001b[0;34m.\u001b[0m\u001b[0mshape\u001b[0m\u001b[0;34m,\u001b[0m\u001b[0mdtype\u001b[0m\u001b[0;34m=\u001b[0m\u001b[0mint\u001b[0m\u001b[0;34m)\u001b[0m\u001b[0;34m\u001b[0m\u001b[0;34m\u001b[0m\u001b[0m\n\u001b[0;32m----> 5\u001b[0;31m     \u001b[0mout\u001b[0m\u001b[0;34m[\u001b[0m\u001b[0mmask\u001b[0m\u001b[0;34m]\u001b[0m \u001b[0;34m=\u001b[0m \u001b[0mnp\u001b[0m\u001b[0;34m.\u001b[0m\u001b[0mconcatenate\u001b[0m\u001b[0;34m(\u001b[0m\u001b[0mv\u001b[0m\u001b[0;34m)\u001b[0m\u001b[0;34m\u001b[0m\u001b[0;34m\u001b[0m\u001b[0m\n\u001b[0m\u001b[1;32m      6\u001b[0m     \u001b[0;32mreturn\u001b[0m \u001b[0mout\u001b[0m\u001b[0;34m\u001b[0m\u001b[0;34m\u001b[0m\u001b[0m\n\u001b[1;32m      7\u001b[0m \u001b[0;34m\u001b[0m\u001b[0m\n",
      "\u001b[0;32m<__array_function__ internals>\u001b[0m in \u001b[0;36mconcatenate\u001b[0;34m(*args, **kwargs)\u001b[0m\n",
      "\u001b[0;31mValueError\u001b[0m: all the input array dimensions for the concatenation axis must match exactly, but along dimension 1, the array at index 0 has size 4 and the array at index 1 has size 3"
     ]
    }
   ],
   "source": [
    "def boolean_indexing(v):\n",
    "    lens = np.array([len(item) for item in v])\n",
    "    mask = lens[:,None] > np.arange(lens.max())\n",
    "    out = np.zeros(mask.shape,dtype=int)\n",
    "    out[mask] = np.concatenate(v)\n",
    "    return out\n",
    "\n",
    "boolean_indexing(x)"
   ]
  },
  {
   "cell_type": "code",
   "execution_count": 177,
   "metadata": {},
   "outputs": [
    {
     "data": {
      "text/plain": [
       "array([[0.29475089, 0.58153143, 0.37117601, 0.70773152, 0.30343592],\n",
       "       [0.12539696, 0.06327324, 0.2935015 , 0.65524754, 0.00750574],\n",
       "       [0.34836654, 0.64262032, 0.36561937, 0.97984988, 0.11496523],\n",
       "       [0.5185118 , 0.83427045, 0.56917045, 0.9570811 , 0.43111781],\n",
       "       [0.90433549, 0.6707148 , 0.27425489, 0.13798813, 0.67712367]])"
      ]
     },
     "execution_count": 177,
     "metadata": {},
     "output_type": "execute_result"
    }
   ],
   "source": [
    "np.random.rand(5,5)"
   ]
  },
  {
   "cell_type": "code",
   "execution_count": null,
   "metadata": {},
   "outputs": [],
   "source": []
  }
 ],
 "metadata": {
  "kernelspec": {
   "display_name": "hwr5",
   "language": "python",
   "name": "hwr5"
  },
  "language_info": {
   "codemirror_mode": {
    "name": "ipython",
    "version": 3
   },
   "file_extension": ".py",
   "mimetype": "text/x-python",
   "name": "python",
   "nbconvert_exporter": "python",
   "pygments_lexer": "ipython3",
   "version": "3.7.3"
  }
 },
 "nbformat": 4,
 "nbformat_minor": 2
}
