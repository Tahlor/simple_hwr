{
 "cells": [
  {
   "cell_type": "code",
   "execution_count": null,
   "metadata": {},
   "outputs": [],
   "source": []
  },
  {
   "cell_type": "code",
   "execution_count": null,
   "metadata": {
    "collapsed": false,
    "pycharm": {
     "name": "#%%\n"
    }
   },
   "outputs": [],
   "source": [
    "array = np.array([1,0,0,0,0,0,0,0,1,0,0,0,0,0,1,0,0])\n",
    "start_indices = np.where(array)[0]\n",
    "start_point_ct = len(start_indices)\n",
    "total_point_ct = len(array)\n",
    "end_indices = np.append((start_indices-1)[1:], total_point_ct-1)\n",
    "\n",
    "xs = np.array(range(0, total_point_ct))*1.5\n",
    "x = np.interp(xs, np.append(start_indices*1.0, end_indices), np.append(np.ones(start_point_ct), np.zeros(start_point_ct)))\n",
    "\n",
    "print(x, xs, np.append(start_indices*1.0, end_indices))"
   ]
  },
  {
   "cell_type": "code",
   "execution_count": null,
   "metadata": {
    "collapsed": false,
    "pycharm": {
     "name": "#%%\n"
    }
   },
   "outputs": [],
   "source": [
    "array = np.array([1,0,0,0,0,0,0,0,1,0,0,0,0,0,1,0,0])\n",
    "start_indices = np.where(array)[0]\n",
    "start_point_ct = len(start_indices)\n",
    "total_point_ct = len(array)\n",
    "xs = np.repeat(start_indices,2)\n",
    "xs[::2] -= 1\n",
    "xs = np.append(xs[1:], total_point_ct)\n",
    "ys = np.zeros(2*start_point_ct)\n",
    "ys[1::2] += 1\n",
    "print(xs, ys)\n",
    "\n",
    "# make it distance traveled!\n",
    "\n",
    "interp_xs = np.array(range(0, total_point_ct))\n",
    "out = np.interp(interp_xs, xs, ys)\n",
    "print(out)"
   ]
  },
  {
   "cell_type": "code",
   "execution_count": null,
   "metadata": {
    "collapsed": false,
    "pycharm": {
     "name": "#%%\n"
    }
   },
   "outputs": [],
   "source": [
    "x = np.array([1,0,0,0,0,0,0,0,1,0,0,0,0,0,1,0,0])\n",
    "start_indices = np.where(x)\n",
    "#end_indices = start_indices-1\n",
    "\n",
    "print(start_indices)"
   ]
  },
  {
   "cell_type": "code",
   "execution_count": null,
   "metadata": {
    "collapsed": false,
    "pycharm": {
     "name": "#%%\n"
    }
   },
   "outputs": [],
   "source": [
    "m = np.array([1,0,0,0,0,0,0,0,1,0,0,0,0,0,1,0,0])\n",
    "np.append(m, 599, 5)"
   ]
  },
  {
   "cell_type": "code",
   "execution_count": 50,
   "metadata": {},
   "outputs": [
    {
     "ename": "TypeError",
     "evalue": "'RClass' object is not callable",
     "output_type": "error",
     "traceback": [
      "\u001b[0;31m---------------------------------------------------------------------------\u001b[0m",
      "\u001b[0;31mTypeError\u001b[0m                                 Traceback (most recent call last)",
      "\u001b[0;32m<ipython-input-50-47a8787ec5fe>\u001b[0m in \u001b[0;36m<module>\u001b[0;34m\u001b[0m\n\u001b[0;32m----> 1\u001b[0;31m \u001b[0mnp\u001b[0m\u001b[0;34m.\u001b[0m\u001b[0mr_\u001b[0m\u001b[0;34m(\u001b[0m\u001b[0mstart_indices\u001b[0m\u001b[0;34m,\u001b[0m \u001b[0mend_indices\u001b[0m\u001b[0;34m)\u001b[0m\u001b[0;34m\u001b[0m\u001b[0;34m\u001b[0m\u001b[0m\n\u001b[0m",
      "\u001b[0;31mTypeError\u001b[0m: 'RClass' object is not callable"
     ]
    }
   ],
   "source": []
  },
  {
   "cell_type": "code",
   "execution_count": 61,
   "metadata": {},
   "outputs": [
    {
     "name": "stdout",
     "output_type": "stream",
     "text": [
      "[1. 1. 1. 1. 1. 1. 1. 1. 1. 1. 0. 0. 0. 0. 0. 0. 0.] [ 0.   1.5  3.   4.5  6.   7.5  9.  10.5 12.  13.5 15.  16.5 18.  19.5\n",
      " 21.  22.5 24. ] [ 0.  8. 14.  7. 13. 17.]\n"
     ]
    }
   ],
   "source": [
    "array = np.array([1,0,0,0,0,0,0,0,1,0,0,0,0,0,1,0,0])\n",
    "start_indices = np.where(array)[0]\n",
    "start_point_ct = len(start_indices)\n",
    "total_point_ct = len(array)\n",
    "end_indices = np.append((start_indices-1)[1:], total_point_ct)\n",
    "\n",
    "xs = np.array(range(0, total_point_ct))*1.5\n",
    "x = np.interp(xs, np.append(start_indices*1.0, end_indices), np.append(np.ones(start_point_ct), np.zeros(start_point_ct)))\n",
    "\n",
    "print(x, xs, np.append(start_indices*1.0, end_indices))"
   ]
  },
  {
   "cell_type": "code",
   "execution_count": 79,
   "metadata": {},
   "outputs": [
    {
     "name": "stdout",
     "output_type": "stream",
     "text": [
      "[ 0  7  8 13 14 17] [0. 1. 0. 1. 0. 1.]\n",
      "[0.         0.14285714 0.28571429 0.42857143 0.57142857 0.71428571\n",
      " 0.85714286 1.         0.         0.2        0.4        0.6\n",
      " 0.8        1.         0.         0.33333333 0.66666667]\n"
     ]
    }
   ],
   "source": [
    "array = np.array([1,0,0,0,0,0,0,0,1,0,0,0,0,0,1,0,0])\n",
    "start_indices = np.where(array)[0]\n",
    "start_point_ct = len(start_indices)\n",
    "total_point_ct = len(array)\n",
    "xs = np.repeat(start_indices,2)\n",
    "xs[::2] -= 1\n",
    "xs = np.append(xs[1:], total_point_ct)\n",
    "ys = np.zeros(2*start_point_ct)\n",
    "ys[1::2] += 1\n",
    "print(xs, ys)\n",
    "\n",
    "# make it distance traveled!\n",
    "\n",
    "interp_xs = np.array(range(0, total_point_ct))\n",
    "out = np.interp(interp_xs, xs, ys)\n",
    "print(out)"
   ]
  },
  {
   "cell_type": "code",
   "execution_count": null,
   "metadata": {},
   "outputs": [],
   "source": [
    "x = np.array([1,0,0,0,0,0,0,0,1,0,0,0,0,0,1,0,0])\n",
    "start_indices = np.where(x)\n",
    "#end_indices = start_indices-1\n",
    "\n",
    "print(start_indices)"
   ]
  },
  {
   "cell_type": "code",
   "execution_count": 36,
   "metadata": {},
   "outputs": [
    {
     "ename": "IndexError",
     "evalue": "index 599 is out of bounds for axis 0 with size 17",
     "output_type": "error",
     "traceback": [
      "\u001b[0;31m---------------------------------------------------------------------------\u001b[0m",
      "\u001b[0;31mIndexError\u001b[0m                                Traceback (most recent call last)",
      "\u001b[0;32m<ipython-input-36-907024ed458f>\u001b[0m in \u001b[0;36m<module>\u001b[0;34m\u001b[0m\n\u001b[1;32m      1\u001b[0m \u001b[0mm\u001b[0m \u001b[0;34m=\u001b[0m \u001b[0mnp\u001b[0m\u001b[0;34m.\u001b[0m\u001b[0marray\u001b[0m\u001b[0;34m(\u001b[0m\u001b[0;34m[\u001b[0m\u001b[0;36m1\u001b[0m\u001b[0;34m,\u001b[0m\u001b[0;36m0\u001b[0m\u001b[0;34m,\u001b[0m\u001b[0;36m0\u001b[0m\u001b[0;34m,\u001b[0m\u001b[0;36m0\u001b[0m\u001b[0;34m,\u001b[0m\u001b[0;36m0\u001b[0m\u001b[0;34m,\u001b[0m\u001b[0;36m0\u001b[0m\u001b[0;34m,\u001b[0m\u001b[0;36m0\u001b[0m\u001b[0;34m,\u001b[0m\u001b[0;36m0\u001b[0m\u001b[0;34m,\u001b[0m\u001b[0;36m1\u001b[0m\u001b[0;34m,\u001b[0m\u001b[0;36m0\u001b[0m\u001b[0;34m,\u001b[0m\u001b[0;36m0\u001b[0m\u001b[0;34m,\u001b[0m\u001b[0;36m0\u001b[0m\u001b[0;34m,\u001b[0m\u001b[0;36m0\u001b[0m\u001b[0;34m,\u001b[0m\u001b[0;36m0\u001b[0m\u001b[0;34m,\u001b[0m\u001b[0;36m1\u001b[0m\u001b[0;34m,\u001b[0m\u001b[0;36m0\u001b[0m\u001b[0;34m,\u001b[0m\u001b[0;36m0\u001b[0m\u001b[0;34m]\u001b[0m\u001b[0;34m)\u001b[0m\u001b[0;34m\u001b[0m\u001b[0;34m\u001b[0m\u001b[0m\n\u001b[0;32m----> 2\u001b[0;31m \u001b[0mnp\u001b[0m\u001b[0;34m.\u001b[0m\u001b[0minsert\u001b[0m\u001b[0;34m(\u001b[0m\u001b[0mm\u001b[0m\u001b[0;34m,\u001b[0m \u001b[0;36m599\u001b[0m\u001b[0;34m,\u001b[0m \u001b[0;36m5\u001b[0m\u001b[0;34m)\u001b[0m\u001b[0;34m\u001b[0m\u001b[0;34m\u001b[0m\u001b[0m\n\u001b[0m",
      "\u001b[0;32m<__array_function__ internals>\u001b[0m in \u001b[0;36minsert\u001b[0;34m(*args, **kwargs)\u001b[0m\n",
      "\u001b[0;32m~/anaconda3/envs/hwr5/lib/python3.7/site-packages/numpy/lib/function_base.py\u001b[0m in \u001b[0;36minsert\u001b[0;34m(arr, obj, values, axis)\u001b[0m\n\u001b[1;32m   4582\u001b[0m             raise IndexError(\n\u001b[1;32m   4583\u001b[0m                 \u001b[0;34m\"index %i is out of bounds for axis %i with \"\u001b[0m\u001b[0;34m\u001b[0m\u001b[0;34m\u001b[0m\u001b[0m\n\u001b[0;32m-> 4584\u001b[0;31m                 \"size %i\" % (obj, axis, N))\n\u001b[0m\u001b[1;32m   4585\u001b[0m         \u001b[0;32mif\u001b[0m \u001b[0;34m(\u001b[0m\u001b[0mindex\u001b[0m \u001b[0;34m<\u001b[0m \u001b[0;36m0\u001b[0m\u001b[0;34m)\u001b[0m\u001b[0;34m:\u001b[0m\u001b[0;34m\u001b[0m\u001b[0;34m\u001b[0m\u001b[0m\n\u001b[1;32m   4586\u001b[0m             \u001b[0mindex\u001b[0m \u001b[0;34m+=\u001b[0m \u001b[0mN\u001b[0m\u001b[0;34m\u001b[0m\u001b[0;34m\u001b[0m\u001b[0m\n",
      "\u001b[0;31mIndexError\u001b[0m: index 599 is out of bounds for axis 0 with size 17"
     ]
    }
   ],
   "source": [
    "m = np.array([1,0,0,0,0,0,0,0,1,0,0,0,0,0,1,0,0])\n",
    "np.append(m, 599, 5)"
   ]
  },
  {
   "cell_type": "code",
   "execution_count": 2,
   "metadata": {},
   "outputs": [
    {
     "data": {
      "text/plain": [
       "array([ 4.24264069, 11.3137085 , 19.79898987, 22.627417  ])"
      ]
     },
     "execution_count": 2,
     "metadata": {},
     "output_type": "execute_result"
    }
   ],
   "source": [
    "import numpy as np\n",
    "def calc_distance(x,y):\n",
    "    return ((x[:-1] - x[1:])**2+(y[:-1] - y[1:])**2)**(1/2)\n",
    "\n",
    "def calc_stroke_distances(x,y,start_strokes):\n",
    "    [start_indices] = np.where(m)\n",
    "    total_point_ct = len(start_strokes)\n",
    "    end_indices = np.append((start_indices-1)[1:], total_point_ct-2) # one because legnth is +1, one because length is shortened after calculating distance\n",
    "    distances = calc_distance(x,y)\n",
    "    cum_sum = np.cumsum(distances)\n",
    "    lengths = cum_sum[end_indices]\n",
    "    return lengths\n",
    "\n",
    "x = np.array(range(0,17))#**2\n",
    "y = np.array(range(0,17))#**2\n",
    "m = np.array([1,0,0,1,0,0,0,0,1,0,0,0,0,0,1,0,0])\n",
    "calc_stroke_distances(x,y,m)"
   ]
  },
  {
   "cell_type": "code",
   "execution_count": 3,
   "metadata": {},
   "outputs": [
    {
     "name": "stdout",
     "output_type": "stream",
     "text": [
      "[ 0  2  3  7  8 13 14 17] [ 0.          4.24264069  0.         11.3137085   0.         19.79898987\n",
      "  0.         22.627417  ]\n",
      "[ 0.          2.12132034  4.24264069  0.          2.82842712  5.65685425\n",
      "  8.48528137 11.3137085   0.          3.95979797  7.91959595 11.87939392\n",
      " 15.8391919  19.79898987  0.          7.54247233 15.08494467]\n"
     ]
    }
   ],
   "source": [
    "start_points = np.array([1,0,0,1,0,0,0,0,1,0,0,0,0,0,1,0,0])\n",
    "start_indices = np.where(start_points)[0]\n",
    "start_point_ct = len(start_indices)\n",
    "total_point_ct = len(start_points)\n",
    "\n",
    "# Create list of start and end points (x's for interpolation)\n",
    "xs = np.repeat(start_indices,2)\n",
    "xs[::2] -= 1\n",
    "xs = np.append(xs[1:], total_point_ct)\n",
    "\n",
    "## Create y's for interpolation (the target values)\n",
    "ys = np.zeros(2*start_point_ct)\n",
    "\n",
    "# Make each stroke length 1\n",
    "#ys[1::2] += 1\n",
    "\n",
    "# Make each target the actual stroke length\n",
    "distances = calc_stroke_distances(x,y, start_points)\n",
    "ys[1::2] = distances\n",
    "print(xs, ys)\n",
    "\n",
    "interp_xs = np.array(range(0, total_point_ct))\n",
    "out = np.interp(interp_xs, xs, ys)\n",
    "print(out)"
   ]
  },
  {
   "cell_type": "code",
   "execution_count": 33,
   "metadata": {},
   "outputs": [
    {
     "data": {
      "text/plain": [
       "17"
      ]
     },
     "execution_count": 33,
     "metadata": {},
     "output_type": "execute_result"
    }
   ],
   "source": [
    "len([1,0,0,1,0,0,0,0,1,0,0,0,0,0,1,0,0])"
   ]
  },
  {
   "cell_type": "code",
   "execution_count": 35,
   "metadata": {},
   "outputs": [
    {
     "name": "stderr",
     "output_type": "stream",
     "text": [
      "<ipython-input-35-94f2b4b76aa7>:1: DeprecationWarning: The binary mode of fromstring is deprecated, as it behaves surprisingly on unicode inputs. Use frombuffer instead\n",
      "  np.fromstring(\"\"\"[0.         1.41421356 2.82842712 0.         1.41421356 2.82842712, 4.24264069 5.65685425 0.\n"
     ]
    },
    {
     "ename": "ValueError",
     "evalue": "string size must be a multiple of element size",
     "output_type": "error",
     "traceback": [
      "\u001b[0;31m---------------------------------------------------------------------------\u001b[0m",
      "\u001b[0;31mValueError\u001b[0m                                Traceback (most recent call last)",
      "\u001b[0;32m<ipython-input-35-94f2b4b76aa7>\u001b[0m in \u001b[0;36m<module>\u001b[0;34m\u001b[0m\n\u001b[0;32m----> 1\u001b[0;31m np.fromstring(\"\"\"[0.         1.41421356 2.82842712 0.         1.41421356 2.82842712, 4.24264069 5.65685425 0.\n\u001b[0m\u001b[1;32m      2\u001b[0m                                1.41421356 2.82842712 4.24264069 5.65685425 7.07106781 0.         1.41421356 2.82842712]\"\"\")\n",
      "\u001b[0;31mValueError\u001b[0m: string size must be a multiple of element size"
     ]
    }
   ],
   "source": [
    "np.fromstring(\"\"\"[0.         1.41421356 2.82842712 0.         1.41421356 2.82842712, 4.24264069 5.65685425 0.\n",
    "                               1.41421356 2.82842712 4.24264069 5.65685425 7.07106781 0.         1.41421356 2.82842712]\"\"\")"
   ]
  },
  {
   "cell_type": "code",
   "execution_count": 43,
   "metadata": {},
   "outputs": [
    {
     "ename": "SyntaxError",
     "evalue": "invalid syntax (<unknown>, line 1)",
     "output_type": "error",
     "traceback": [
      "Traceback \u001b[0;36m(most recent call last)\u001b[0m:\n",
      "  File \u001b[1;32m\"/home/taylor/anaconda3/envs/hwr/lib/python3.8/site-packages/IPython/core/interactiveshell.py\"\u001b[0m, line \u001b[1;32m3319\u001b[0m, in \u001b[1;35mrun_code\u001b[0m\n    exec(code_obj, self.user_global_ns, self.user_ns)\n",
      "  File \u001b[1;32m\"<ipython-input-43-4d50038fe780>\"\u001b[0m, line \u001b[1;32m12\u001b[0m, in \u001b[1;35m<module>\u001b[0m\n    to_numpy(a)\n",
      "  File \u001b[1;32m\"<ipython-input-43-4d50038fe780>\"\u001b[0m, line \u001b[1;32m10\u001b[0m, in \u001b[1;35mto_numpy\u001b[0m\n    array_string = np.array(literal_eval(array_string))\n",
      "  File \u001b[1;32m\"/home/taylor/anaconda3/envs/hwr/lib/python3.8/ast.py\"\u001b[0m, line \u001b[1;32m59\u001b[0m, in \u001b[1;35mliteral_eval\u001b[0m\n    node_or_string = parse(node_or_string, mode='eval')\n",
      "\u001b[0;36m  File \u001b[0;32m\"/home/taylor/anaconda3/envs/hwr/lib/python3.8/ast.py\"\u001b[0;36m, line \u001b[0;32m47\u001b[0;36m, in \u001b[0;35mparse\u001b[0;36m\u001b[0m\n\u001b[0;31m    return compile(source, filename, mode, flags,\u001b[0m\n",
      "\u001b[0;36m  File \u001b[0;32m\"<unknown>\"\u001b[0;36m, line \u001b[0;32m1\u001b[0m\n\u001b[0;31m    [0.,,1.41421356,2.82842712,0.,1.41421356,2.82842712,4.24264069,5.65685425,0.,1.41421356,2.82842712,4.24264069,5.65685425,7.07106781,0.,1.41421356,2.82842712]\u001b[0m\n\u001b[0m        ^\u001b[0m\n\u001b[0;31mSyntaxError\u001b[0m\u001b[0;31m:\u001b[0m invalid syntax\n"
     ]
    }
   ],
   "source": [
    "from ast import literal_eval\n",
    "import numpy as np\n",
    "import re \n",
    "a = \"\"\"[0.,         1.41421356 2.82842712 0.         1.41421356 2.82842712 4.24264069 5.65685425 0.  1.41421356 2.82842712 4.24264069 5.65685425 7.07106781 0.         1.41421356 2.82842712]\"\"\"\n",
    "def to_numpy(array_string):\n",
    "    from ast import literal_eval\n",
    "    import numpy as np\n",
    "    import re\n",
    "    array_string = re.sub('\\s+', ',', array_string)\n",
    "    array_string = np.array(literal_eval(array_string))\n",
    "    return array_string\n",
    "to_numpy(a)"
   ]
  },
  {
   "cell_type": "code",
   "execution_count": 50,
   "metadata": {},
   "outputs": [
    {
     "name": "stdout",
     "output_type": "stream",
     "text": [
      "[1 0 0 1 0 0 0 0 1 0 0 0 0 0 1 0 0]\n",
      "[0 0 0 1 0 0 0 0 0 1 0 0]\n"
     ]
    }
   ],
   "source": [
    "print(m)\n",
    "print(m[slice(5,None)])"
   ]
  },
  {
   "cell_type": "code",
   "execution_count": 4,
   "metadata": {},
   "outputs": [],
   "source": [
    "import sys\n",
    "sys.path.append(\"..\")\n",
    "import stroke_recovery "
   ]
  },
  {
   "cell_type": "code",
   "execution_count": 8,
   "metadata": {},
   "outputs": [
    {
     "name": "stdout",
     "output_type": "stream",
     "text": [
      "(17,)\n"
     ]
    },
    {
     "data": {
      "text/plain": [
       "(17,)"
      ]
     },
     "execution_count": 8,
     "metadata": {},
     "output_type": "execute_result"
    }
   ],
   "source": [
    "x = np.array(range(0,17))#**2\n",
    "y = np.array(range(0,17))#**2\n",
    "is_start_stroke = np.array([1,0,0,1,0,0,0,0,1,0,0,0,0,0,1,0,0])\n",
    "\n",
    "print(x.shape)\n",
    "stroke_recovery.get_stroke_length_gt(x, y, is_start_stroke).shape\n"
   ]
  },
  {
   "cell_type": "code",
   "execution_count": 55,
   "metadata": {},
   "outputs": [],
   "source": [
    "x = np.array(range(0,100)).reshape(10,-1)\n"
   ]
  },
  {
   "cell_type": "code",
   "execution_count": 61,
   "metadata": {},
   "outputs": [
    {
     "data": {
      "text/plain": [
       "array([[22, 23, 29, 28],\n",
       "       [32, 33, 39, 38]])"
      ]
     },
     "execution_count": 61,
     "metadata": {},
     "output_type": "execute_result"
    }
   ],
   "source": [
    "x[(2,3),:][:,(2,3,9,8)]"
   ]
  },
  {
   "cell_type": "code",
   "execution_count": 64,
   "metadata": {},
   "outputs": [
    {
     "data": {
      "text/plain": [
       "[3]"
      ]
     },
     "execution_count": 64,
     "metadata": {},
     "output_type": "execute_result"
    }
   ],
   "source": [
    "pred_opts = [1,1,1,\"cumsum\"]\n",
    "[i for i,x in enumerate(pred_opts) if x==\"cumsum\"]\n"
   ]
  }
 ],
 "metadata": {
  "kernelspec": {
   "display_name": "hwr5",
   "language": "python",
   "name": "hwr5"
  },
  "language_info": {
   "codemirror_mode": {
    "name": "ipython",
    "version": 3
   },
   "file_extension": ".py",
   "mimetype": "text/x-python",
   "name": "python",
   "nbconvert_exporter": "python",
   "pygments_lexer": "ipython3",
   "version": "3.7.3"
  }
 },
 "nbformat": 4,
 "nbformat_minor": 2
}
