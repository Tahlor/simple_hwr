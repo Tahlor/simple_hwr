{
 "cells": [
  {
   "cell_type": "code",
   "execution_count": 14,
   "metadata": {},
   "outputs": [],
   "source": [
    "%reload_ext autoreload\n",
    "%autoreload 2\n",
    "\n",
    "import sys\n",
    "sys.path.append(\"../../\")\n",
    "sys.path.append(\"../\")\n",
    "sys.path.append(\"/media/data/GitHub/simple_hwr\")\n",
    "import os\n",
    "import numpy as np\n",
    "from hwr_utils import *\n",
    "from hwr_utils.stroke_plotting import *\n",
    "from hwr_utils.stroke_recovery import get_number_of_stroke_pts_from_gt\n",
    "from hwr_utils.stroke_recovery import *\n",
    "import json\n",
    "from matplotlib import pyplot as plt"
   ]
  },
  {
   "cell_type": "code",
   "execution_count": 2,
   "metadata": {},
   "outputs": [
    {
     "name": "stdout",
     "output_type": "stream",
     "text": [
      "[1 2]\n"
     ]
    }
   ],
   "source": [
    "import numpy as np\n",
    "\n",
    "x = np.array([1,2])\n",
    "y = x\n",
    "x = x[::-1]\n",
    "print(y)"
   ]
  },
  {
   "cell_type": "code",
   "execution_count": 5,
   "metadata": {},
   "outputs": [
    {
     "name": "stdout",
     "output_type": "stream",
     "text": [
      "[[ 0  1  1  3]\n",
      " [ 4  5  0  7]\n",
      " [ 8  9  0 11]\n",
      " [12 13  1 15]\n",
      " [16 17  0 19]\n",
      " [20 21  1 23]\n",
      " [24 25  1 27]\n",
      " [28 29  0 31]\n",
      " [32 33  0 35]]\n"
     ]
    }
   ],
   "source": [
    "gt = np.array(range(36)).reshape(9,4)\n",
    "gt[:,2] = [1,0,0,1,0,1,1,0,0]\n",
    "print(gt)"
   ]
  },
  {
   "cell_type": "code",
   "execution_count": 6,
   "metadata": {},
   "outputs": [
    {
     "data": {
      "text/plain": [
       "array([[ 0,  1,  1,  3],\n",
       "       [ 4,  5,  0,  7],\n",
       "       [ 8,  9,  0, 11],\n",
       "       [12, 13,  1, 15],\n",
       "       [16, 17,  0, 19],\n",
       "       [20, 21,  1, 23],\n",
       "       [24, 25,  1, 27],\n",
       "       [28, 29,  0, 31],\n",
       "       [32, 33,  0, 35]])"
      ]
     },
     "execution_count": 6,
     "metadata": {},
     "output_type": "execute_result"
    }
   ],
   "source": [
    "def swap_strokes_left(gt, stroke_numbers=False, sos_index=2, distance_threshold=.3):\n",
    "    \"\"\" Swap stroke if the most left part is further right than the previous stroke\n",
    "\n",
    "    Args:\n",
    "        gt:\n",
    "        stroke_numbers:\n",
    "        sos_index:\n",
    "\n",
    "    Returns:\n",
    "\n",
    "    \"\"\"\n",
    "    # gt = np.array(range(36)).reshape(9, 4)\n",
    "    # gt[:, 2] = [1, 0, 0, 1, 0, 1, 0, 0, 0]\n",
    "    # gt[-1, :] = [3.4, 5, 1, 1]\n",
    "    # print(gt)\n",
    "\n",
    "    sos_args = get_sos_args(gt[:, sos_index], stroke_numbers=stroke_numbers)\n",
    "    strokes = np.split(gt, sos_args)[1:]\n",
    "\n",
    "    min_x_position = [np.min(s[:, 0]) for s in strokes if s.size]\n",
    "    min_x_position += np.cumsum([distance_threshold] * len(min_x_position))  # this acts like a threshold, but increases for larger stroke swaps\n",
    "\n",
    "    x = list(zip(strokes, min_x_position))\n",
    "    x.sort(key=lambda m: m[1])\n",
    "\n",
    "    output = np.concatenate([i[0] for i in x])\n",
    "\n",
    "    if stroke_numbers: # Stroke numbers are now out of order; find where the strokes change, then re-add\n",
    "        sos = stroke_recovery.relativefy(output[:,2])!=0\n",
    "        output[:,2] = np.cumsum(sos) # Regenerate stroke numbers\n",
    "\n",
    "    return output\n",
    "\n",
    "swap_strokes_left(gt)"
   ]
  },
  {
   "cell_type": "code",
   "execution_count": 8,
   "metadata": {},
   "outputs": [
    {
     "data": {
      "text/plain": [
       "[[(0, 1), (4, 5), (8, 9)],\n",
       " [(12, 13), (16, 17)],\n",
       " [(20, 21)],\n",
       " [(24, 25), (28, 29), (32, 33)]]"
      ]
     },
     "execution_count": 8,
     "metadata": {},
     "output_type": "execute_result"
    }
   ],
   "source": [
    "list(gt_to_pil(gt))"
   ]
  },
  {
   "cell_type": "code",
   "execution_count": 85,
   "metadata": {},
   "outputs": [
    {
     "name": "stdout",
     "output_type": "stream",
     "text": [
      "[[ 0  1  1  3]\n",
      " [ 4  5  0  7]\n",
      " [ 8  9  0 11]\n",
      " [12 13  1 15]\n",
      " [16 17  0 19]\n",
      " [20 21  1 23]\n",
      " [24 25  1 27]\n",
      " [28 29  0 31]\n",
      " [32 33  0 35]]\n",
      "[[24 25  1 27]\n",
      " [28 29  0 31]\n",
      " [32 33  1 35]\n",
      " [20 21  1 23]\n",
      " [12 13  1 15]\n",
      " [16 17  0 19]\n",
      " [ 0  1  1  3]\n",
      " [ 4  5  0  7]\n",
      " [ 8  9  0 11]]\n"
     ]
    }
   ],
   "source": [
    "def swap_items(l, pos1, pos2): \n",
    "    l[pos1], l[pos2] = l[pos2], l[pos1] \n",
    "    return l\n",
    "\n",
    "def swap_strokes(gt, start, end, pivot):\n",
    "    \"\"\"\n",
    "        pivot: index of stroke break\n",
    "    \"\"\"\n",
    "    t = np.copy(gt[start:end])\n",
    "    gt[start:start+end-pivot] = t[pivot-start:end-start] \n",
    "    gt[start+end-pivot:end] = t[:pivot-start]\n",
    "    return gt\n",
    "\n",
    "def swap_to_minimize_l1(pred, gt):\n",
    "    gt_stroke_lens = get_number_of_stroke_pts_from_gt(gt)\n",
    "    \n",
    "    pos = 0\n",
    "    for i in range(len(gt_stroke_lens)-1):\n",
    "        print(i)\n",
    "        end = pos+gt_stroke_lens[i]+gt_stroke_lens[i+1]\n",
    "        normal_slice = slice(pos,end)\n",
    "        normal_l1 = abs(gt[normal_slice,:2] - pred[normal_slice,:2])\n",
    "        \n",
    "        alt_gt = np.concatenate([gt[pos+gt_stroke_lens[i]:end,:2], gt[pos:pos+gt_stroke_lens[i], :2]])\n",
    "        alternative_l1 = abs(alt_gt - pred[normal_slice, :2])\n",
    "#         if i == 0:\n",
    "#             print(alt_gt)\n",
    "#             print(alternative_l1)\n",
    "#             print(normal_l1)\n",
    "        if np.sum(alternative_l1) < np.sum(normal_l1):\n",
    "            print(f\"Swap {i} {i+1}\")\n",
    "            gt = swap_strokes(gt, pos, end, pivot=pos+gt_stroke_lens[i])\n",
    "            \n",
    "            swap_items(gt_stroke_lens, i, i+1)\n",
    "            pass\n",
    "        pos += gt_stroke_lens[i]\n",
    "#     print(gt)\n",
    "    return gt\n",
    "    \n",
    "    \n",
    "gt = np.array(range(36)).reshape(9,4)\n",
    "gt[:,2] = [1,0,0,1,0,1,1,0,0]\n",
    "print(gt)\n",
    "\n",
    "preds = [[24, 25, 1, 27], [28, 29, 0, 31], [32, 33, 1, 35],[20, 21, 1, 23], [12, 13, 1, 15], [16, 17, 0, 19], [0, 1, 1, 3], [4, 5, 0, 7], [8, 9, 0, 11]]\n",
    "preds = np.asarray(preds)\n",
    "print(preds)"
   ]
  },
  {
   "cell_type": "code",
   "execution_count": 86,
   "metadata": {},
   "outputs": [
    {
     "name": "stdout",
     "output_type": "stream",
     "text": [
      "0\n",
      "[[12 13]\n",
      " [16 17]\n",
      " [ 0  1]\n",
      " [ 4  5]\n",
      " [ 8  9]]\n",
      "[[12 12]\n",
      " [12 12]\n",
      " [32 32]\n",
      " [16 16]\n",
      " [ 4  4]]\n",
      "[[24 24]\n",
      " [24 24]\n",
      " [24 24]\n",
      " [ 8  8]\n",
      " [ 4  4]]\n",
      "Swap 0 1\n",
      "1\n",
      "Swap 1 2\n",
      "2\n",
      "Swap 2 3\n",
      "[[12 13  1 15]\n",
      " [16 17  0 19]\n",
      " [20 21  1 23]\n",
      " [24 25  1 27]\n",
      " [28 29  0 31]\n",
      " [32 33  0 35]\n",
      " [ 0  1  1  3]\n",
      " [ 4  5  0  7]\n",
      " [ 8  9  0 11]]\n"
     ]
    }
   ],
   "source": [
    "gt=swap_to_minimize_l1(preds, gt)"
   ]
  },
  {
   "cell_type": "code",
   "execution_count": 87,
   "metadata": {},
   "outputs": [
    {
     "name": "stdout",
     "output_type": "stream",
     "text": [
      "0\n",
      "[[20 21]\n",
      " [12 13]\n",
      " [16 17]]\n",
      "[[ 4  4]\n",
      " [16 16]\n",
      " [16 16]]\n",
      "[[12 12]\n",
      " [12 12]\n",
      " [12 12]]\n",
      "1\n",
      "Swap 1 2\n",
      "2\n",
      "[[12 13  1 15]\n",
      " [16 17  0 19]\n",
      " [24 25  1 27]\n",
      " [28 29  0 31]\n",
      " [32 33  0 35]\n",
      " [20 21  1 23]\n",
      " [ 0  1  1  3]\n",
      " [ 4  5  0  7]\n",
      " [ 8  9  0 11]]\n"
     ]
    },
    {
     "data": {
      "text/plain": [
       "array([[12, 13,  1, 15],\n",
       "       [16, 17,  0, 19],\n",
       "       [24, 25,  1, 27],\n",
       "       [28, 29,  0, 31],\n",
       "       [32, 33,  0, 35],\n",
       "       [20, 21,  1, 23],\n",
       "       [ 0,  1,  1,  3],\n",
       "       [ 4,  5,  0,  7],\n",
       "       [ 8,  9,  0, 11]])"
      ]
     },
     "execution_count": 87,
     "metadata": {},
     "output_type": "execute_result"
    }
   ],
   "source": [
    "swap_to_minimize_l1(preds, gt)"
   ]
  },
  {
   "cell_type": "code",
   "execution_count": 88,
   "metadata": {},
   "outputs": [
    {
     "name": "stdout",
     "output_type": "stream",
     "text": [
      "[[24 25  1 27]\n",
      " [28 29  0 31]\n",
      " [32 33  1 35]\n",
      " [20 21  1 23]\n",
      " [12 13  1 15]\n",
      " [16 17  0 19]\n",
      " [ 0  1  1  3]\n",
      " [ 4  5  0  7]\n",
      " [ 8  9  0 11]]\n"
     ]
    }
   ],
   "source": [
    "print(preds)"
   ]
  },
  {
   "cell_type": "code",
   "execution_count": 89,
   "metadata": {},
   "outputs": [],
   "source": [
    "def sort_strokes(gt, original_sort, new_sort):\n",
    "    gt_list = gt_to_list_of_strokes(gt, stroke_number=False)\n",
    "    zip_list = zip(gt_list, original_sort)\n",
    "    "
   ]
  },
  {
   "cell_type": "code",
   "execution_count": 94,
   "metadata": {},
   "outputs": [
    {
     "ename": "RuntimeError",
     "evalue": "Can't call numpy() on Variable that requires grad. Use var.detach().numpy() instead.",
     "output_type": "error",
     "traceback": [
      "\u001b[0;31m---------------------------------------------------------------------------\u001b[0m",
      "\u001b[0;31mRuntimeError\u001b[0m                              Traceback (most recent call last)",
      "\u001b[0;32m<ipython-input-94-b4e113976345>\u001b[0m in \u001b[0;36m<module>\u001b[0;34m\u001b[0m\n\u001b[1;32m      1\u001b[0m \u001b[0;32mimport\u001b[0m \u001b[0mtorch\u001b[0m\u001b[0;34m\u001b[0m\u001b[0;34m\u001b[0m\u001b[0m\n\u001b[1;32m      2\u001b[0m \u001b[0;32mfrom\u001b[0m \u001b[0mtorch\u001b[0m \u001b[0;32mimport\u001b[0m \u001b[0mtensor\u001b[0m\u001b[0;34m\u001b[0m\u001b[0;34m\u001b[0m\u001b[0m\n\u001b[0;32m----> 3\u001b[0;31m \u001b[0mx\u001b[0m \u001b[0;34m=\u001b[0m \u001b[0mtensor\u001b[0m\u001b[0;34m(\u001b[0m\u001b[0mgt\u001b[0m\u001b[0;34m.\u001b[0m\u001b[0mastype\u001b[0m\u001b[0;34m(\u001b[0m\u001b[0;34m'float'\u001b[0m\u001b[0;34m)\u001b[0m\u001b[0;34m)\u001b[0m\u001b[0;34m.\u001b[0m\u001b[0mrequires_grad_\u001b[0m\u001b[0;34m(\u001b[0m\u001b[0;32mTrue\u001b[0m\u001b[0;34m)\u001b[0m\u001b[0;34m-\u001b[0m \u001b[0mgt\u001b[0m\u001b[0;34m\u001b[0m\u001b[0;34m\u001b[0m\u001b[0m\n\u001b[0m\u001b[1;32m      4\u001b[0m \u001b[0mx\u001b[0m\u001b[0;34m.\u001b[0m\u001b[0mrequires_grad\u001b[0m\u001b[0;34m\u001b[0m\u001b[0;34m\u001b[0m\u001b[0m\n",
      "\u001b[0;32m~/anaconda3/envs/hwr5/lib/python3.8/site-packages/torch/tensor.py\u001b[0m in \u001b[0;36m__array__\u001b[0;34m(self, dtype)\u001b[0m\n\u001b[1;32m    484\u001b[0m     \u001b[0;32mdef\u001b[0m \u001b[0m__array__\u001b[0m\u001b[0;34m(\u001b[0m\u001b[0mself\u001b[0m\u001b[0;34m,\u001b[0m \u001b[0mdtype\u001b[0m\u001b[0;34m=\u001b[0m\u001b[0;32mNone\u001b[0m\u001b[0;34m)\u001b[0m\u001b[0;34m:\u001b[0m\u001b[0;34m\u001b[0m\u001b[0;34m\u001b[0m\u001b[0m\n\u001b[1;32m    485\u001b[0m         \u001b[0;32mif\u001b[0m \u001b[0mdtype\u001b[0m \u001b[0;32mis\u001b[0m \u001b[0;32mNone\u001b[0m\u001b[0;34m:\u001b[0m\u001b[0;34m\u001b[0m\u001b[0;34m\u001b[0m\u001b[0m\n\u001b[0;32m--> 486\u001b[0;31m             \u001b[0;32mreturn\u001b[0m \u001b[0mself\u001b[0m\u001b[0;34m.\u001b[0m\u001b[0mnumpy\u001b[0m\u001b[0;34m(\u001b[0m\u001b[0;34m)\u001b[0m\u001b[0;34m\u001b[0m\u001b[0;34m\u001b[0m\u001b[0m\n\u001b[0m\u001b[1;32m    487\u001b[0m         \u001b[0;32melse\u001b[0m\u001b[0;34m:\u001b[0m\u001b[0;34m\u001b[0m\u001b[0;34m\u001b[0m\u001b[0m\n\u001b[1;32m    488\u001b[0m             \u001b[0;32mreturn\u001b[0m \u001b[0mself\u001b[0m\u001b[0;34m.\u001b[0m\u001b[0mnumpy\u001b[0m\u001b[0;34m(\u001b[0m\u001b[0;34m)\u001b[0m\u001b[0;34m.\u001b[0m\u001b[0mastype\u001b[0m\u001b[0;34m(\u001b[0m\u001b[0mdtype\u001b[0m\u001b[0;34m,\u001b[0m \u001b[0mcopy\u001b[0m\u001b[0;34m=\u001b[0m\u001b[0;32mFalse\u001b[0m\u001b[0;34m)\u001b[0m\u001b[0;34m\u001b[0m\u001b[0;34m\u001b[0m\u001b[0m\n",
      "\u001b[0;31mRuntimeError\u001b[0m: Can't call numpy() on Variable that requires grad. Use var.detach().numpy() instead."
     ]
    }
   ],
   "source": [
    "import torch\n",
    "from torch import tensor\n",
    "x = tensor(gt.astype('float')).requires_grad_(True)-gt\n",
    "x.requires_grad"
   ]
  },
  {
   "cell_type": "code",
   "execution_count": null,
   "metadata": {},
   "outputs": [],
   "source": []
  }
 ],
 "metadata": {
  "kernelspec": {
   "display_name": "hwr5",
   "language": "python",
   "name": "hwr5"
  },
  "language_info": {
   "codemirror_mode": {
    "name": "ipython",
    "version": 3
   },
   "file_extension": ".py",
   "mimetype": "text/x-python",
   "name": "python",
   "nbconvert_exporter": "python",
   "pygments_lexer": "ipython3",
   "version": "3.8.1"
  }
 },
 "nbformat": 4,
 "nbformat_minor": 2
}
