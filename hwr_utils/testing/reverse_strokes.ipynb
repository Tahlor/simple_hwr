{
 "cells": [
  {
   "cell_type": "code",
   "execution_count": 1,
   "metadata": {},
   "outputs": [],
   "source": [
    "%reload_ext autoreload\n",
    "%autoreload 2\n",
    "\n",
    "import sys\n",
    "sys.path.append(\"../../\")\n",
    "sys.path.append(\"../\")\n",
    "sys.path.append(\"/media/data/GitHub/simple_hwr\")\n",
    "import os\n",
    "import numpy as np\n",
    "from hwr_utils import *\n",
    "from hwr_utils.stroke_plotting import *\n",
    "from hwr_utils.stroke_recovery import *\n",
    "import json\n",
    "from matplotlib import pyplot as plt"
   ]
  },
  {
   "cell_type": "code",
   "execution_count": 2,
   "metadata": {},
   "outputs": [
    {
     "name": "stdout",
     "output_type": "stream",
     "text": [
      "[1 2]\n"
     ]
    }
   ],
   "source": [
    "import numpy as np\n",
    "\n",
    "x = np.array([1,2])\n",
    "y = x\n",
    "x = x[::-1]\n",
    "print(y)"
   ]
  },
  {
   "cell_type": "code",
   "execution_count": 3,
   "metadata": {},
   "outputs": [
    {
     "name": "stdout",
     "output_type": "stream",
     "text": [
      "[[ 0  1  1  3]\n",
      " [ 4  5  0  7]\n",
      " [ 8  9  0 11]\n",
      " [12 13  1 15]\n",
      " [16 17  0 19]\n",
      " [20 21  1 23]\n",
      " [24 25  0 27]\n",
      " [28 29  0 31]\n",
      " [32 33  0 35]]\n"
     ]
    }
   ],
   "source": [
    "gt = np.array(range(36)).reshape(9,4)\n",
    "gt[:,2] = [1,0,0,1,0,1,0,0,0]\n",
    "print(gt)"
   ]
  },
  {
   "cell_type": "code",
   "execution_count": 34,
   "metadata": {},
   "outputs": [
    {
     "name": "stdout",
     "output_type": "stream",
     "text": [
      "[[ 0  1  1  3]\n",
      " [ 4  5  0  7]\n",
      " [ 8  9  0 11]\n",
      " [12 13  1 15]\n",
      " [16 17  0 19]\n",
      " [20 21  1 23]\n",
      " [24 25  0 27]\n",
      " [28 29  0 31]\n",
      " [ 3  5  1  1]]\n",
      "[array([[ 0,  1,  1,  3],\n",
      "       [ 4,  5,  0,  7],\n",
      "       [ 8,  9,  0, 11]]), array([[12, 13,  1, 15],\n",
      "       [16, 17,  0, 19]]), array([[20, 21,  1, 23],\n",
      "       [24, 25,  0, 27],\n",
      "       [28, 29,  0, 31]]), array([[3, 5, 1, 1]])]\n",
      "[ 4.1 14.2 24.3  3.4]\n"
     ]
    },
    {
     "data": {
      "text/plain": [
       "array([[ 3,  5,  1,  1],\n",
       "       [ 0,  1,  1,  3],\n",
       "       [ 4,  5,  0,  7],\n",
       "       [ 8,  9,  0, 11],\n",
       "       [12, 13,  1, 15],\n",
       "       [16, 17,  0, 19],\n",
       "       [20, 21,  1, 23],\n",
       "       [24, 25,  0, 27],\n",
       "       [28, 29,  0, 31]])"
      ]
     },
     "execution_count": 34,
     "metadata": {},
     "output_type": "execute_result"
    }
   ],
   "source": [
    "import numpy as np\n",
    "threshold=.1\n",
    "sos_index=2\n",
    "gt = np.array(range(36)).reshape(9,4)\n",
    "gt[:,2] = [1,0,0,1,0,1,0,0,0]\n",
    "gt[-1,:] = [3.4,5,1,1]\n",
    "print(gt)\n",
    "\n",
    "sos_args = get_sos_args(gt[:,sos_index], stroke_numbers=False)\n",
    "strokes = np.split(gt, sos_args)[1:]\n",
    "print(strokes)\n",
    "avg_x_position = [np.mean(s[:,0]) for s in strokes if s.size]\n",
    "avg_x_position += np.cumsum([threshold]*len(avg_x_position)) # this acts like a threshold, but increases for larger stroke swaps\n",
    "\n",
    "print(avg_x_position)\n",
    "x = list(zip(strokes, avg_x_position))\n",
    "x.sort(key=lambda m: m[1])\n",
    "np.concatenate([i[0] for i in x])"
   ]
  },
  {
   "cell_type": "code",
   "execution_count": 16,
   "metadata": {},
   "outputs": [
    {
     "data": {
      "text/plain": [
       "[(array([], shape=(0, 4), dtype=int64), 1.25),\n",
       " (array([[0, 1, 1, 3]]), 5.5),\n",
       " (array([[ 4,  5,  0,  7],\n",
       "         [ 8,  9,  0, 11]]),\n",
       "  10.25),\n",
       " (array([[12, 13,  1, 15]]), 13.0),\n",
       " (array([[16, 17,  0, 19]]), 16.25),\n",
       " (array([[20, 21,  1, 23]]), 22.0)]"
      ]
     },
     "execution_count": 16,
     "metadata": {},
     "output_type": "execute_result"
    }
   ],
   "source": [
    "x"
   ]
  },
  {
   "cell_type": "code",
   "execution_count": null,
   "metadata": {},
   "outputs": [],
   "source": []
  }
 ],
 "metadata": {
  "kernelspec": {
   "display_name": "hwr5",
   "language": "python",
   "name": "hwr5"
  },
  "language_info": {
   "codemirror_mode": {
    "name": "ipython",
    "version": 3
   },
   "file_extension": ".py",
   "mimetype": "text/x-python",
   "name": "python",
   "nbconvert_exporter": "python",
   "pygments_lexer": "ipython3",
   "version": "3.8.1"
  }
 },
 "nbformat": 4,
 "nbformat_minor": 2
}
