{
 "cells": [
  {
   "cell_type": "code",
   "execution_count": 4,
   "metadata": {
    "collapsed": true
   },
   "outputs": [],
   "source": [
    "%reload_ext autoreload\n",
    "%autoreload 2\n",
    "\n",
    "import os, sys\n",
    "sys.path.append(\"..\")\n",
    "#sys.path.append(\"../models\")\n",
    "import torch\n",
    "from models.basic import CNN, BidirectionalRNN\n",
    "from models.stroke_recovery_loss import StrokeLoss\n",
    "from torch import nn\n"
   ]
  },
  {
   "cell_type": "code",
   "execution_count": 18,
   "metadata": {},
   "outputs": [
    {
     "name": "stdout",
     "output_type": "stream",
     "text": [
      "Intermediate pass None\n"
     ]
    },
    {
     "data": {
      "text/plain": [
       "{400: 404,\n",
       " 401: 404,\n",
       " 402: 406,\n",
       " 403: 406,\n",
       " 404: 408,\n",
       " 405: 408,\n",
       " 406: 410,\n",
       " 407: 410,\n",
       " 408: 412,\n",
       " 409: 412,\n",
       " 410: 414,\n",
       " 411: 414,\n",
       " 412: 416,\n",
       " 413: 416,\n",
       " 414: 418,\n",
       " 415: 418,\n",
       " 416: 420,\n",
       " 417: 420,\n",
       " 418: 422,\n",
       " 419: 422,\n",
       " 420: 424,\n",
       " 421: 424,\n",
       " 422: 426,\n",
       " 423: 426,\n",
       " 424: 428,\n",
       " 425: 428,\n",
       " 426: 430,\n",
       " 427: 430,\n",
       " 428: 432,\n",
       " 429: 432,\n",
       " 430: 434,\n",
       " 431: 434,\n",
       " 432: 436,\n",
       " 433: 436,\n",
       " 434: 438,\n",
       " 435: 438,\n",
       " 436: 440,\n",
       " 437: 440,\n",
       " 438: 442,\n",
       " 439: 442,\n",
       " 440: 444,\n",
       " 441: 444,\n",
       " 442: 446,\n",
       " 443: 446,\n",
       " 444: 448,\n",
       " 445: 448,\n",
       " 446: 450,\n",
       " 447: 450,\n",
       " 448: 452,\n",
       " 449: 452,\n",
       " 450: 454,\n",
       " 451: 454,\n",
       " 452: 456,\n",
       " 453: 456,\n",
       " 454: 458,\n",
       " 455: 458,\n",
       " 456: 460,\n",
       " 457: 460,\n",
       " 458: 462,\n",
       " 459: 462,\n",
       " 460: 464,\n",
       " 461: 464,\n",
       " 462: 466,\n",
       " 463: 466,\n",
       " 464: 468,\n",
       " 465: 468,\n",
       " 466: 470,\n",
       " 467: 470,\n",
       " 468: 472,\n",
       " 469: 472,\n",
       " 470: 474,\n",
       " 471: 474,\n",
       " 472: 476,\n",
       " 473: 476,\n",
       " 474: 478,\n",
       " 475: 478,\n",
       " 476: 480,\n",
       " 477: 480,\n",
       " 478: 482,\n",
       " 479: 482,\n",
       " 480: 484,\n",
       " 481: 484,\n",
       " 482: 486,\n",
       " 483: 486,\n",
       " 484: 488,\n",
       " 485: 488,\n",
       " 486: 490,\n",
       " 487: 490,\n",
       " 488: 492,\n",
       " 489: 492,\n",
       " 490: 494,\n",
       " 491: 494,\n",
       " 492: 496,\n",
       " 493: 496,\n",
       " 494: 498,\n",
       " 495: 498,\n",
       " 496: 500,\n",
       " 497: 500,\n",
       " 498: 502,\n",
       " 499: 502}"
      ]
     },
     "execution_count": 18,
     "metadata": {},
     "output_type": "execute_result"
    }
   ],
   "source": [
    "cnn = CNN(nc=1, cnn_type=\"default64\")\n",
    "\n",
    "\n",
    "def calculate_output_size(data, cnn):\n",
    "    \"\"\" For each possible width, calculate the CNN output width\n",
    "    Args:\n",
    "        data:\n",
    "\n",
    "    Returns:\n",
    "\n",
    "    \"\"\"\n",
    "    all_possible_widths = set()\n",
    "    for i in data:\n",
    "        all_possible_widths.add(i)\n",
    "\n",
    "    width_to_output_mapping={}\n",
    "    for i in all_possible_widths:\n",
    "        t = torch.zeros(1, 1, 32, i)\n",
    "        shape = cnn(t).shape\n",
    "        width_to_output_mapping[i] = shape[0]\n",
    "    return width_to_output_mapping\n",
    "    \n",
    "data = range(400,500)\n",
    "\n",
    "calculate_output_size(data, cnn)\n"
   ]
  },
  {
   "cell_type": "code",
   "execution_count": 23,
   "metadata": {},
   "outputs": [
    {
     "name": "stdout",
     "output_type": "stream",
     "text": [
      "start magic\n",
      "normal call\n",
      "end magic\n"
     ]
    }
   ],
   "source": [
    "class Test(object):\n",
    "    def init( self ):\n",
    "        pass\n",
    "\n",
    "    def _decorator(foo):\n",
    "        def magic( self ) :\n",
    "            print(\"start magic\")\n",
    "            foo( self )\n",
    "            print(\"end magic\")\n",
    "        return magic\n",
    "   \n",
    "    @_decorator\n",
    "    def bar( self ) :\n",
    "        print(\"normal call\")\n",
    "\n",
    "test = Test()\n",
    "\n",
    "test.bar()"
   ]
  },
  {
   "cell_type": "code",
   "execution_count": 24,
   "metadata": {},
   "outputs": [
    {
     "name": "stderr",
     "output_type": "stream",
     "text": [
      "[autoreload of models.stroke_recovery_loss failed: Traceback (most recent call last):\n",
      "  File \"/home/taylor/anaconda3/envs/hwr5/lib/python3.7/site-packages/IPython/extensions/autoreload.py\", line 245, in check\n",
      "    superreload(m, reload, self.old_objects)\n",
      "  File \"/home/taylor/anaconda3/envs/hwr5/lib/python3.7/site-packages/IPython/extensions/autoreload.py\", line 434, in superreload\n",
      "    module = reload(module)\n",
      "  File \"/home/taylor/anaconda3/envs/hwr5/lib/python3.7/imp.py\", line 314, in reload\n",
      "    return importlib.reload(module)\n",
      "  File \"/home/taylor/anaconda3/envs/hwr5/lib/python3.7/importlib/__init__.py\", line 169, in reload\n",
      "    _bootstrap._exec(spec, module)\n",
      "  File \"<frozen importlib._bootstrap>\", line 630, in _exec\n",
      "  File \"<frozen importlib._bootstrap_external>\", line 724, in exec_module\n",
      "  File \"<frozen importlib._bootstrap_external>\", line 860, in get_code\n",
      "  File \"<frozen importlib._bootstrap_external>\", line 791, in source_to_code\n",
      "  File \"<frozen importlib._bootstrap>\", line 219, in _call_with_frames_removed\n",
      "  File \"../models/stroke_recovery_loss.py\", line 102\n",
      "    kwargs[\"preds\"]= [p[:i, :] for i,p in label_lengths, preds]\n",
      "                                                       ^\n",
      "SyntaxError: invalid syntax\n",
      "]\n",
      "[autoreload of models.stroke_recovery_loss failed: Traceback (most recent call last):\n",
      "  File \"/home/taylor/anaconda3/envs/hwr5/lib/python3.7/site-packages/IPython/extensions/autoreload.py\", line 245, in check\n",
      "    superreload(m, reload, self.old_objects)\n",
      "  File \"/home/taylor/anaconda3/envs/hwr5/lib/python3.7/site-packages/IPython/extensions/autoreload.py\", line 434, in superreload\n",
      "    module = reload(module)\n",
      "  File \"/home/taylor/anaconda3/envs/hwr5/lib/python3.7/imp.py\", line 314, in reload\n",
      "    return importlib.reload(module)\n",
      "  File \"/home/taylor/anaconda3/envs/hwr5/lib/python3.7/importlib/__init__.py\", line 169, in reload\n",
      "    _bootstrap._exec(spec, module)\n",
      "  File \"<frozen importlib._bootstrap>\", line 630, in _exec\n",
      "  File \"<frozen importlib._bootstrap_external>\", line 724, in exec_module\n",
      "  File \"<frozen importlib._bootstrap_external>\", line 860, in get_code\n",
      "  File \"<frozen importlib._bootstrap_external>\", line 791, in source_to_code\n",
      "  File \"<frozen importlib._bootstrap>\", line 219, in _call_with_frames_removed\n",
      "  File \"../models/stroke_recovery_loss.py\", line 102\n",
      "    kwargs[\"preds\"]= [p[:i, :] for i,p in label_lengths, preds]\n",
      "                                                       ^\n",
      "SyntaxError: invalid syntax\n",
      "]\n"
     ]
    },
    {
     "ename": "ValueError",
     "evalue": "too many values to unpack (expected 2)",
     "output_type": "error",
     "traceback": [
      "\u001b[0;31m---------------------------------------------------------------------------\u001b[0m",
      "\u001b[0;31mValueError\u001b[0m                                Traceback (most recent call last)",
      "\u001b[0;32m<ipython-input-24-de066c0d39a5>\u001b[0m in \u001b[0;36m<module>\u001b[0;34m\u001b[0m\n\u001b[0;32m----> 1\u001b[0;31m \u001b[0;32mfor\u001b[0m \u001b[0mi\u001b[0m\u001b[0;34m,\u001b[0m\u001b[0mj\u001b[0m \u001b[0;32min\u001b[0m \u001b[0mrange\u001b[0m\u001b[0;34m(\u001b[0m\u001b[0;36m0\u001b[0m\u001b[0;34m,\u001b[0m\u001b[0;36m5\u001b[0m\u001b[0;34m)\u001b[0m\u001b[0;34m,\u001b[0m\u001b[0mrange\u001b[0m\u001b[0;34m(\u001b[0m\u001b[0;36m0\u001b[0m\u001b[0;34m,\u001b[0m\u001b[0;36m5\u001b[0m\u001b[0;34m)\u001b[0m\u001b[0;34m:\u001b[0m\u001b[0;34m\u001b[0m\u001b[0;34m\u001b[0m\u001b[0m\n\u001b[0m\u001b[1;32m      2\u001b[0m     \u001b[0mprint\u001b[0m\u001b[0;34m(\u001b[0m\u001b[0mi\u001b[0m\u001b[0;34m)\u001b[0m\u001b[0;34m\u001b[0m\u001b[0;34m\u001b[0m\u001b[0m\n",
      "\u001b[0;31mValueError\u001b[0m: too many values to unpack (expected 2)"
     ]
    }
   ],
   "source": [
    "for i,j in range(0,5),range(0,5):\n",
    "    print(i)"
   ]
  },
  {
   "cell_type": "code",
   "execution_count": 25,
   "metadata": {},
   "outputs": [
    {
     "name": "stdout",
     "output_type": "stream",
     "text": [
      "range(0, 5)\n",
      "range(0, 5)\n"
     ]
    }
   ],
   "source": [
    "for i in range(0,5), range(0,5):\n",
    "    print(i)"
   ]
  },
  {
   "cell_type": "code",
   "execution_count": 6,
   "metadata": {},
   "outputs": [
    {
     "name": "stdout",
     "output_type": "stream",
     "text": [
      "4\n"
     ]
    }
   ],
   "source": [
    "x = {1:4}\n",
    "y = x[1]\n",
    "x[1] += 3\n",
    "print(y)"
   ]
  },
  {
   "cell_type": "code",
   "execution_count": 9,
   "metadata": {},
   "outputs": [],
   "source": [
    "import sys\n",
    "sys.path.append(\"../../\")\n",
    "sys.path.append(\"../\")\n",
    "import os\n",
    "\n",
    "import pydtw\n",
    "import numpy as np\n",
    "from pydtw import dtw\n",
    "from hwr_utils.stroke_recovery import relativefy_numpy\n",
    "\n",
    "def start_point_eval(pred, targ, already_stroke_number=False):\n",
    "    \"\"\"\n",
    "\n",
    "    Args:\n",
    "        pred:\n",
    "        targ:\n",
    "\n",
    "    Returns:\n",
    "\n",
    "    \"\"\"\n",
    "    if not already_stroke_number:\n",
    "        pred = relativefy_numpy(pred, reverse=True)\n",
    "        targ = relativefy_numpy(targ, reverse=True)\n",
    "\n",
    "    # give preds/targs\n",
    "    # dynamic time warp them\n",
    "    # assign the pred the \"true\" stroke number\n",
    "    # compare first item in each stroke\n",
    "\n",
    "    x1 = np.ascontiguousarray(pred[:,0:2])  # time step, (x,y)\n",
    "    x2 = np.ascontiguousarray(targ[:,0:2])\n",
    "    dist, cost, a, b = dtw.dtw2d(x1, x2)  # dist, cost, a, b\n",
    "\n",
    "    pred = pred[a, 0:3]\n",
    "    targ = targ[b, 0:3]\n"
   ]
  },
  {
   "cell_type": "code",
   "execution_count": 10,
   "metadata": {},
   "outputs": [
    {
     "ename": "IndexError",
     "evalue": "too many indices for array",
     "output_type": "error",
     "traceback": [
      "\u001b[0;31m---------------------------------------------------------------------------\u001b[0m",
      "\u001b[0;31mIndexError\u001b[0m                                Traceback (most recent call last)",
      "\u001b[0;32m<ipython-input-10-4f1e04e750eb>\u001b[0m in \u001b[0;36m<module>\u001b[0;34m\u001b[0m\n\u001b[1;32m      3\u001b[0m \u001b[0mpred\u001b[0m \u001b[0;34m=\u001b[0m \u001b[0mnp\u001b[0m\u001b[0;34m.\u001b[0m\u001b[0marray\u001b[0m\u001b[0;34m(\u001b[0m\u001b[0;34m[\u001b[0m\u001b[0;36m1\u001b[0m\u001b[0;34m,\u001b[0m\u001b[0;36m2\u001b[0m\u001b[0;34m,\u001b[0m\u001b[0;36m3\u001b[0m\u001b[0;34m,\u001b[0m\u001b[0;36m4\u001b[0m\u001b[0;34m,\u001b[0m\u001b[0;36m5\u001b[0m\u001b[0;34m]\u001b[0m\u001b[0;34m)\u001b[0m\u001b[0;34m\u001b[0m\u001b[0;34m\u001b[0m\u001b[0m\n\u001b[1;32m      4\u001b[0m \u001b[0mtarg\u001b[0m \u001b[0;34m=\u001b[0m \u001b[0mnp\u001b[0m\u001b[0;34m.\u001b[0m\u001b[0marray\u001b[0m\u001b[0;34m(\u001b[0m\u001b[0;34m[\u001b[0m\u001b[0;36m1\u001b[0m\u001b[0;34m,\u001b[0m\u001b[0;36m1\u001b[0m\u001b[0;34m,\u001b[0m\u001b[0;36m3\u001b[0m\u001b[0;34m,\u001b[0m\u001b[0;36m3\u001b[0m\u001b[0;34m,\u001b[0m\u001b[0;36m5\u001b[0m\u001b[0;34m]\u001b[0m\u001b[0;34m)\u001b[0m\u001b[0;34m\u001b[0m\u001b[0;34m\u001b[0m\u001b[0m\n\u001b[0;32m----> 5\u001b[0;31m \u001b[0mstart_point_eval\u001b[0m\u001b[0;34m(\u001b[0m\u001b[0mpred\u001b[0m\u001b[0;34m,\u001b[0m \u001b[0mtarg\u001b[0m\u001b[0;34m)\u001b[0m\u001b[0;34m\u001b[0m\u001b[0;34m\u001b[0m\u001b[0m\n\u001b[0m",
      "\u001b[0;32m<ipython-input-9-2744b0d8e39f>\u001b[0m in \u001b[0;36mstart_point_eval\u001b[0;34m(pred, targ, already_stroke_number)\u001b[0m\n\u001b[1;32m     28\u001b[0m     \u001b[0;31m# compare first item in each stroke\u001b[0m\u001b[0;34m\u001b[0m\u001b[0;34m\u001b[0m\u001b[0;34m\u001b[0m\u001b[0m\n\u001b[1;32m     29\u001b[0m \u001b[0;34m\u001b[0m\u001b[0m\n\u001b[0;32m---> 30\u001b[0;31m     \u001b[0mx1\u001b[0m \u001b[0;34m=\u001b[0m \u001b[0mnp\u001b[0m\u001b[0;34m.\u001b[0m\u001b[0mascontiguousarray\u001b[0m\u001b[0;34m(\u001b[0m\u001b[0mpred\u001b[0m\u001b[0;34m[\u001b[0m\u001b[0;34m:\u001b[0m\u001b[0;34m,\u001b[0m\u001b[0;36m0\u001b[0m\u001b[0;34m:\u001b[0m\u001b[0;36m2\u001b[0m\u001b[0;34m]\u001b[0m\u001b[0;34m)\u001b[0m  \u001b[0;31m# time step, (x,y)\u001b[0m\u001b[0;34m\u001b[0m\u001b[0;34m\u001b[0m\u001b[0m\n\u001b[0m\u001b[1;32m     31\u001b[0m     \u001b[0mx2\u001b[0m \u001b[0;34m=\u001b[0m \u001b[0mnp\u001b[0m\u001b[0;34m.\u001b[0m\u001b[0mascontiguousarray\u001b[0m\u001b[0;34m(\u001b[0m\u001b[0mtarg\u001b[0m\u001b[0;34m[\u001b[0m\u001b[0;34m:\u001b[0m\u001b[0;34m,\u001b[0m\u001b[0;36m0\u001b[0m\u001b[0;34m:\u001b[0m\u001b[0;36m2\u001b[0m\u001b[0;34m]\u001b[0m\u001b[0;34m)\u001b[0m\u001b[0;34m\u001b[0m\u001b[0;34m\u001b[0m\u001b[0m\n\u001b[1;32m     32\u001b[0m     \u001b[0mdist\u001b[0m\u001b[0;34m,\u001b[0m \u001b[0mcost\u001b[0m\u001b[0;34m,\u001b[0m \u001b[0ma\u001b[0m\u001b[0;34m,\u001b[0m \u001b[0mb\u001b[0m \u001b[0;34m=\u001b[0m \u001b[0mdtw\u001b[0m\u001b[0;34m.\u001b[0m\u001b[0mdtw2d\u001b[0m\u001b[0;34m(\u001b[0m\u001b[0mx1\u001b[0m\u001b[0;34m,\u001b[0m \u001b[0mx2\u001b[0m\u001b[0;34m)\u001b[0m  \u001b[0;31m# dist, cost, a, b\u001b[0m\u001b[0;34m\u001b[0m\u001b[0;34m\u001b[0m\u001b[0m\n",
      "\u001b[0;31mIndexError\u001b[0m: too many indices for array"
     ]
    }
   ],
   "source": [
    "import numpy as np\n",
    "\n",
    "pred = np.array([1,2,3,4,5])\n",
    "targ = np.array([1,1,3,3,5])\n",
    "start_point_eval(pred, targ)"
   ]
  },
  {
   "cell_type": "code",
   "execution_count": null,
   "metadata": {},
   "outputs": [],
   "source": []
  }
 ],
 "metadata": {
  "kernelspec": {
   "display_name": "hwr5",
   "language": "python",
   "name": "hwr5"
  },
  "language_info": {
   "codemirror_mode": {
    "name": "ipython",
    "version": 3
   },
   "file_extension": ".py",
   "mimetype": "text/x-python",
   "name": "python",
   "nbconvert_exporter": "python",
   "pygments_lexer": "ipython3",
   "version": "3.8.1"
  }
 },
 "nbformat": 4,
 "nbformat_minor": 2
}
