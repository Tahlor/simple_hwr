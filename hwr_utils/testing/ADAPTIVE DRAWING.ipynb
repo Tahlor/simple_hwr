{
 "cells": [
  {
   "cell_type": "code",
   "execution_count": 1,
   "metadata": {},
   "outputs": [
    {
     "name": "stdout",
     "output_type": "stream",
     "text": [
      "/media/data/GitHub/simple_hwr/hwr_utils/testing\n"
     ]
    }
   ],
   "source": [
    "%reload_ext autoreload\n",
    "%autoreload 2\n",
    "\n",
    "import sys\n",
    "sys.path.append(\"../../\")\n",
    "sys.path.append(\"../\")\n",
    "import os\n",
    "print(os.getcwd())\n",
    "from models.basic import CNN\n",
    "import os\n",
    "os.environ[\"CUDA_VISIBLE_DEVICES\"]=\"0\"\n",
    "\n",
    "# width_to_output_mapping = {}\n",
    "# device = \"cuda\"\n",
    "\n",
    "# cnn = CNN(nc=1, cnn_type=\"default64\", first_conv_opts=None)\n",
    "# cnn.to(device)\n",
    "# for width in range(233,240):\n",
    "#     try:\n",
    "#         t = torch.zeros(1, 1, 32, width).to(device)\n",
    "#     except:\n",
    "#         device = \"cpu\"\n",
    "#         t = torch.zeros(1, 1, 32, width).to(device)\n",
    "\n",
    "#     shape = cnn(t).shape\n",
    "#     width_to_output_mapping[width] = shape[0]\n",
    "    "
   ]
  },
  {
   "cell_type": "code",
   "execution_count": 2,
   "metadata": {},
   "outputs": [
    {
     "name": "stderr",
     "output_type": "stream",
     "text": [
      "INFO:root.hwr_utils.stroke_dataset:Loading data traditional way [PosixPath('online_coordinate_data/MAX_stroke_vTEST_AUGMENTFull/test_online_coords.json')]\n"
     ]
    },
    {
     "name": "stdout",
     "output_type": "stream",
     "text": [
      "/media/data/GitHub/simple_hwr/hwr_utils/testing\n",
      "../../data/online_coordinate_data/MAX_stroke_vTEST_AUGMENTFull/test_online_coords.json\n",
      "Loading .npy version\n"
     ]
    },
    {
     "name": "stderr",
     "output_type": "stream",
     "text": [
      "INFO:root.hwr_utils.stroke_dataset:('Original dataloader size', 501)\n",
      "INFO:root.hwr_utils.stroke_dataset:('Dataloader size', 500)\n",
      "../../hwr_utils/stroke_dataset.py:236: UserWarning: UNK NUMBER OF SAMPLES!!!\n",
      "  warnings.warn(\"UNK NUMBER OF SAMPLES!!!\")\n",
      "INFO:root.hwr_utils.stroke_dataset:('Dataloader size', 500)\n"
     ]
    },
    {
     "name": "stdout",
     "output_type": "stream",
     "text": [
      "(728, 4)\n"
     ]
    }
   ],
   "source": [
    "import tempfile\n",
    "from pathlib import Path\n",
    "import numpy as np\n",
    "from torch.utils.data import DataLoader\n",
    "from models.basic import CNN, BidirectionalRNN\n",
    "from torch import nn\n",
    "from loss_module.stroke_recovery_loss import StrokeLoss\n",
    "import torch\n",
    "from models.CoordConv import CoordConv\n",
    "from trainers import TrainerStrokeRecovery\n",
    "from hwr_utils.stroke_dataset import StrokeRecoveryDataset, read_img\n",
    "from hwr_utils.stroke_recovery import *\n",
    "from hwr_utils import utils, stroke_recovery\n",
    "from torch.optim import lr_scheduler\n",
    "from timeit import default_timer as timer\n",
    "from train_stroke_recovery import graph\n",
    "from hwr_utils.distortions import *\n",
    "from hwr_utils.stroke_plotting import *\n",
    "\n",
    "## DRAW THE IMAGE\n",
    "#Pillow-simd\n",
    "\n",
    "from PIL import Image, ImageDraw\n",
    "\n",
    "def loader():\n",
    "    folder = Path(\"online_coordinate_data/3_stroke_vSmall\")\n",
    "    folder = Path(\"online_coordinate_data/8_stroke_vSmall_16\")\n",
    "    folder = Path(\"online_coordinate_data/MAX_stroke_vTEST_AUGMENTFull\")\n",
    "\n",
    "    print(os.getcwd())\n",
    "    x_relative_positions = True\n",
    "    test_size = 500\n",
    "    train_size = None\n",
    "    batch_size=16\n",
    "    #gt_format = [\"x\",\"y\",\"stroke_number\",\"eos\"]\n",
    "    gt_format = [\"x\",\"y\",\"sos\",\"eos\"]\n",
    "\n",
    "    test_dataset=StrokeRecoveryDataset([folder / \"test_online_coords.json\"],\n",
    "                            img_height = 61,\n",
    "                            num_of_channels = 1.,\n",
    "                            max_images_to_load = test_size,\n",
    "                            root=r\"../../data\",\n",
    "                            cnn=None,\n",
    "                            gt_format=gt_format,\n",
    "                            )\n",
    "\n",
    "    test_dataloader = DataLoader(test_dataset,\n",
    "                                  batch_size=batch_size,\n",
    "                                  shuffle=True,\n",
    "                                  num_workers=3,\n",
    "                                  collate_fn=test_dataset.collate,\n",
    "                                  pin_memory=False)\n",
    "\n",
    "    device=\"cuda\"\n",
    "    globals().update(locals())\n",
    "    return test_dataloader\n",
    "\n",
    "def reload_and_get_new_example():\n",
    "    test_dataloader = loader()\n",
    "    return next(iter(test_dataloader))\n",
    "\n",
    "def get_instance():\n",
    "#     if not 'test_dataloader' in globals():\n",
    "#         test_dataloader = loader()\n",
    "    example = next(iter(test_dataloader)) # BATCH, WIDTH, VOCAB\n",
    "    instance = example[\"gt_list\"][0].numpy()\n",
    "    return instance, example\n",
    "\n",
    "def test_drawing():\n",
    "    instance, example = get_instance()\n",
    "    \n",
    "    draw_from_gt(instance)\n",
    "    draw_from_raw(gt_to_raw(instance))\n",
    "\n",
    "loader()\n",
    "#test_drawing()\n",
    "\n",
    "# example = next(iter(test_dataloader)) # BATCH, WIDTH, VOCAB\n",
    "# instance = example[\"gt_list\"][0].numpy()\n",
    "instance, example = get_instance()\n",
    "\n",
    "print(instance.shape)\n",
    "#swap_strokes_left()"
   ]
  },
  {
   "cell_type": "code",
   "execution_count": null,
   "metadata": {},
   "outputs": [],
   "source": [
    "\n",
    "\n"
   ]
  },
  {
   "cell_type": "code",
   "execution_count": 69,
   "metadata": {},
   "outputs": [],
   "source": [
    "# What if we only target i's?\n",
    "    # Very short strokes\n",
    "    # Swap over if the furtherest left stroke of next stroke is further right than the current one\n",
    "\n",
    "def test_drawing_swaps(gt):\n",
    "    #print(gt.shape)\n",
    "    data = draw_from_gt(gt, show=False, right_padding=\"random\", color=(0,0,0), linewidth=1, use_stroke_number=False)[::-1]\n",
    "    img = Image.fromarray(data, \"RGB\")\n",
    "    #img.show()\n",
    "\n",
    "    # Create an image\n",
    "    swapped_strokes = Image.new(\"RGB\", (data.shape[:2][::-1]), (255, 255, 255))\n",
    "    swapped_strokes.paste(img)\n",
    "    draw = ImageDraw.Draw(swapped_strokes)\n",
    "    \n",
    "    gt = gt.copy()\n",
    "    gt[:,:2] *= 61\n",
    "    gt_pil = list(gt_to_pil(gt, stroke_number=False))\n",
    "    new_gt = swap_strokes_left(gt.copy(), stroke_numbers=False, height=61)\n",
    "    new_gt_pil = list(gt_to_pil(new_gt, stroke_number=False))      \n",
    "    show=False\n",
    "    \n",
    "    for i in range(len(new_gt_pil)):\n",
    "        if len(gt_pil[i]) != len(new_gt_pil[i]) or not np.allclose(gt_pil[i], new_gt_pil[i]):\n",
    "            #print(gt_pil[i][:10])\n",
    "            draw.line(gt_pil[i], fill=(0,0,255), width=2)\n",
    "            draw.line(new_gt_pil[i], fill=(0,255,0), width=2)\n",
    "            draw_ellipse(gt_pil[i], draw, color=(0,0,255), width=3)\n",
    "            draw_ellipse(new_gt_pil[i], draw, color=(0,255,0), width=3)\n",
    "\n",
    "            \n",
    "            show=True\n",
    "            break\n",
    "    if show:\n",
    "        Image.fromarray((np.array(swapped_strokes)[::-1]), \"RGB\").show()\n",
    "\n",
    "def draw_ellipse(point, draw, color=(0,0,255), width=2):\n",
    "    line1 = [x-width/2 for x in point[0]]\n",
    "    line2 = [x+width/2 for x in point[0]]\n",
    "    point = np.r_[line1, line2].flatten().tolist()\n",
    "    draw.ellipse(point, fill=color, outline=color)\n",
    "\n",
    "    #overlay_images(background, instance)"
   ]
  },
  {
   "cell_type": "code",
   "execution_count": 70,
   "metadata": {},
   "outputs": [
    {
     "name": "stdin",
     "output_type": "stream",
     "text": [
      " \n"
     ]
    },
    {
     "name": "stderr",
     "output_type": "stream",
     "text": [
      "Process Process-65:\n",
      "Process Process-66:\n",
      "Exception ignored in: <function _MultiProcessingDataLoaderIter.__del__ at 0x7fabafd009d0>\n",
      "Traceback (most recent call last):\n",
      "  File \"/home/taylor/anaconda3/envs/hwr5/lib/python3.8/site-packages/torch/utils/data/dataloader.py\", line 961, in __del__\n",
      "    self._shutdown_workers()\n",
      "  File \"/home/taylor/anaconda3/envs/hwr5/lib/python3.8/site-packages/torch/utils/data/dataloader.py\", line 941, in _shutdown_workers\n",
      "    w.join()\n",
      "  File \"/home/taylor/anaconda3/envs/hwr5/lib/python3.8/multiprocessing/process.py\", line 149, in join\n",
      "    res = self._popen.wait(timeout)\n",
      "  File \"/home/taylor/anaconda3/envs/hwr5/lib/python3.8/multiprocessing/popen_fork.py\", line 47, in wait\n",
      "    return self.poll(os.WNOHANG if timeout == 0.0 else 0)\n",
      "  File \"/home/taylor/anaconda3/envs/hwr5/lib/python3.8/multiprocessing/popen_fork.py\", line 27, in poll\n",
      "    pid, sts = os.waitpid(self.pid, flag)\n",
      "KeyboardInterrupt: \n",
      "Traceback (most recent call last):\n",
      "Traceback (most recent call last):\n",
      "  File \"/home/taylor/anaconda3/envs/hwr5/lib/python3.8/multiprocessing/process.py\", line 318, in _bootstrap\n",
      "    util._exit_function()\n",
      "  File \"/home/taylor/anaconda3/envs/hwr5/lib/python3.8/multiprocessing/process.py\", line 318, in _bootstrap\n",
      "    util._exit_function()\n",
      "  File \"/home/taylor/anaconda3/envs/hwr5/lib/python3.8/multiprocessing/util.py\", line 337, in _exit_function\n",
      "    _run_finalizers()\n",
      "  File \"/home/taylor/anaconda3/envs/hwr5/lib/python3.8/multiprocessing/util.py\", line 337, in _exit_function\n",
      "    _run_finalizers()\n",
      "  File \"/home/taylor/anaconda3/envs/hwr5/lib/python3.8/multiprocessing/util.py\", line 277, in _run_finalizers\n",
      "    finalizer()\n",
      "  File \"/home/taylor/anaconda3/envs/hwr5/lib/python3.8/multiprocessing/util.py\", line 277, in _run_finalizers\n",
      "    finalizer()\n",
      "  File \"/home/taylor/anaconda3/envs/hwr5/lib/python3.8/multiprocessing/util.py\", line 201, in __call__\n",
      "    res = self._callback(*self._args, **self._kwargs)\n",
      "  File \"/home/taylor/anaconda3/envs/hwr5/lib/python3.8/multiprocessing/util.py\", line 201, in __call__\n",
      "    res = self._callback(*self._args, **self._kwargs)\n",
      "  File \"/home/taylor/anaconda3/envs/hwr5/lib/python3.8/multiprocessing/queues.py\", line 195, in _finalize_join\n",
      "    thread.join()\n",
      "  File \"/home/taylor/anaconda3/envs/hwr5/lib/python3.8/multiprocessing/queues.py\", line 195, in _finalize_join\n",
      "    thread.join()\n",
      "  File \"/home/taylor/anaconda3/envs/hwr5/lib/python3.8/threading.py\", line 1011, in join\n",
      "    self._wait_for_tstate_lock()\n",
      "  File \"/home/taylor/anaconda3/envs/hwr5/lib/python3.8/threading.py\", line 1011, in join\n",
      "    self._wait_for_tstate_lock()\n",
      "  File \"/home/taylor/anaconda3/envs/hwr5/lib/python3.8/threading.py\", line 1027, in _wait_for_tstate_lock\n",
      "    elif lock.acquire(block, timeout):\n",
      "  File \"/home/taylor/anaconda3/envs/hwr5/lib/python3.8/threading.py\", line 1027, in _wait_for_tstate_lock\n",
      "    elif lock.acquire(block, timeout):\n",
      "KeyboardInterrupt\n",
      "KeyboardInterrupt\n"
     ]
    },
    {
     "ename": "KeyboardInterrupt",
     "evalue": "",
     "output_type": "error",
     "traceback": [
      "\u001b[0;31m---------------------------------------------------------------------------\u001b[0m",
      "\u001b[0;31mKeyboardInterrupt\u001b[0m                         Traceback (most recent call last)",
      "\u001b[0;32m~/anaconda3/envs/hwr5/lib/python3.8/site-packages/ipykernel/kernelbase.py\u001b[0m in \u001b[0;36m_input_request\u001b[0;34m(self, prompt, ident, parent, password)\u001b[0m\n\u001b[1;32m    883\u001b[0m             \u001b[0;32mtry\u001b[0m\u001b[0;34m:\u001b[0m\u001b[0;34m\u001b[0m\u001b[0;34m\u001b[0m\u001b[0m\n\u001b[0;32m--> 884\u001b[0;31m                 \u001b[0mident\u001b[0m\u001b[0;34m,\u001b[0m \u001b[0mreply\u001b[0m \u001b[0;34m=\u001b[0m \u001b[0mself\u001b[0m\u001b[0;34m.\u001b[0m\u001b[0msession\u001b[0m\u001b[0;34m.\u001b[0m\u001b[0mrecv\u001b[0m\u001b[0;34m(\u001b[0m\u001b[0mself\u001b[0m\u001b[0;34m.\u001b[0m\u001b[0mstdin_socket\u001b[0m\u001b[0;34m,\u001b[0m \u001b[0;36m0\u001b[0m\u001b[0;34m)\u001b[0m\u001b[0;34m\u001b[0m\u001b[0;34m\u001b[0m\u001b[0m\n\u001b[0m\u001b[1;32m    885\u001b[0m             \u001b[0;32mexcept\u001b[0m \u001b[0mException\u001b[0m\u001b[0;34m:\u001b[0m\u001b[0;34m\u001b[0m\u001b[0;34m\u001b[0m\u001b[0m\n",
      "\u001b[0;32m~/anaconda3/envs/hwr5/lib/python3.8/site-packages/jupyter_client/session.py\u001b[0m in \u001b[0;36mrecv\u001b[0;34m(self, socket, mode, content, copy)\u001b[0m\n\u001b[1;32m    802\u001b[0m         \u001b[0;32mtry\u001b[0m\u001b[0;34m:\u001b[0m\u001b[0;34m\u001b[0m\u001b[0;34m\u001b[0m\u001b[0m\n\u001b[0;32m--> 803\u001b[0;31m             \u001b[0mmsg_list\u001b[0m \u001b[0;34m=\u001b[0m \u001b[0msocket\u001b[0m\u001b[0;34m.\u001b[0m\u001b[0mrecv_multipart\u001b[0m\u001b[0;34m(\u001b[0m\u001b[0mmode\u001b[0m\u001b[0;34m,\u001b[0m \u001b[0mcopy\u001b[0m\u001b[0;34m=\u001b[0m\u001b[0mcopy\u001b[0m\u001b[0;34m)\u001b[0m\u001b[0;34m\u001b[0m\u001b[0;34m\u001b[0m\u001b[0m\n\u001b[0m\u001b[1;32m    804\u001b[0m         \u001b[0;32mexcept\u001b[0m \u001b[0mzmq\u001b[0m\u001b[0;34m.\u001b[0m\u001b[0mZMQError\u001b[0m \u001b[0;32mas\u001b[0m \u001b[0me\u001b[0m\u001b[0;34m:\u001b[0m\u001b[0;34m\u001b[0m\u001b[0;34m\u001b[0m\u001b[0m\n",
      "\u001b[0;32m~/anaconda3/envs/hwr5/lib/python3.8/site-packages/zmq/sugar/socket.py\u001b[0m in \u001b[0;36mrecv_multipart\u001b[0;34m(self, flags, copy, track)\u001b[0m\n\u001b[1;32m    474\u001b[0m         \"\"\"\n\u001b[0;32m--> 475\u001b[0;31m         \u001b[0mparts\u001b[0m \u001b[0;34m=\u001b[0m \u001b[0;34m[\u001b[0m\u001b[0mself\u001b[0m\u001b[0;34m.\u001b[0m\u001b[0mrecv\u001b[0m\u001b[0;34m(\u001b[0m\u001b[0mflags\u001b[0m\u001b[0;34m,\u001b[0m \u001b[0mcopy\u001b[0m\u001b[0;34m=\u001b[0m\u001b[0mcopy\u001b[0m\u001b[0;34m,\u001b[0m \u001b[0mtrack\u001b[0m\u001b[0;34m=\u001b[0m\u001b[0mtrack\u001b[0m\u001b[0;34m)\u001b[0m\u001b[0;34m]\u001b[0m\u001b[0;34m\u001b[0m\u001b[0;34m\u001b[0m\u001b[0m\n\u001b[0m\u001b[1;32m    476\u001b[0m         \u001b[0;31m# have first part already, only loop while more to receive\u001b[0m\u001b[0;34m\u001b[0m\u001b[0;34m\u001b[0m\u001b[0;34m\u001b[0m\u001b[0m\n",
      "\u001b[0;32mzmq/backend/cython/socket.pyx\u001b[0m in \u001b[0;36mzmq.backend.cython.socket.Socket.recv\u001b[0;34m()\u001b[0m\n",
      "\u001b[0;32mzmq/backend/cython/socket.pyx\u001b[0m in \u001b[0;36mzmq.backend.cython.socket.Socket.recv\u001b[0;34m()\u001b[0m\n",
      "\u001b[0;32mzmq/backend/cython/socket.pyx\u001b[0m in \u001b[0;36mzmq.backend.cython.socket._recv_copy\u001b[0;34m()\u001b[0m\n",
      "\u001b[0;32m~/anaconda3/envs/hwr5/lib/python3.8/site-packages/zmq/backend/cython/checkrc.pxd\u001b[0m in \u001b[0;36mzmq.backend.cython.checkrc._check_rc\u001b[0;34m()\u001b[0m\n",
      "\u001b[0;31mKeyboardInterrupt\u001b[0m: ",
      "\nDuring handling of the above exception, another exception occurred:\n",
      "\u001b[0;31mKeyboardInterrupt\u001b[0m                         Traceback (most recent call last)",
      "\u001b[0;32m<ipython-input-70-a63f0ddbcb81>\u001b[0m in \u001b[0;36m<module>\u001b[0;34m\u001b[0m\n\u001b[1;32m      2\u001b[0m     \u001b[0;32mfor\u001b[0m \u001b[0mii\u001b[0m \u001b[0;32min\u001b[0m \u001b[0mi\u001b[0m\u001b[0;34m[\u001b[0m\u001b[0;34m\"gt_list\"\u001b[0m\u001b[0;34m]\u001b[0m\u001b[0;34m:\u001b[0m\u001b[0;34m\u001b[0m\u001b[0;34m\u001b[0m\u001b[0m\n\u001b[1;32m      3\u001b[0m         \u001b[0mtest_drawing_swaps\u001b[0m\u001b[0;34m(\u001b[0m\u001b[0mii\u001b[0m\u001b[0;34m.\u001b[0m\u001b[0mnumpy\u001b[0m\u001b[0;34m(\u001b[0m\u001b[0;34m)\u001b[0m\u001b[0;34m)\u001b[0m\u001b[0;34m\u001b[0m\u001b[0;34m\u001b[0m\u001b[0m\n\u001b[0;32m----> 4\u001b[0;31m     \u001b[0minput\u001b[0m\u001b[0;34m(\u001b[0m\u001b[0;34m)\u001b[0m\u001b[0;34m\u001b[0m\u001b[0;34m\u001b[0m\u001b[0m\n\u001b[0m",
      "\u001b[0;32m~/anaconda3/envs/hwr5/lib/python3.8/site-packages/ipykernel/kernelbase.py\u001b[0m in \u001b[0;36mraw_input\u001b[0;34m(self, prompt)\u001b[0m\n\u001b[1;32m    854\u001b[0m                 \u001b[0;34m\"raw_input was called, but this frontend does not support input requests.\"\u001b[0m\u001b[0;34m\u001b[0m\u001b[0;34m\u001b[0m\u001b[0m\n\u001b[1;32m    855\u001b[0m             )\n\u001b[0;32m--> 856\u001b[0;31m         return self._input_request(str(prompt),\n\u001b[0m\u001b[1;32m    857\u001b[0m             \u001b[0mself\u001b[0m\u001b[0;34m.\u001b[0m\u001b[0m_parent_ident\u001b[0m\u001b[0;34m,\u001b[0m\u001b[0;34m\u001b[0m\u001b[0;34m\u001b[0m\u001b[0m\n\u001b[1;32m    858\u001b[0m             \u001b[0mself\u001b[0m\u001b[0;34m.\u001b[0m\u001b[0m_parent_header\u001b[0m\u001b[0;34m,\u001b[0m\u001b[0;34m\u001b[0m\u001b[0;34m\u001b[0m\u001b[0m\n",
      "\u001b[0;32m~/anaconda3/envs/hwr5/lib/python3.8/site-packages/ipykernel/kernelbase.py\u001b[0m in \u001b[0;36m_input_request\u001b[0;34m(self, prompt, ident, parent, password)\u001b[0m\n\u001b[1;32m    887\u001b[0m             \u001b[0;32mexcept\u001b[0m \u001b[0mKeyboardInterrupt\u001b[0m\u001b[0;34m:\u001b[0m\u001b[0;34m\u001b[0m\u001b[0;34m\u001b[0m\u001b[0m\n\u001b[1;32m    888\u001b[0m                 \u001b[0;31m# re-raise KeyboardInterrupt, to truncate traceback\u001b[0m\u001b[0;34m\u001b[0m\u001b[0;34m\u001b[0m\u001b[0;34m\u001b[0m\u001b[0m\n\u001b[0;32m--> 889\u001b[0;31m                 \u001b[0;32mraise\u001b[0m \u001b[0mKeyboardInterrupt\u001b[0m\u001b[0;34m\u001b[0m\u001b[0;34m\u001b[0m\u001b[0m\n\u001b[0m\u001b[1;32m    890\u001b[0m             \u001b[0;32melse\u001b[0m\u001b[0;34m:\u001b[0m\u001b[0;34m\u001b[0m\u001b[0;34m\u001b[0m\u001b[0m\n\u001b[1;32m    891\u001b[0m                 \u001b[0;32mbreak\u001b[0m\u001b[0;34m\u001b[0m\u001b[0;34m\u001b[0m\u001b[0m\n",
      "\u001b[0;31mKeyboardInterrupt\u001b[0m: "
     ]
    }
   ],
   "source": [
    "for i in test_dataloader:\n",
    "    for ii in i[\"gt_list\"]:\n",
    "        test_drawing_swaps(ii.numpy())\n",
    "    input()"
   ]
  },
  {
   "cell_type": "code",
   "execution_count": 61,
   "metadata": {},
   "outputs": [],
   "source": [
    "gt = np.array(range(36)).reshape(9,4)/61\n",
    "gt[:,2] = [1,0,0,1,0,1,1,0,0]\n",
    "gt2=gt.copy()\n",
    "test_drawing_swaps(gt)\n"
   ]
  },
  {
   "cell_type": "code",
   "execution_count": 55,
   "metadata": {},
   "outputs": [
    {
     "name": "stdout",
     "output_type": "stream",
     "text": [
      "[[(0.0, 0.01639344262295082), (0.06557377049180328, 0.08196721311475409), (0.13114754098360656, 0.14754098360655737)], [(0.19672131147540983, 0.21311475409836064), (0.26229508196721313, 0.2786885245901639)], [(0.32786885245901637, 0.3442622950819672)], [(0.39344262295081966, 0.4098360655737705), (0.45901639344262296, 0.47540983606557374), (0.5245901639344263, 0.5409836065573771)]]\n"
     ]
    }
   ],
   "source": [
    "x = gt_to_pil(gt2, stroke_number=False)\n",
    "print(list(x))"
   ]
  },
  {
   "cell_type": "code",
   "execution_count": null,
   "metadata": {},
   "outputs": [],
   "source": []
  }
 ],
 "metadata": {
  "kernelspec": {
   "display_name": "hwr5",
   "language": "python",
   "name": "hwr5"
  },
  "language_info": {
   "codemirror_mode": {
    "name": "ipython",
    "version": 3
   },
   "file_extension": ".py",
   "mimetype": "text/x-python",
   "name": "python",
   "nbconvert_exporter": "python",
   "pygments_lexer": "ipython3",
   "version": "3.8.1"
  }
 },
 "nbformat": 4,
 "nbformat_minor": 2
}
