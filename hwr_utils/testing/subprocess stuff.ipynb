{
 "cells": [
  {
   "cell_type": "code",
   "execution_count": 2,
   "metadata": {},
   "outputs": [],
   "source": [
    "# Don't close visdom or Jupyter\n",
    "\n",
    "from subprocess import Popen\n",
    "import subprocess, shlex\n",
    "\n",
    "def run_command(command, log=True):\n",
    "    process = subprocess.Popen(shlex.split(command), stdout=subprocess.PIPE, shell=True)\n",
    "    while True:\n",
    "        output = process.stdout.readline()\n",
    "        if output == '' and process.poll() is not None:\n",
    "            break\n",
    "        if output:\n",
    "            if log:\n",
    "                print(output.strip())\n",
    "            else:\n",
    "                yield(output.strip())\n",
    "    rc = process.poll()\n",
    "    return rc\n",
    "\n",
    "def kill_gpu_hogs():\n",
    "        pid = os.getpid()\n",
    "\n",
    "        # All python commands - this works a little better, but will kill visdom\n",
    "        find_processes_command = f\"pgrep -fl python\"\n",
    "        find_processes_command = f\"ps all\" #3 | grep python\"\n",
    "        command = find_processes_command # + f\" | awk '!/{pid}/{{print $1}}' \" #| xargs kill\"\n",
    "\n",
    "        processes = run_command(command, log=False)\n",
    "        for p in processes:\n",
    "            print(p)\n",
    "    \n",
    "    \n",
    "#kill_gpu_hogs()"
   ]
  },
  {
   "cell_type": "code",
   "execution_count": 34,
   "metadata": {},
   "outputs": [
    {
     "name": "stdout",
     "output_type": "stream",
     "text": [
      "0  1000  42420  33382  20   0 350936 89844 ep_pol Sl+  pts/12     0:05 /home/taylor/anaconda3/bin/python /home/taylor/anaconda3/bin/jupyter-lab\n",
      "0  1000  47361  47181  20   0 2193500 179712 ep_pol S+ pts/15     0:15 python -m visdom.server -p 8080\n"
     ]
    }
   ],
   "source": [
    "# subprocess.check_output([SCRIPT, \"-d\", date], shell=True).\n",
    "import os, signal\n",
    "exclusion_words = \"visdom\", \"jupyter\"\n",
    "find_processes_command = f\"ps all | grep python\" #3 | grep python\"\n",
    "x = subprocess.check_output([find_processes_command], shell=True)\n",
    "all_python_processes = x.decode().split(\"\\n\")[:-1]\n",
    "for process in all_python_processes:\n",
    "    print(process)\n",
    "    if not any([ew in process for ew in exclusion_words]):\n",
    "        print(f\"killing {process}\")\n",
    "        os.kill(int(process.split()[2]), signal.SIGTERM)\n"
   ]
  },
  {
   "cell_type": "code",
   "execution_count": 46,
   "metadata": {},
   "outputs": [
    {
     "name": "stdout",
     "output_type": "stream",
     "text": [
      "Killing GPU hogs\n",
      "killing 0  1000  51445  51427  20   0  39408  7356 poll_s S+   pts/19     0:00 python\n"
     ]
    }
   ],
   "source": [
    "from subprocess import check_output, Popen\n",
    "def kill_gpu_hogs():\n",
    "    ## Try to kill just nvidia ones first; ask before killing everything; try to restart Visdom\n",
    "    if True:\n",
    "        print(\"Killing GPU hogs\")\n",
    "        ## KILL ALL OTHER PYTHON SCRIPTS\n",
    "        pid = os.getpid()\n",
    "        if False:\n",
    "            # All GPU processes\n",
    "            # find_processes_command = \"nvidia-smi | sed -n 's/|\\s*[0-9]*\\s*\\([0-9]*\\)\\s*.*/\\1/p' | sort | uniq | sed '/^\\$/d'\"\n",
    "            # All python commands - this works a little better, but will kill visdom\n",
    "            find_processes_command = f\"pgrep -fl python\"\n",
    "            command = find_processes_command + f\" | awk '!/{pid}/{{print $1}}' | xargs kill\"\n",
    "            result = Popen(command, shell=True)\n",
    "        else:\n",
    "            exclusion_words = \"visdom\", \"jupyter\"\n",
    "            find_processes_command = f\"ps all | grep python\"  + f\" | awk '!/{pid}/'\"\n",
    "            x = check_output([find_processes_command], shell=True)\n",
    "            all_python_processes = x.decode().split(\"\\n\")[:-1]\n",
    "            for process in all_python_processes:\n",
    "                if not any([ew in process for ew in exclusion_words]):\n",
    "                    print(f\"killing {process}\")\n",
    "                    pid = int(process.split()[2])\n",
    "                    os.kill(pid, signal.SIGTERM)\n",
    "        return\n",
    "kill_gpu_hogs()"
   ]
  },
  {
   "cell_type": "code",
   "execution_count": null,
   "metadata": {},
   "outputs": [],
   "source": []
  }
 ],
 "metadata": {
  "kernelspec": {
   "display_name": "hwr5",
   "language": "python",
   "name": "hwr5"
  },
  "language_info": {
   "codemirror_mode": {
    "name": "ipython",
    "version": 3
   },
   "file_extension": ".py",
   "mimetype": "text/x-python",
   "name": "python",
   "nbconvert_exporter": "python",
   "pygments_lexer": "ipython3",
   "version": "3.8.1"
  }
 },
 "nbformat": 4,
 "nbformat_minor": 2
}
