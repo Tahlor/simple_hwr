{
 "cells": [
  {
   "cell_type": "code",
   "execution_count": 6,
   "metadata": {},
   "outputs": [],
   "source": [
    "%reload_ext autoreload\n",
    "%autoreload 2\n",
    "\n",
    "import os\n",
    "import torch\n",
    "import xml.etree.ElementTree as ET\n",
    "import matplotlib.pyplot as plt\n",
    "import numpy as np\n",
    "import random\n",
    "import math\n",
    "from pathlib import Path\n",
    "import os\n",
    "import torch\n",
    "import xml.etree.ElementTree as ET\n",
    "import matplotlib.pyplot as plt\n",
    "import numpy as np\n",
    "import random\n",
    "from pathlib import Path\n",
    "from scipy import interpolate\n",
    "#from sklearn.preprocessing import normalize\n",
    "from pathlib import Path\n",
    "import json\n",
    "import cv2\n",
    "import matplotlib.pyplot as plt\n",
    "import random\n",
    "\n",
    "with open(\"3_stroke_16_v2/train_online_coords.json\") as f:\n",
    "    \n",
    "    output_dict = json.load(f)\n"
   ]
  },
  {
   "cell_type": "code",
   "execution_count": 227,
   "metadata": {},
   "outputs": [],
   "source": [
    "\n",
    "\n",
    "## Other loss functions and variations\n",
    "# Distance from actual point\n",
    "# Distance to nearest point on image\n",
    "# Minimal penalty for first/last stroke points\n",
    "# Make it probabilistic? I.e. there's some probability it starts at the top or bottom\n",
    "# Compare rendered images! How to make it differentiable?\n",
    "# Handle empty time differently - have computer guess \"in between\" stroke value? could work\n",
    "# Stroke level penalties - perfect inverse/backward patterns have minimal penalty\n",
    "# Need an end of stroke and end of sequence token - small penalty if end of stroke is close\n",
    "\n",
    "## Other ideas\n",
    "# Feed in current \"step\" to RNN, scaled to same scale as width\n",
    "\n",
    "# Add more instances -- otherwise make it so the first instance is at the start of the letter\n",
    "\n",
    "pad_dpi = {\"padding\":.05, \"dpi\":71}\n",
    "\n",
    "def prep_figure(dpi=71):\n",
    "    plt.figure(figsize=(1, 1), dpi=dpi)\n",
    "    plt.axis('off')\n",
    "    plt.axis('square')\n",
    "\n",
    "def draw_strokes(stroke_list, x_to_y=1, line_width=None, save_path=\"\"):\n",
    "    # plt.NullFormatter()\n",
    "    if save_path:\n",
    "        prep_figure(pad_dpi[\"dpi\"])\n",
    "    if line_width is None:\n",
    "        line_width = max(random.gauss(1, .5), .4)\n",
    "\n",
    "    if x_to_y != 1:\n",
    "        for stroke in stroke_list:\n",
    "            stroke[\"x\"] = [item * x_to_y for item in stroke[\"x\"]]\n",
    "\n",
    "    for stroke in stroke_list:\n",
    "        plt.plot(stroke[\"x\"], stroke[\"y\"], linewidth=line_width, color=\"black\")\n",
    "\n",
    "    y_min = min([min(x[\"y\"]) for x in stroke_list])\n",
    "    y_max = max([max(x[\"y\"]) for x in stroke_list])\n",
    "    x_min = min([min(x[\"x\"]) for x in stroke_list])\n",
    "    x_max = max([max(x[\"x\"]) for x in stroke_list])\n",
    "\n",
    "    plt.ylim([y_min, y_max])\n",
    "    plt.xlim([x_min, x_max])\n",
    "    # print(y_min, y_max, x_min, x_max)\n",
    "    if save_path:\n",
    "        plt.savefig(save_path, pad_inches=pad_dpi[\"padding\"], bbox_inches='tight')\n",
    "        plt.close()\n",
    "\n",
    "\n",
    "\n",
    "\n",
    "def get_strokes(path, max_stroke_count=None):\n",
    "    \"\"\"\n",
    "    Args:\n",
    "        path: XML path to stroke file\n",
    "\n",
    "    Returns:\n",
    "        list of lists of dicts: each dict contains a stroke, keys: x,y, time\n",
    "    \"\"\"\n",
    "    root = ET.parse(path).getroot()\n",
    "    all_strokes = root[1]\n",
    "    stroke_lists = []\n",
    "    start_end_strokes_lists = []\n",
    "\n",
    "    # If not constrained by number of strokes, set max_stroke_count to full length window\n",
    "    if max_stroke_count is None:\n",
    "        max_stroke_count = len(all_strokes) - 1\n",
    "    \n",
    "    for i in range(len(all_strokes) - max_stroke_count):\n",
    "        strokes = all_strokes[i:i + max_stroke_count]\n",
    "        stroke_list = []\n",
    "        min_time = float(strokes[0][0].attrib[\"time\"])\n",
    "        last_time = 0\n",
    "        stroke_delay = 0  # time between strokes\n",
    "        start_end_strokes = [] # list of start times and end times between strokes; one before sequence starts!\n",
    "        \n",
    "        for stroke in strokes:\n",
    "            x_coords = []\n",
    "            y_coords = []\n",
    "            time_list = []\n",
    "\n",
    "            for i, point in enumerate(stroke):\n",
    "                # print(\"Points\", len(strokes))\n",
    "                x, y, time = point.attrib[\"x\"], point.attrib[\"y\"], point.attrib[\"time\"]\n",
    "                x_coords.append(int(x))\n",
    "                y_coords.append(-int(y))\n",
    "\n",
    "                if i == 0:  # no time passes between strokes!\n",
    "                    min_time += float(time) - min_time - last_time - .001\n",
    "                    start_end_strokes.append((last_time, float(time) - min_time))\n",
    "\n",
    "                next_time = float(time) - min_time\n",
    "\n",
    "                if time_list and next_time == time_list[-1]:\n",
    "                    next_time += .001\n",
    "                    assert next_time > time_list[-1]\n",
    "\n",
    "                # No repeated times\n",
    "                if time_list and next_time <= time_list[-1]:\n",
    "                    next_time = time_list[-1] + .001\n",
    "\n",
    "                time_list.append(next_time)\n",
    "            last_time = time_list[-1]\n",
    "            stroke_list.append({\"x\": x_coords, \"y\": y_coords, \"time\": time_list})\n",
    "\n",
    "        stroke_lists.append(stroke_list)\n",
    "        start_end_strokes_lists.append(start_end_strokes)\n",
    "        \n",
    "    return stroke_lists, start_end_strokes_lists\n",
    "\n",
    "\n",
    "def convert_strokes(stroke_list):\n",
    "    \"\"\" Convert the stroke dict to 3 lists\n",
    "\n",
    "    Args:\n",
    "        stroke_list (list): list of dicts, each dict contains a stroke, keys: x,y, time\n",
    "    Returns:\n",
    "        tuple of array-likes: x coordinates, y coordinates, times\n",
    "\n",
    "    \"\"\"\n",
    "    x, y, time = [], [], []\n",
    "    [x.extend(key[\"x\"]) for key in stroke_list]\n",
    "    [y.extend(key[\"y\"]) for key in stroke_list]\n",
    "    [time.extend(key[\"time\"]) for key in stroke_list]\n",
    "    return np.array(x), np.array(y), np.array(time)\n",
    "\n",
    "\n",
    "def process(time):\n",
    "    total_time = np.max(time) - np.min(time)\n",
    "\n",
    "def normalize(my_array, _max=1):\n",
    "    \"\"\" Max/min rescale to -1,1 range\n",
    "\n",
    "    Args:\n",
    "        my_array:\n",
    "\n",
    "    Returns:\n",
    "\n",
    "    \"\"\"\n",
    "    return ((my_array - np.min(my_array)) / array_range(my_array) - .5) * 2 * _max\n",
    "\n",
    "def array_range(my_array):\n",
    "    return np.max(my_array)-np.min(my_array)\n",
    "\n",
    "def normalize_stroke_list(stroke_list, maintain_ratio=False):\n",
    "    \"\"\" Max/min rescale to -1,1 range\n",
    "\n",
    "    Args:\n",
    "        my_array:\n",
    "\n",
    "    Returns:\n",
    "\n",
    "    \"\"\"\n",
    "    x_max = np.max([max(x[\"x\"]) for x in stroke_list])\n",
    "    x_min = np.min([min(x[\"x\"]) for x in stroke_list])\n",
    "    y_min = np.min([min(x[\"y\"]) for x in stroke_list])\n",
    "    y_max = np.max([max(x[\"y\"]) for x in stroke_list])\n",
    "\n",
    "    ## THIS DOES NOT MAINTAIN CENTERING!\n",
    "    if maintain_ratio:\n",
    "         xrange = x_max-x_min\n",
    "         yrange = y_max-y_min\n",
    "         x_max = xrange * yrange/xrange + x_min\n",
    "\n",
    "\n",
    "    new_stroke_list = []\n",
    "    for item in stroke_list:\n",
    "        #print(item[\"x\"])\n",
    "        new_stroke_list.append({\"x\":normalize(item[\"x\"].copy(), x_max, x_min), \"y\":normalize(item[\"y\"].copy(), y_max, y_min)})\n",
    "\n",
    "    return new_stroke_list\n",
    "\n",
    "\n",
    "def extract_gts(path, instances = 50, max_stroke_count=None):\n",
    "    \"\"\" Take in xml with strokes, output ordered target coordinates\n",
    "        Parameterizes x & y coordinates as functions of t\n",
    "        Any t can be selected; strokes are collapsed so there's minimal time between strokes\n",
    "\n",
    "        Start stroke flag - true for first point in stroke\n",
    "        End stroke flag - true for last point in stroke\n",
    "        ** A single point can have both flags!\n",
    "\n",
    "    Args:\n",
    "        path (str): path to XML\n",
    "        instances (int): number of desired coordinates\n",
    "\n",
    "    Returns:\n",
    "        x-array, y-array\n",
    "    \"\"\"\n",
    "    stroke_lists, start_end_strokes_lists = get_strokes(path, max_stroke_count=max_stroke_count)\n",
    "    \n",
    "    output_gts = []\n",
    "    output_stroke_lists = []\n",
    "    output_xs_to_ys = []\n",
    "\n",
    "    for stroke_list, start_end_strokes in zip(stroke_lists, start_end_strokes_lists):\n",
    "        x,y,time = convert_strokes(stroke_list)\n",
    "\n",
    "        # find dead timezones\n",
    "        # make x and y independently a function of t\n",
    "        time_continuum = np.linspace(np.min(time), np.max(time), instances)\n",
    "        x_func = interpolate.interp1d(time, x)\n",
    "        y_func = interpolate.interp1d(time, y)\n",
    "        begin_stroke = []\n",
    "        start_end_strokes_backup = start_end_strokes.copy()\n",
    "\n",
    "        # Each time a stop/start break is met, we've started a new stroke\n",
    "        # We start with a stop/start break\n",
    "        end_stroke_override = False\n",
    "\n",
    "        strokes_left = len(start_end_strokes)\n",
    "        for i,t in enumerate(time_continuum):\n",
    "            for ii, (lower, upper) in enumerate(start_end_strokes):\n",
    "                if t < lower:\n",
    "                    break # same stroke, go to next timestep\n",
    "                elif t > lower and t < upper:\n",
    "                    if abs(t-lower) < abs(t-upper):\n",
    "                        t = lower\n",
    "                    else:\n",
    "                        t = upper\n",
    "                    time_continuum[i] = t\n",
    "                if t >= upper: # only happens on last item of stroke\n",
    "                    start_end_strokes = start_end_strokes[ii+1:]\n",
    "                    break\n",
    "\n",
    "            # Don't use strokes that can't help anymore\n",
    "            #print(len(start_end_strokes), len(start_end_strokes[ii:]), start_end_strokes)\n",
    "\n",
    "            if strokes_left > len(start_end_strokes):\n",
    "                strokes_left = len(start_end_strokes)\n",
    "                begin_stroke.append(1)\n",
    "            else:\n",
    "                begin_stroke.append(0)\n",
    "\n",
    "\n",
    "        end_stroke = begin_stroke.copy()[1:] + [1]\n",
    "        begin_stroke = np.array(begin_stroke)\n",
    "        end_stroke = np.array(end_stroke)\n",
    "        end_of_sequence = np.zeros(time_continuum.shape[0])\n",
    "        end_of_sequence[-1] = 1\n",
    "\n",
    "        # print(end_of_sequence.shape, end_stroke.shape, begin_stroke.shape)\n",
    "        # print(begin_stroke)\n",
    "        # print(end_stroke)\n",
    "        # print(end_of_sequence)\n",
    "\n",
    "        x_range = array_range(x_func(time_continuum))\n",
    "        y_range = array_range(y_func(time_continuum))\n",
    "\n",
    "        assert len(normalize(x_func(time_continuum))) == len(normalize(y_func(time_continuum))) == len(begin_stroke) == len(end_stroke) == len(end_of_sequence)\n",
    "        output = np.array([normalize(x_func(time_continuum)), normalize(y_func(time_continuum)), begin_stroke, end_stroke, end_of_sequence])\n",
    "\n",
    "        output_gts.append(output)\n",
    "        output_stroke_lists.append(stroke_list)\n",
    "        output_xs_to_ys.append(x_range/y_range)\n",
    "\n",
    "    return output_gts, output_stroke_lists, output_xs_to_ys\n",
    "def render_points_on_image(gts, img_path, strokes=None, save_path=None, x_to_y=None):\n",
    "    gts = np.array(gts)\n",
    "\n",
    "    if x_to_y is not None:\n",
    "        print(\"x to y ratio: \", x_to_y)\n",
    "        gts[0] *= x_to_y\n",
    "\n",
    "    x = gts[0]\n",
    "    y = gts[1]\n",
    "    start_points = gts[2]\n",
    "\n",
    "    # prep_figure()\n",
    "    if strokes:\n",
    "        draw_strokes(normalize_stroke_list(strokes), x_to_y=x_to_y)\n",
    "    elif img_path:\n",
    "        img_path = img_path.replace(\"online_coordinate_data/\", \"\")\n",
    "        img_path = Path(img_path)\n",
    "        img = cv2.imread(img_path.as_posix(), cv2.IMREAD_GRAYSCALE)\n",
    "        img = img[::-1, :]\n",
    "        img = cv2.resize(img, (60, 60))\n",
    "        plt.imshow(img, cmap=\"gray\")\n",
    "        \n",
    "        # move to to 1 by 1\n",
    "        # squareify it first (1 by 1)\n",
    "        # then apply padding\n",
    "        # then scale up by 60\n",
    "        x -= min(x)\n",
    "        y -= min(y)\n",
    "        x /= max(x)\n",
    "        y /= max(y)\n",
    "        x += pad_dpi[\"padding\"]\n",
    "        y += pad_dpi[\"padding\"]\n",
    "        #scale_factor = pad_dpi[\"padding\"] * 2\n",
    "        \n",
    "        #x = x / (max(x) + scale_factor)\n",
    "        #y = y / (max(y) + scale_factor)\n",
    "        x *= 54.7 \n",
    "        y *= 55\n",
    "\n",
    "        # Rescale points\n",
    "        #factor = 2 * pad_dpi[\"padding\"] + 1\n",
    "        #x = (x) / 2 * 60 / factor + pad_dpi[\"padding\"] * 60 / 2\n",
    "        #y = (y) / 2 * 60 / factor + pad_dpi[\"padding\"] * 60 / 2\n",
    "\n",
    "    x_middle_strokes = x[np.where(start_points == 0)]\n",
    "    y_middle_strokes = y[np.where(start_points == 0)]\n",
    "    x_start_strokes = x[np.where(start_points == 1)]\n",
    "    y_start_strokes = y[np.where(start_points == 1)]\n",
    "\n",
    "    plt.scatter(x_middle_strokes, y_middle_strokes, s=4)\n",
    "    plt.scatter(x_start_strokes, y_start_strokes, s=4)\n",
    "\n",
    "    for (x1, y1), (x2, y2) in zip(zip(x_middle_strokes, y_middle_strokes), \n",
    "                                  zip(x_middle_strokes[1:], y_middle_strokes[1:])):\n",
    "        xdiff = (x2 - x1)\n",
    "        ydiff = (y2 - y1)\n",
    "        dx = xdiff / math.sqrt(xdiff**2 + ydiff**2) / 10\n",
    "        dy = ydiff / math.sqrt(xdiff**2 + ydiff**2) / 10\n",
    "        plt.arrow(x1, y1, dx, dy, color=\"blue\", head_width = 0.04, head_length = 0.03, length_includes_head = True)\n",
    "\n",
    "    if save_path:\n",
    "        plt.savefig(save_path)\n",
    "        plt.close()\n",
    "    else:\n",
    "        print(\"final show\")\n",
    "        plt.show()\n"
   ]
  },
  {
   "cell_type": "code",
   "execution_count": 228,
   "metadata": {},
   "outputs": [
    {
     "name": "stdout",
     "output_type": "stream",
     "text": [
      "x to y ratio:  1.3085440874827543\n",
      "final show\n"
     ]
    },
    {
     "data": {
      "image/png": "[encoded data removed]",
      "text/plain": [
       "<Figure size 432x288 with 1 Axes>"
      ]
     },
     "metadata": {
      "needs_background": "light"
     },
     "output_type": "display_data"
    }
   ],
   "source": [
    "## Render points on strokes\n",
    "instance = output_dict[10]\n",
    "#render_points_on_image(instance['gt'], img_path=instance['image_path'], strokes=instance[\"stroke_list\"], x_to_y=instance[\"x_to_y\"])\n",
    "render_points_on_image(instance['gt'], img_path=instance['image_path'], x_to_y=instance[\"x_to_y\"])"
   ]
  },
  {
   "cell_type": "code",
   "execution_count": 37,
   "metadata": {},
   "outputs": [
    {
     "name": "stdout",
     "output_type": "stream",
     "text": [
      "final show\n"
     ]
    },
    {
     "data": {
      "image/png": "[encoded data removed]",
      "text/plain": [
       "<Figure size 432x288 with 1 Axes>"
      ]
     },
     "metadata": {
      "needs_background": "light"
     },
     "output_type": "display_data"
    }
   ],
   "source": [
    "## Render points on image\n",
    "\n",
    "render_points_on_image(instance['gt'], img_path=instance['image_path'])"
   ]
  },
  {
   "cell_type": "code",
   "execution_count": 83,
   "metadata": {},
   "outputs": [
    {
     "data": {
      "text/plain": [
       "[50, 50, 50, 50, 50]"
      ]
     },
     "execution_count": 83,
     "metadata": {},
     "output_type": "execute_result"
    }
   ],
   "source": [
    "x = np.array(instance['gt'])\n",
    "[len(m) for m in x]"
   ]
  },
  {
   "cell_type": "code",
   "execution_count": 86,
   "metadata": {},
   "outputs": [
    {
     "data": {
      "text/plain": [
       "array([0.88908817, 0.77899161, 0.47210899])"
      ]
     },
     "execution_count": 86,
     "metadata": {},
     "output_type": "execute_result"
    }
   ],
   "source": [
    "idx = np.where(x[2]==1)\n",
    "x[1][idx]"
   ]
  },
  {
   "cell_type": "code",
   "execution_count": 105,
   "metadata": {},
   "outputs": [
    {
     "name": "stdout",
     "output_type": "stream",
     "text": [
      "[1035, 1055, 1055, 1057, 1061, 1066, 1071, 1076, 1078, 1083, 1086, 1083, 1086]\n",
      "[965, 960, 968, 994, 1023, 1055, 1094, 1124, 1149, 1162, 1172, 1165, 1156, 1150, 1155, 1164, 1185, 1208, 1228, 1249, 1268, 1279, 1286, 1281, 1269, 1252, 1228, 1199, 1170, 1143, 1121, 1107, 1096]\n",
      "[1363, 1363, 1366, 1370, 1371, 1380, 1387, 1399, 1419, 1442, 1467, 1493, 1510, 1522, 1529, 1537, 1544, 1549, 1551, 1550, 1542, 1528, 1517, 1498, 1471, 1438, 1405, 1371, 1343, 1322, 1314, 1310, 1312, 1314, 1317, 1330, 1348]\n"
     ]
    },
    {
     "data": {
      "text/plain": [
       "[{'x': [-0.7461928934010152,\n",
       "   -0.6785109983079527,\n",
       "   -0.6785109983079527,\n",
       "   -0.6717428087986463,\n",
       "   -0.6582064297800339,\n",
       "   -0.6412859560067682,\n",
       "   -0.6243654822335025,\n",
       "   -0.607445008460237,\n",
       "   -0.6006768189509306,\n",
       "   -0.583756345177665,\n",
       "   -0.5736040609137056,\n",
       "   -0.583756345177665,\n",
       "   -0.5736040609137056],\n",
       "  'y': [0.8865248226950355,\n",
       "   0.8120567375886525,\n",
       "   0.7730496453900708,\n",
       "   0.698581560283688,\n",
       "   0.6134751773049645,\n",
       "   0.5283687943262412,\n",
       "   0.44326241134751765,\n",
       "   0.37234042553191493,\n",
       "   0.3156028368794326,\n",
       "   0.25886524822695045,\n",
       "   0.2021276595744681,\n",
       "   0.17375886524822692,\n",
       "   0.13120567375886516]},\n",
       " {'x': [-0.9830795262267343,\n",
       "   -1.0,\n",
       "   -0.9729272419627749,\n",
       "   -0.8849407783417935,\n",
       "   -0.7868020304568528,\n",
       "   -0.6785109983079527,\n",
       "   -0.5465313028764806,\n",
       "   -0.44500846023688667,\n",
       "   -0.36040609137055835,\n",
       "   -0.3164128595600677,\n",
       "   -0.2825719120135364,\n",
       "   -0.3062605752961083,\n",
       "   -0.33671742808798644,\n",
       "   -0.3570219966159053,\n",
       "   -0.3401015228426396,\n",
       "   -0.30964467005076146,\n",
       "   -0.23857868020304573,\n",
       "   -0.16074450084602365,\n",
       "   -0.0930626057529611,\n",
       "   -0.021996615905245376,\n",
       "   0.04230118443316422,\n",
       "   0.07952622673434862,\n",
       "   0.10321489001692052,\n",
       "   0.08629441624365475,\n",
       "   0.045685279187817285,\n",
       "   -0.011844331641285955,\n",
       "   -0.0930626057529611,\n",
       "   -0.19120135363790192,\n",
       "   -0.2893401015228426,\n",
       "   -0.3807106598984772,\n",
       "   -0.455160744500846,\n",
       "   -0.5025380710659899,\n",
       "   -0.5397631133671743],\n",
       "  'y': [0.7659574468085106,\n",
       "   0.7836879432624113,\n",
       "   0.8049645390070923,\n",
       "   0.8404255319148937,\n",
       "   0.8900709219858156,\n",
       "   0.9397163120567376,\n",
       "   0.9645390070921986,\n",
       "   1.0,\n",
       "   0.9893617021276595,\n",
       "   0.9645390070921986,\n",
       "   0.8971631205673758,\n",
       "   0.8262411347517731,\n",
       "   0.7340425531914894,\n",
       "   0.6631205673758864,\n",
       "   0.5957446808510638,\n",
       "   0.553191489361702,\n",
       "   0.5177304964539007,\n",
       "   0.4858156028368794,\n",
       "   0.46808510638297873,\n",
       "   0.4184397163120568,\n",
       "   0.35815602836879434,\n",
       "   0.2943262411347518,\n",
       "   0.2127659574468086,\n",
       "   0.13829787234042556,\n",
       "   0.046099290780141855,\n",
       "   -0.06382978723404253,\n",
       "   -0.16312056737588654,\n",
       "   -0.24113475177304966,\n",
       "   -0.3085106382978723,\n",
       "   -0.32978723404255317,\n",
       "   -0.3085106382978723,\n",
       "   -0.26241134751773054,\n",
       "   -0.1950354609929078]},\n",
       " {'x': [0.3637901861252115,\n",
       "   0.3637901861252115,\n",
       "   0.37394247038917094,\n",
       "   0.38747884940778343,\n",
       "   0.3908629441624365,\n",
       "   0.42131979695431476,\n",
       "   0.44500846023688667,\n",
       "   0.48561759729272413,\n",
       "   0.5532994923857868,\n",
       "   0.6311336717428089,\n",
       "   0.7157360406091371,\n",
       "   0.8037225042301184,\n",
       "   0.8612521150592216,\n",
       "   0.9018612521150593,\n",
       "   0.9255499153976312,\n",
       "   0.9526226734348562,\n",
       "   0.9763113367174281,\n",
       "   0.9932318104906936,\n",
       "   1.0,\n",
       "   0.9966159052453469,\n",
       "   0.9695431472081217,\n",
       "   0.9221658206429779,\n",
       "   0.8849407783417935,\n",
       "   0.8206429780033841,\n",
       "   0.7292724196277496,\n",
       "   0.6175972927241962,\n",
       "   0.505922165820643,\n",
       "   0.3908629441624365,\n",
       "   0.29610829103214886,\n",
       "   0.22504230118443314,\n",
       "   0.19796954314720816,\n",
       "   0.18443316412859567,\n",
       "   0.1912013536379018,\n",
       "   0.19796954314720816,\n",
       "   0.20812182741116758,\n",
       "   0.2521150592216581,\n",
       "   0.31302876480541464],\n",
       "  'y': [0.5106382978723405,\n",
       "   0.4822695035460993,\n",
       "   0.4113475177304964,\n",
       "   0.3085106382978724,\n",
       "   0.20921985815602828,\n",
       "   0.09929078014184389,\n",
       "   0.03191489361702127,\n",
       "   0.0,\n",
       "   -0.007092198581560294,\n",
       "   0.014184397163120588,\n",
       "   0.06028368794326244,\n",
       "   0.09219858156028371,\n",
       "   0.11702127659574457,\n",
       "   0.11702127659574457,\n",
       "   0.09929078014184389,\n",
       "   0.06382978723404253,\n",
       "   -0.0035460992907800915,\n",
       "   -0.1028368794326241,\n",
       "   -0.23404255319148937,\n",
       "   -0.3900709219858156,\n",
       "   -0.5390070921985816,\n",
       "   -0.6595744680851063,\n",
       "   -0.7730496453900709,\n",
       "   -0.8687943262411347,\n",
       "   -0.925531914893617,\n",
       "   -0.9716312056737588,\n",
       "   -1.0,\n",
       "   -1.0,\n",
       "   -0.9609929078014184,\n",
       "   -0.8723404255319149,\n",
       "   -0.7624113475177305,\n",
       "   -0.6347517730496454,\n",
       "   -0.5319148936170213,\n",
       "   -0.46099290780141844,\n",
       "   -0.400709219858156,\n",
       "   -0.36170212765957444,\n",
       "   -0.3191489361702128]}]"
      ]
     },
     "execution_count": 105,
     "metadata": {},
     "output_type": "execute_result"
    }
   ],
   "source": [
    "normalize_stroke_list(instance[\"stroke_list\"])"
   ]
  },
  {
   "cell_type": "code",
   "execution_count": 41,
   "metadata": {},
   "outputs": [
    {
     "data": {
      "text/plain": [
       "(array([ 0,  8, 27]),)"
      ]
     },
     "execution_count": 41,
     "metadata": {},
     "output_type": "execute_result"
    }
   ],
   "source": [
    "np.where(x[2])"
   ]
  },
  {
   "cell_type": "code",
   "execution_count": 48,
   "metadata": {},
   "outputs": [
    {
     "ename": "TypeError",
     "evalue": "list indices must be integers or slices, not list",
     "output_type": "error",
     "traceback": [
      "\u001b[0;31m---------------------------------------------------------------------------\u001b[0m",
      "\u001b[0;31mTypeError\u001b[0m                                 Traceback (most recent call last)",
      "\u001b[0;32m<ipython-input-48-5b8ec2d6ac96>\u001b[0m in \u001b[0;36m<module>\u001b[0;34m\u001b[0m\n\u001b[0;32m----> 1\u001b[0;31m \u001b[0mx\u001b[0m\u001b[0;34m[\u001b[0m\u001b[0;36m1\u001b[0m\u001b[0;34m]\u001b[0m\u001b[0;34m[\u001b[0m\u001b[0mx\u001b[0m\u001b[0;34m[\u001b[0m\u001b[0;36m2\u001b[0m\u001b[0;34m]\u001b[0m\u001b[0;34m]\u001b[0m\u001b[0;34m\u001b[0m\u001b[0;34m\u001b[0m\u001b[0m\n\u001b[0m",
      "\u001b[0;31mTypeError\u001b[0m: list indices must be integers or slices, not list"
     ]
    }
   ],
   "source": [
    "x[1][x[2]]"
   ]
  },
  {
   "cell_type": "code",
   "execution_count": 50,
   "metadata": {},
   "outputs": [
    {
     "data": {
      "text/plain": [
       "list"
      ]
     },
     "execution_count": 50,
     "metadata": {},
     "output_type": "execute_result"
    }
   ],
   "source": []
  },
  {
   "cell_type": "code",
   "execution_count": 264,
   "metadata": {},
   "outputs": [
    {
     "name": "stderr",
     "output_type": "stream",
     "text": [
      "/home/taylor/anaconda3/envs/hw2/lib/python3.7/site-packages/ipykernel_launcher.py:20: RuntimeWarning: invalid value encountered in long_scalars\n"
     ]
    },
    {
     "data": {
      "text/plain": [
       "array([0, 1, 2, 3, 4, 5, 6, 7, 8])"
      ]
     },
     "execution_count": 264,
     "metadata": {},
     "output_type": "execute_result"
    }
   ],
   "source": [
    "normalize(np.array(range(0,9)))"
   ]
  },
  {
   "cell_type": "code",
   "execution_count": 321,
   "metadata": {},
   "outputs": [
    {
     "data": {
      "text/plain": [
       "101.33333333333334"
      ]
     },
     "execution_count": 321,
     "metadata": {},
     "output_type": "execute_result"
    }
   ],
   "source": []
  },
  {
   "cell_type": "code",
   "execution_count": 359,
   "metadata": {},
   "outputs": [
    {
     "name": "stdout",
     "output_type": "stream",
     "text": [
      "Intermediate pass None\n",
      "torch.Size([16, 1, 1024])\n"
     ]
    }
   ],
   "source": [
    "import sys\n",
    "sys.path.append(\"../..\")\n",
    "from models.basic import CNN\n",
    "from torch import Tensor\n",
    "cnn = CNN(nc=1)\n",
    "my_image = Tensor(np.array(range(0,3600)).reshape(1,1,60,60))\n",
    "\n",
    "output = cnn(my_image)\n",
    "print(output.shape)"
   ]
  },
  {
   "cell_type": "code",
   "execution_count": 366,
   "metadata": {},
   "outputs": [
    {
     "data": {
      "text/plain": [
       "PosixPath('online_coordinate_data/3_stroke_16')"
      ]
     },
     "execution_count": 366,
     "metadata": {},
     "output_type": "execute_result"
    }
   ],
   "source": [
    "data_folder = Path(\"..\").resolve()\n",
    "path = Path(\"/media/data/GitHub/simple_hwr/data/online_coordinate_data/3_stroke_16/\")\n",
    "path.relative_to(data_folder)"
   ]
  },
  {
   "cell_type": "code",
   "execution_count": null,
   "metadata": {},
   "outputs": [],
   "source": []
  }
 ],
 "metadata": {
  "kernelspec": {
   "display_name": "Python 3",
   "language": "python",
   "name": "python3"
  },
  "language_info": {
   "codemirror_mode": {
    "name": "ipython",
    "version": 3
   },
   "file_extension": ".py",
   "mimetype": "text/x-python",
   "name": "python",
   "nbconvert_exporter": "python",
   "pygments_lexer": "ipython3",
   "version": "3.7.3"
  }
 },
 "nbformat": 4,
 "nbformat_minor": 2
}
