{
 "cells": [
  {
   "cell_type": "code",
   "execution_count": 1,
   "metadata": {},
   "outputs": [],
   "source": [
    "import sys\n",
    "sys.path.append(\"/media/taylor/Data/Linux/Github/simple_hwr/hwr_utils\")\n",
    "sys.path.append(\"./hwr_utils\")\n",
    "from matplotlib import pyplot as plt\n",
    "\n",
    "import torch\n",
    "import torch.distributions as D\n",
    "from new_pytorch import MixtureSameFamily\n",
    "\n",
    "mix = D.Categorical(torch.ones(5,))\n",
    "means1, std1 = torch.randn(5,), torch.rand(5,)\n",
    "comp = D.Normal(means1, std1)\n",
    "gmm = MixtureSameFamily(mix, comp)\n",
    "\n",
    "mix2 = D.Categorical(torch.ones(5,))\n",
    "means2, std2 = torch.randn(5,), torch.rand(5,)\n",
    "comp2 = D.Normal(means2, std2)\n",
    "gmm2 = MixtureSameFamily(mix2, comp2)\n",
    "\n",
    "gmm_both = MixtureSameFamily(mix, D.Normal(means2+means1, std2+std1))"
   ]
  },
  {
   "cell_type": "code",
   "execution_count": 2,
   "metadata": {},
   "outputs": [
    {
     "name": "stdout",
     "output_type": "stream",
     "text": [
      "tensor(3)\n"
     ]
    }
   ],
   "source": [
    "print(mix.sample())"
   ]
  },
  {
   "cell_type": "code",
   "execution_count": 3,
   "metadata": {},
   "outputs": [
    {
     "data": {
      "text/plain": [
       "(array([  1.,   0.,   1.,   1.,   4.,   4.,   9.,   8.,  19.,  31.,  32.,\n",
       "         45.,  57.,  58., 112., 137., 138., 194., 226., 256., 296., 386.,\n",
       "        387., 422., 429., 487., 516., 598., 590., 645., 726., 714., 730.,\n",
       "        533., 420., 336., 169., 125.,  64.,  41.,  16.,  15.,   4.,   7.,\n",
       "          2.,   6.,   0.,   0.,   1.,   2.]),\n",
       " array([-6.671861  , -6.408747  , -6.1456337 , -5.8825197 , -5.619406  ,\n",
       "        -5.3562922 , -5.0931787 , -4.830065  , -4.5669513 , -4.3038373 ,\n",
       "        -4.0407233 , -3.7776098 , -3.514496  , -3.251382  , -2.9882684 ,\n",
       "        -2.7251546 , -2.462041  , -2.1989272 , -1.9358134 , -1.6726996 ,\n",
       "        -1.4095858 , -1.1464721 , -0.8833583 , -0.62024456, -0.3571308 ,\n",
       "        -0.09401703,  0.16909674,  0.4322105 ,  0.69532424,  0.95843804,\n",
       "         1.2215518 ,  1.4846655 ,  1.7477794 ,  2.010893  ,  2.2740068 ,\n",
       "         2.5371206 ,  2.8002343 ,  3.063348  ,  3.326462  ,  3.5895758 ,\n",
       "         3.8526895 ,  4.1158032 ,  4.378917  ,  4.6420307 ,  4.9051447 ,\n",
       "         5.168258  ,  5.431372  ,  5.6944857 ,  5.9575996 ,  6.220713  ,\n",
       "         6.483827  ], dtype=float32),\n",
       " <a list of 50 Patch objects>)"
      ]
     },
     "execution_count": 3,
     "metadata": {},
     "output_type": "execute_result"
    },
    {
     "data": {
      "image/png": "[encoded data removed]",
      "text/plain": [
       "<Figure size 432x288 with 1 Axes>"
      ]
     },
     "metadata": {
      "needs_background": "light"
     },
     "output_type": "display_data"
    }
   ],
   "source": [
    "both = [gmm_both.sample() for i in range(10000)]\n",
    "plt.hist(both, bins=50)"
   ]
  },
  {
   "cell_type": "code",
   "execution_count": 4,
   "metadata": {},
   "outputs": [
    {
     "data": {
      "text/plain": [
       "(array([  1.,   0.,   6.,   4.,   2.,   3.,   7.,   5.,  17.,  16.,  24.,\n",
       "         44.,  68.,  84., 107., 127., 133., 174., 195., 262., 248., 285.,\n",
       "        297., 333., 371., 374., 399., 457., 522., 547., 550., 569., 568.,\n",
       "        586., 538., 526., 402., 340., 224., 178., 137.,  99.,  70.,  43.,\n",
       "         28.,  13.,   8.,   5.,   2.,   2.]),\n",
       " array([-5.7573986 , -5.539287  , -5.3211756 , -5.103064  , -4.8849525 ,\n",
       "        -4.666841  , -4.4487295 , -4.230618  , -4.0125065 , -3.794395  ,\n",
       "        -3.5762835 , -3.358172  , -3.1400604 , -2.921949  , -2.7038374 ,\n",
       "        -2.4857259 , -2.2676144 , -2.0495028 , -1.8313913 , -1.6132798 ,\n",
       "        -1.3951683 , -1.1770568 , -0.9589453 , -0.74083376, -0.52272224,\n",
       "        -0.30461073, -0.08649921,  0.1316123 ,  0.34972382,  0.56783533,\n",
       "         0.78594685,  1.0040584 ,  1.2221699 ,  1.4402814 ,  1.6583929 ,\n",
       "         1.8765044 ,  2.094616  ,  2.3127275 ,  2.530839  ,  2.7489505 ,\n",
       "         2.967062  ,  3.1851735 ,  3.403285  ,  3.6213965 ,  3.839508  ,\n",
       "         4.0576196 ,  4.275731  ,  4.4938426 ,  4.711954  ,  4.9300656 ,\n",
       "         5.148177  ], dtype=float32),\n",
       " <a list of 50 Patch objects>)"
      ]
     },
     "execution_count": 4,
     "metadata": {},
     "output_type": "execute_result"
    },
    {
     "data": {
      "image/png": "[encoded data removed]",
      "text/plain": [
       "<Figure size 432x288 with 1 Axes>"
      ]
     },
     "metadata": {
      "needs_background": "light"
     },
     "output_type": "display_data"
    }
   ],
   "source": [
    "both = [gmm2.sample()+gmm.sample() for i in range(10000)]\n",
    "plt.hist(both, bins=50)"
   ]
  },
  {
   "cell_type": "code",
   "execution_count": 5,
   "metadata": {},
   "outputs": [
    {
     "data": {
      "text/plain": [
       "(array([  2.,   4.,   2.,   2.,   5.,   6.,  10.,  11.,  25.,  26.,  51.,\n",
       "         54.,  91.,  95., 126., 182., 190., 208., 228., 283., 317., 282.,\n",
       "        328., 351., 389., 369., 415., 483., 510., 567., 577., 549., 530.,\n",
       "        540., 488., 409., 369., 294., 205., 131., 103.,  76.,  52.,  33.,\n",
       "          9.,   5.,   5.,   9.,   3.,   1.]),\n",
       " array([-5.5739675 , -5.3566785 , -5.13939   , -4.922101  , -4.7048125 ,\n",
       "        -4.4875236 , -4.270235  , -4.052946  , -3.8356574 , -3.6183686 ,\n",
       "        -3.40108   , -3.1837912 , -2.9665024 , -2.7492137 , -2.531925  ,\n",
       "        -2.3146362 , -2.0973475 , -1.8800586 , -1.6627699 , -1.4454812 ,\n",
       "        -1.2281924 , -1.0109037 , -0.7936149 , -0.5763262 , -0.35903743,\n",
       "        -0.14174867,  0.07554009,  0.29282883,  0.5101176 ,  0.7274063 ,\n",
       "         0.9446951 ,  1.1619838 ,  1.3792726 ,  1.5965613 ,  1.81385   ,\n",
       "         2.031139  ,  2.2484276 ,  2.4657164 ,  2.683005  ,  2.9002938 ,\n",
       "         3.1175826 ,  3.3348713 ,  3.55216   ,  3.7694488 ,  3.9867377 ,\n",
       "         4.204026  ,  4.421315  ,  4.6386037 ,  4.8558927 ,  5.073181  ,\n",
       "         5.29047   ], dtype=float32),\n",
       " <a list of 50 Patch objects>)"
      ]
     },
     "execution_count": 5,
     "metadata": {},
     "output_type": "execute_result"
    },
    {
     "data": {
      "image/png": "[encoded data removed]",
      "text/plain": [
       "<Figure size 432x288 with 1 Axes>"
      ]
     },
     "metadata": {
      "needs_background": "light"
     },
     "output_type": "display_data"
    }
   ],
   "source": [
    "both = [gmm2.sample()+gmm.sample() for i in range(10000)]\n",
    "plt.hist(both, bins=50)"
   ]
  },
  {
   "cell_type": "code",
   "execution_count": 6,
   "metadata": {},
   "outputs": [],
   "source": [
    "import sys\n",
    "sys.path.append(\"/media/taylor/Data/Linux/Github/simple_hwr/hwr_utils\")\n",
    "from matplotlib import pyplot as plt\n",
    "\n",
    "import torch\n",
    "import torch.distributions as D\n",
    "from new_pytorch import MixtureSameFamily\n",
    "\n",
    "\n",
    "means3, std3 = -5, torch.rand(1,)\n",
    "normal = D.Normal(means3, std3)\n",
    "\n",
    "gmm_simple = MixtureSameFamily(mix, D.Normal(means3+means1, std3+std1))\n"
   ]
  },
  {
   "cell_type": "code",
   "execution_count": 7,
   "metadata": {},
   "outputs": [
    {
     "data": {
      "text/plain": [
       "(array([2.000e+00, 2.000e+00, 4.000e+00, 1.100e+01, 1.600e+01, 2.000e+01,\n",
       "        4.300e+01, 7.400e+01, 8.800e+01, 1.390e+02, 1.830e+02, 2.370e+02,\n",
       "        3.260e+02, 3.500e+02, 4.150e+02, 4.340e+02, 5.380e+02, 5.610e+02,\n",
       "        6.070e+02, 7.170e+02, 7.580e+02, 7.910e+02, 8.620e+02, 9.090e+02,\n",
       "        9.780e+02, 9.980e+02, 1.108e+03, 1.183e+03, 1.247e+03, 1.101e+03,\n",
       "        1.050e+03, 9.500e+02, 8.090e+02, 6.510e+02, 5.360e+02, 3.950e+02,\n",
       "        3.010e+02, 2.260e+02, 1.430e+02, 1.000e+02, 5.600e+01, 3.500e+01,\n",
       "        1.900e+01, 9.000e+00, 9.000e+00, 4.000e+00, 1.000e+00, 1.000e+00,\n",
       "        2.000e+00, 1.000e+00]),\n",
       " array([-10.908197  , -10.671865  , -10.4355345 , -10.199203  ,\n",
       "         -9.962871  ,  -9.72654   ,  -9.490208  ,  -9.253876  ,\n",
       "         -9.017544  ,  -8.781213  ,  -8.544881  ,  -8.308549  ,\n",
       "         -8.072218  ,  -7.835886  ,  -7.5995545 ,  -7.3632226 ,\n",
       "         -7.126891  ,  -6.8905597 ,  -6.6542277 ,  -6.4178963 ,\n",
       "         -6.1815643 ,  -5.945233  ,  -5.7089014 ,  -5.4725695 ,\n",
       "         -5.236238  ,  -4.9999065 ,  -4.7635746 ,  -4.527243  ,\n",
       "         -4.290911  ,  -4.0545797 ,  -3.818248  ,  -3.5819163 ,\n",
       "         -3.3455849 ,  -3.1092532 ,  -2.8729215 ,  -2.6365898 ,\n",
       "         -2.4002583 ,  -2.1639266 ,  -1.9275949 ,  -1.6912633 ,\n",
       "         -1.4549316 ,  -1.2186    ,  -0.98226833,  -0.7459367 ,\n",
       "         -0.50960505,  -0.2732734 ,  -0.03694178,   0.19938987,\n",
       "          0.43572152,   0.67205316,   0.9083848 ], dtype=float32),\n",
       " <a list of 50 Patch objects>)"
      ]
     },
     "execution_count": 7,
     "metadata": {},
     "output_type": "execute_result"
    },
    {
     "data": {
      "image/png": "[encoded data removed]",
      "text/plain": [
       "<Figure size 432x288 with 1 Axes>"
      ]
     },
     "metadata": {
      "needs_background": "light"
     },
     "output_type": "display_data"
    }
   ],
   "source": [
    "both = [gmm_simple.sample() for i in range(20000)]\n",
    "plt.hist(both, bins=50)"
   ]
  },
  {
   "cell_type": "code",
   "execution_count": 8,
   "metadata": {},
   "outputs": [
    {
     "data": {
      "text/plain": [
       "(array([   3.,    4.,    3.,    8.,   17.,   27.,   44.,   51.,   98.,\n",
       "         127.,  185.,  258.,  260.,  319.,  400.,  405.,  475.,  451.,\n",
       "         445.,  421.,  435.,  510.,  580.,  605.,  671.,  725.,  851.,\n",
       "         913., 1008., 1014., 1113., 1171., 1119., 1073.,  975.,  848.,\n",
       "         690.,  547.,  376.,  295.,  202.,  112.,   71.,   43.,   24.,\n",
       "          11.,    8.,    5.,    2.,    2.]),\n",
       " array([-9.9185295 , -9.737434  , -9.556339  , -9.375244  , -9.194149  ,\n",
       "        -9.013054  , -8.831959  , -8.650864  , -8.4697695 , -8.288674  ,\n",
       "        -8.107579  , -7.9264836 , -7.745389  , -7.564294  , -7.3831987 ,\n",
       "        -7.2021036 , -7.0210085 , -6.8399134 , -6.6588182 , -6.477723  ,\n",
       "        -6.2966285 , -6.1155334 , -5.934438  , -5.753343  , -5.572248  ,\n",
       "        -5.391153  , -5.2100577 , -5.028963  , -4.847868  , -4.666773  ,\n",
       "        -4.4856777 , -4.3045826 , -4.1234875 , -3.9423926 , -3.7612975 ,\n",
       "        -3.5802023 , -3.3991072 , -3.2180123 , -3.0369172 , -2.855822  ,\n",
       "        -2.674727  , -2.493632  , -2.312537  , -2.1314418 , -1.9503468 ,\n",
       "        -1.7692517 , -1.5881567 , -1.4070616 , -1.2259666 , -1.0448714 ,\n",
       "        -0.86377645], dtype=float32),\n",
       " <a list of 50 Patch objects>)"
      ]
     },
     "execution_count": 8,
     "metadata": {},
     "output_type": "execute_result"
    },
    {
     "data": {
      "image/png": "[encoded data removed]",
      "text/plain": [
       "<Figure size 432x288 with 1 Axes>"
      ]
     },
     "metadata": {
      "needs_background": "light"
     },
     "output_type": "display_data"
    }
   ],
   "source": [
    "both = [normal.sample()+gmm.sample() for i in range(20000)]\n",
    "plt.hist(both, bins=50)"
   ]
  },
  {
   "cell_type": "code",
   "execution_count": 9,
   "metadata": {},
   "outputs": [
    {
     "data": {
      "text/plain": [
       "-5"
      ]
     },
     "execution_count": 9,
     "metadata": {},
     "output_type": "execute_result"
    }
   ],
   "source": [
    "means3\n"
   ]
  },
  {
   "cell_type": "code",
   "execution_count": 10,
   "metadata": {},
   "outputs": [
    {
     "data": {
      "text/plain": [
       "tensor([ 0.2718,  0.7077, -2.0642,  1.1981,  0.0415])"
      ]
     },
     "execution_count": 10,
     "metadata": {},
     "output_type": "execute_result"
    }
   ],
   "source": [
    "means1"
   ]
  },
  {
   "cell_type": "code",
   "execution_count": 11,
   "metadata": {},
   "outputs": [
    {
     "data": {
      "text/plain": [
       "tensor([-4.7282, -4.2923, -7.0642, -3.8019, -4.9585])"
      ]
     },
     "execution_count": 11,
     "metadata": {},
     "output_type": "execute_result"
    }
   ],
   "source": [
    "means3+means1"
   ]
  },
  {
   "cell_type": "code",
   "execution_count": 12,
   "metadata": {},
   "outputs": [
    {
     "name": "stdout",
     "output_type": "stream",
     "text": [
      "tensor([-3.,  1., -1.,  3.]) tensor([0.4388, 0.4806, 0.4620, 0.5019])\n",
      "tensor([-3., -1.,  1.,  3.]) tensor([0.4388, 0.4620, 0.4806, 0.5019])\n"
     ]
    },
    {
     "data": {
      "image/png": "[encoded data removed]",
      "text/plain": [
       "<Figure size 432x288 with 1 Axes>"
      ]
     },
     "metadata": {
      "needs_background": "light"
     },
     "output_type": "display_data"
    },
    {
     "data": {
      "image/png": "[encoded data removed]",
      "text/plain": [
       "<Figure size 432x288 with 1 Axes>"
      ]
     },
     "metadata": {
      "needs_background": "light"
     },
     "output_type": "display_data"
    },
    {
     "data": {
      "image/png": "[encoded data removed]",
      "text/plain": [
       "<Figure size 432x288 with 1 Axes>"
      ]
     },
     "metadata": {
      "needs_background": "light"
     },
     "output_type": "display_data"
    }
   ],
   "source": [
    "# proof of concept with 2x2 mixtures\n",
    "import sys\n",
    "sys.path.append(\"/media/taylor/Data/Linux/Github/simple_hwr/hwr_utils\")\n",
    "from matplotlib import pyplot as plt\n",
    "\n",
    "import torch\n",
    "import torch.distributions as D\n",
    "from new_pytorch import MixtureSameFamily\n",
    "\n",
    "mix = D.Categorical(torch.ones(2,))\n",
    "means1, std1 = torch.tensor([-1.,1.]), torch.rand(2,)\n",
    "comp = D.Normal(means1, std1)\n",
    "gmm1 = MixtureSameFamily(mix, comp)\n",
    "\n",
    "mix2 = D.Categorical(torch.ones(2,))\n",
    "means2, std2 = torch.tensor([-2.0,2.0]), torch.rand(2,)\n",
    "comp2 = D.Normal(means2, std2)\n",
    "gmm2 = MixtureSameFamily(mix2, comp2)\n",
    "\n",
    "mix_both = D.Categorical(torch.ones(4,))\n",
    "meansboth1, stdboth1 = torch.cat((means2+means1[0:1], means2+means1[1:]),axis=0), torch.cat((std2**2+std1[0:1]**2, std2**2+std1[1:]**2),axis=0)**.5\n",
    "meansboth2, stdboth2 = torch.cat((means1+means2[0:1], means1+means2[1:]),axis=0), torch.cat((std1**2+std2[0:1]**2, std1**2+std2[1:]**2),axis=0)**.5\n",
    "\n",
    "print(meansboth1, stdboth1)\n",
    "print(meansboth2, stdboth2)\n",
    "\n",
    "gmm_both1 = MixtureSameFamily(mix_both, D.Normal(meansboth1, stdboth1))\n",
    "gmm_both2 = MixtureSameFamily(mix_both, D.Normal(meansboth2, stdboth2))\n",
    "\n",
    "both = [gmm1.sample()+gmm2.sample() for i in range(20000)]\n",
    "plt.xlim = (-8,8)\n",
    "plt.hist(both, bins=50)\n",
    "plt.show()\n",
    "\n",
    "both_gmm1 = [gmm_both1.sample() for i in range(20000)]\n",
    "plt.hist(both_gmm1, bins=50)\n",
    "plt.show()\n",
    "\n",
    "both_gmm2 = [gmm_both2.sample() for i in range(20000)]\n",
    "plt.hist(both_gmm2, bins=50)\n",
    "plt.show()\n",
    "\n",
    "                             "
   ]
  },
  {
   "cell_type": "code",
   "execution_count": 17,
   "metadata": {},
   "outputs": [
    {
     "ename": "NotImplementedError",
     "evalue": "",
     "output_type": "error",
     "traceback": [
      "\u001b[0;31m---------------------------------------------------------------------------\u001b[0m",
      "\u001b[0;31mNotImplementedError\u001b[0m                       Traceback (most recent call last)",
      "\u001b[0;32m<ipython-input-17-9458568b900d>\u001b[0m in \u001b[0;36m<module>\u001b[0;34m\u001b[0m\n\u001b[1;32m      1\u001b[0m \u001b[0mgmm1\u001b[0m\u001b[0;34m.\u001b[0m\u001b[0mrequires_grad\u001b[0m \u001b[0;34m=\u001b[0m \u001b[0;32mTrue\u001b[0m\u001b[0;34m\u001b[0m\u001b[0;34m\u001b[0m\u001b[0m\n\u001b[0;32m----> 2\u001b[0;31m \u001b[0mgmm1\u001b[0m\u001b[0;34m.\u001b[0m\u001b[0mrsample\u001b[0m\u001b[0;34m(\u001b[0m\u001b[0;34m)\u001b[0m\u001b[0;34m.\u001b[0m\u001b[0mbackward\u001b[0m\u001b[0;34m(\u001b[0m\u001b[0;34m)\u001b[0m\u001b[0;34m\u001b[0m\u001b[0;34m\u001b[0m\u001b[0m\n\u001b[0m",
      "\u001b[0;32m~/anaconda3/envs/hwr5/lib/python3.8/site-packages/torch/distributions/distribution.py\u001b[0m in \u001b[0;36mrsample\u001b[0;34m(self, sample_shape)\u001b[0m\n\u001b[1;32m    125\u001b[0m         \u001b[0mare\u001b[0m \u001b[0mbatched\u001b[0m\u001b[0;34m.\u001b[0m\u001b[0;34m\u001b[0m\u001b[0;34m\u001b[0m\u001b[0m\n\u001b[1;32m    126\u001b[0m         \"\"\"\n\u001b[0;32m--> 127\u001b[0;31m         \u001b[0;32mraise\u001b[0m \u001b[0mNotImplementedError\u001b[0m\u001b[0;34m\u001b[0m\u001b[0;34m\u001b[0m\u001b[0m\n\u001b[0m\u001b[1;32m    128\u001b[0m \u001b[0;34m\u001b[0m\u001b[0m\n\u001b[1;32m    129\u001b[0m     \u001b[0;32mdef\u001b[0m \u001b[0msample_n\u001b[0m\u001b[0;34m(\u001b[0m\u001b[0mself\u001b[0m\u001b[0;34m,\u001b[0m \u001b[0mn\u001b[0m\u001b[0;34m)\u001b[0m\u001b[0;34m:\u001b[0m\u001b[0;34m\u001b[0m\u001b[0;34m\u001b[0m\u001b[0m\n",
      "\u001b[0;31mNotImplementedError\u001b[0m: "
     ]
    }
   ],
   "source": [
    "gmm1.requires_grad = True\n",
    "gmm1.rsample().backward()"
   ]
  },
  {
   "cell_type": "code",
   "execution_count": null,
   "metadata": {},
   "outputs": [],
   "source": [
    "\n"
   ]
  }
 ],
 "metadata": {
  "kernelspec": {
   "display_name": "hwr5",
   "language": "python",
   "name": "hwr5"
  },
  "language_info": {
   "codemirror_mode": {
    "name": "ipython",
    "version": 3
   },
   "file_extension": ".py",
   "mimetype": "text/x-python",
   "name": "python",
   "nbconvert_exporter": "python",
   "pygments_lexer": "ipython3",
   "version": "3.8.1"
  }
 },
 "nbformat": 4,
 "nbformat_minor": 2
}
