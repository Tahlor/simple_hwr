{
 "cells": [
  {
   "cell_type": "code",
   "execution_count": 1,
   "metadata": {},
   "outputs": [],
   "source": [
    "import sys\n",
    "sys.path.append(\"/media/taylor/Data/Linux/Github/simple_hwr/hwr_utils\")\n",
    "from matplotlib import pyplot as plt\n",
    "\n",
    "import torch\n",
    "import torch.distributions as D\n",
    "from new_pytorch import MixtureSameFamily\n",
    "\n",
    "mix = D.Categorical(torch.ones(5,))\n",
    "means1, std1 = torch.randn(5,), torch.rand(5,)\n",
    "comp = D.Normal(means1, std1)\n",
    "gmm = MixtureSameFamily(mix, comp)\n",
    "\n",
    "mix2 = D.Categorical(torch.ones(5,))\n",
    "means2, std2 = torch.randn(5,), torch.rand(5,)\n",
    "comp2 = D.Normal(means2, std2)\n",
    "gmm2 = MixtureSameFamily(mix2, comp2)\n",
    "\n",
    "gmm_both = MixtureSameFamily(mix, D.Normal(means2+means1, std2+std1))"
   ]
  },
  {
   "cell_type": "code",
   "execution_count": 2,
   "metadata": {},
   "outputs": [
    {
     "name": "stdout",
     "output_type": "stream",
     "text": [
      "tensor(3)\n"
     ]
    }
   ],
   "source": [
    "print(mix.sample())"
   ]
  },
  {
   "cell_type": "code",
   "execution_count": 3,
   "metadata": {},
   "outputs": [
    {
     "data": {
      "text/plain": [
       "(array([  2.,   1.,   0.,   1.,   5.,   5.,  14.,   6.,  19.,  20.,  31.,\n",
       "         33.,  62.,  67.,  96.,  89., 130., 141., 166., 199., 261., 308.,\n",
       "        381., 427., 510., 547., 652., 771., 861., 899., 730., 513., 326.,\n",
       "        305., 277., 215., 204., 166., 154., 112.,  95.,  58.,  49.,  35.,\n",
       "         27.,  15.,   6.,   6.,   1.,   2.]),\n",
       " array([-5.399399  , -5.1804276 , -4.9614563 , -4.742485  , -4.5235143 ,\n",
       "        -4.304543  , -4.085572  , -3.8666005 , -3.6476293 , -3.4286582 ,\n",
       "        -3.209687  , -2.9907157 , -2.7717445 , -2.5527735 , -2.3338022 ,\n",
       "        -2.114831  , -1.8958598 , -1.6768887 , -1.4579175 , -1.2389463 ,\n",
       "        -1.0199751 , -0.80100393, -0.58203274, -0.36306155, -0.14409035,\n",
       "         0.07488084,  0.29385203,  0.5128232 ,  0.7317944 ,  0.9507656 ,\n",
       "         1.1697367 ,  1.388708  ,  1.6076791 ,  1.8266504 ,  2.0456214 ,\n",
       "         2.2645926 ,  2.483564  ,  2.7025352 ,  2.9215062 ,  3.1404774 ,\n",
       "         3.3594487 ,  3.57842   ,  3.797391  ,  4.016362  ,  4.2353334 ,\n",
       "         4.4543047 ,  4.673276  ,  4.8922467 ,  5.111218  ,  5.330189  ,\n",
       "         5.5491605 ], dtype=float32),\n",
       " <a list of 50 Patch objects>)"
      ]
     },
     "execution_count": 3,
     "metadata": {},
     "output_type": "execute_result"
    },
    {
     "data": {
      "image/png": "[encoded data removed]",
      "text/plain": [
       "<Figure size 432x288 with 1 Axes>"
      ]
     },
     "metadata": {
      "needs_background": "light"
     },
     "output_type": "display_data"
    }
   ],
   "source": [
    "both = [gmm_both.sample() for i in range(10000)]\n",
    "plt.hist(both, bins=50)"
   ]
  },
  {
   "cell_type": "code",
   "execution_count": 4,
   "metadata": {},
   "outputs": [
    {
     "data": {
      "text/plain": [
       "(array([  1.,   0.,   3.,   5.,   7.,  11.,  15.,  25.,  44.,  49.,  57.,\n",
       "         74.,  95., 104., 141., 173., 182., 213., 243., 276., 369., 421.,\n",
       "        471., 469., 436., 471., 459., 525., 593., 542., 464., 497., 487.,\n",
       "        391., 285., 231., 175., 210., 242., 247., 143.,  69.,  43.,  19.,\n",
       "          7.,   3.,   6.,   4.,   1.,   2.]),\n",
       " array([-4.828332  , -4.6244426 , -4.4205537 , -4.2166643 , -4.0127754 ,\n",
       "        -3.808886  , -3.604997  , -3.4011078 , -3.1972184 , -2.9933293 ,\n",
       "        -2.7894402 , -2.585551  , -2.381662  , -2.1777725 , -1.9738834 ,\n",
       "        -1.7699943 , -1.5661051 , -1.3622159 , -1.1583267 , -0.95443755,\n",
       "        -0.75054836, -0.5466592 , -0.34277   , -0.13888082,  0.06500836,\n",
       "         0.26889753,  0.47278672,  0.6766759 ,  0.88056505,  1.0844543 ,\n",
       "         1.2883434 ,  1.4922326 ,  1.6961218 ,  1.900011  ,  2.1039002 ,\n",
       "         2.3077893 ,  2.5116785 ,  2.7155676 ,  2.919457  ,  3.123346  ,\n",
       "         3.3272352 ,  3.5311244 ,  3.7350135 ,  3.9389029 ,  4.1427917 ,\n",
       "         4.346681  ,  4.5505705 ,  4.7544594 ,  4.9583488 ,  5.1622376 ,\n",
       "         5.366127  ], dtype=float32),\n",
       " <a list of 50 Patch objects>)"
      ]
     },
     "execution_count": 4,
     "metadata": {},
     "output_type": "execute_result"
    },
    {
     "data": {
      "image/png": "[encoded data removed]",
      "text/plain": [
       "<Figure size 432x288 with 1 Axes>"
      ]
     },
     "metadata": {
      "needs_background": "light"
     },
     "output_type": "display_data"
    }
   ],
   "source": [
    "both = [gmm2.sample()+gmm.sample() for i in range(10000)]\n",
    "plt.hist(both, bins=50)"
   ]
  },
  {
   "cell_type": "code",
   "execution_count": 5,
   "metadata": {},
   "outputs": [
    {
     "data": {
      "text/plain": [
       "(array([  1.,   3.,   4.,   8.,   6.,   9.,  15.,  21.,  21.,  36.,  33.,\n",
       "         67.,  83.,  94., 116., 149., 153., 207., 226., 278., 305., 407.,\n",
       "        453., 464., 395., 491., 431., 453., 477., 548., 503., 496., 526.,\n",
       "        483., 367., 274., 225., 190., 220., 236., 234., 126.,  83.,  37.,\n",
       "         18.,  13.,  10.,   2.,   0.,   3.]),\n",
       " array([-4.823144  , -4.624694  , -4.426244  , -4.2277937 , -4.0293436 ,\n",
       "        -3.8308935 , -3.6324434 , -3.4339933 , -3.2355433 , -3.0370932 ,\n",
       "        -2.838643  , -2.640193  , -2.441743  , -2.2432928 , -2.0448427 ,\n",
       "        -1.8463926 , -1.6479425 , -1.4494925 , -1.2510424 , -1.0525923 ,\n",
       "        -0.8541422 , -0.6556921 , -0.457242  , -0.25879192, -0.06034184,\n",
       "         0.13810825,  0.33655834,  0.53500843,  0.7334585 ,  0.9319086 ,\n",
       "         1.1303587 ,  1.3288088 ,  1.5272589 ,  1.725709  ,  1.924159  ,\n",
       "         2.1226091 ,  2.3210592 ,  2.5195093 ,  2.7179594 ,  2.9164095 ,\n",
       "         3.1148596 ,  3.3133097 ,  3.5117598 ,  3.7102098 ,  3.90866   ,\n",
       "         4.10711   ,  4.30556   ,  4.50401   ,  4.7024603 ,  4.9009104 ,\n",
       "         5.0993605 ], dtype=float32),\n",
       " <a list of 50 Patch objects>)"
      ]
     },
     "execution_count": 5,
     "metadata": {},
     "output_type": "execute_result"
    },
    {
     "data": {
      "image/png": "[encoded data removed]",
      "text/plain": [
       "<Figure size 432x288 with 1 Axes>"
      ]
     },
     "metadata": {
      "needs_background": "light"
     },
     "output_type": "display_data"
    }
   ],
   "source": [
    "both = [gmm2.sample()+gmm.sample() for i in range(10000)]\n",
    "plt.hist(both, bins=50)"
   ]
  },
  {
   "cell_type": "code",
   "execution_count": 12,
   "metadata": {},
   "outputs": [],
   "source": [
    "import sys\n",
    "sys.path.append(\"/media/taylor/Data/Linux/Github/simple_hwr/hwr_utils\")\n",
    "from matplotlib import pyplot as plt\n",
    "\n",
    "import torch\n",
    "import torch.distributions as D\n",
    "from new_pytorch import MixtureSameFamily\n",
    "\n",
    "\n",
    "means3, std3 = -5, torch.rand(1,)\n",
    "normal = D.Normal(means3, std3)\n",
    "\n",
    "gmm_simple = MixtureSameFamily(mix, D.Normal(means3+means1, std3+std1))\n"
   ]
  },
  {
   "cell_type": "code",
   "execution_count": 13,
   "metadata": {},
   "outputs": [
    {
     "data": {
      "text/plain": [
       "(array([2.000e+00, 4.000e+00, 2.000e+00, 2.000e+00, 4.000e+00, 5.000e+00,\n",
       "        1.600e+01, 1.900e+01, 2.500e+01, 3.700e+01, 5.200e+01, 6.400e+01,\n",
       "        1.230e+02, 1.480e+02, 1.760e+02, 2.270e+02, 2.900e+02, 3.470e+02,\n",
       "        4.300e+02, 4.910e+02, 6.190e+02, 7.260e+02, 8.680e+02, 9.870e+02,\n",
       "        1.115e+03, 1.250e+03, 1.416e+03, 1.433e+03, 1.356e+03, 1.368e+03,\n",
       "        1.194e+03, 1.137e+03, 9.920e+02, 8.840e+02, 6.780e+02, 4.860e+02,\n",
       "        3.570e+02, 2.590e+02, 1.560e+02, 1.060e+02, 5.700e+01, 3.600e+01,\n",
       "        2.800e+01, 1.400e+01, 7.000e+00, 2.000e+00, 2.000e+00, 1.000e+00,\n",
       "        1.000e+00, 1.000e+00]),\n",
       " array([-11.923814  , -11.644208  , -11.364601  , -11.084995  ,\n",
       "        -10.805388  , -10.525783  , -10.246177  ,  -9.96657   ,\n",
       "         -9.686964  ,  -9.407357  ,  -9.127751  ,  -8.8481455 ,\n",
       "         -8.568539  ,  -8.288933  ,  -8.009326  ,  -7.72972   ,\n",
       "         -7.450114  ,  -7.1705074 ,  -6.8909016 ,  -6.611295  ,\n",
       "         -6.331689  ,  -6.0520825 ,  -5.772476  ,  -5.4928703 ,\n",
       "         -5.213264  ,  -4.9336576 ,  -4.6540513 ,  -4.374445  ,\n",
       "         -4.094839  ,  -3.8152328 ,  -3.5356264 ,  -3.25602   ,\n",
       "         -2.976414  ,  -2.6968076 ,  -2.4172015 ,  -2.1375952 ,\n",
       "         -1.857989  ,  -1.5783827 ,  -1.2987764 ,  -1.0191702 ,\n",
       "         -0.73956394,  -0.4599577 ,  -0.18035145,   0.0992548 ,\n",
       "          0.37886104,   0.6584673 ,   0.9380735 ,   1.2176797 ,\n",
       "          1.4972861 ,   1.7768923 ,   2.0564985 ], dtype=float32),\n",
       " <a list of 50 Patch objects>)"
      ]
     },
     "execution_count": 13,
     "metadata": {},
     "output_type": "execute_result"
    },
    {
     "data": {
      "image/png": "[encoded data removed]",
      "text/plain": [
       "<Figure size 432x288 with 1 Axes>"
      ]
     },
     "metadata": {
      "needs_background": "light"
     },
     "output_type": "display_data"
    }
   ],
   "source": [
    "both = [gmm_simple.sample() for i in range(20000)]\n",
    "plt.hist(both, bins=50)"
   ]
  },
  {
   "cell_type": "code",
   "execution_count": 19,
   "metadata": {},
   "outputs": [
    {
     "data": {
      "text/plain": [
       "(array([1.000e+00, 2.000e+00, 1.000e+00, 7.000e+00, 1.100e+01, 1.400e+01,\n",
       "        1.800e+01, 2.700e+01, 3.200e+01, 3.800e+01, 5.700e+01, 8.500e+01,\n",
       "        1.050e+02, 1.250e+02, 1.820e+02, 1.990e+02, 2.960e+02, 3.470e+02,\n",
       "        4.060e+02, 4.410e+02, 5.670e+02, 5.990e+02, 6.750e+02, 8.280e+02,\n",
       "        8.410e+02, 9.440e+02, 1.015e+03, 1.068e+03, 1.059e+03, 1.096e+03,\n",
       "        1.085e+03, 1.032e+03, 1.005e+03, 9.520e+02, 8.520e+02, 7.890e+02,\n",
       "        7.040e+02, 6.480e+02, 4.960e+02, 4.100e+02, 3.090e+02, 2.210e+02,\n",
       "        1.620e+02, 9.800e+01, 7.600e+01, 3.800e+01, 2.100e+01, 7.000e+00,\n",
       "        6.000e+00, 3.000e+00]),\n",
       " array([-10.051847  ,  -9.854204  ,  -9.656562  ,  -9.458919  ,\n",
       "         -9.261275  ,  -9.063633  ,  -8.86599   ,  -8.668346  ,\n",
       "         -8.470704  ,  -8.273061  ,  -8.075418  ,  -7.877775  ,\n",
       "         -7.6801324 ,  -7.482489  ,  -7.2848463 ,  -7.0872035 ,\n",
       "         -6.88956   ,  -6.6919174 ,  -6.4942746 ,  -6.2966313 ,\n",
       "         -6.0989885 ,  -5.9013457 ,  -5.703703  ,  -5.5060596 ,\n",
       "         -5.308417  ,  -5.110774  ,  -4.9131308 ,  -4.715488  ,\n",
       "         -4.517845  ,  -4.3202024 ,  -4.122559  ,  -3.9249163 ,\n",
       "         -3.7272732 ,  -3.5296304 ,  -3.3319874 ,  -3.1343446 ,\n",
       "         -2.9367015 ,  -2.7390587 ,  -2.5414157 ,  -2.3437726 ,\n",
       "         -2.1461298 ,  -1.9484868 ,  -1.7508439 ,  -1.553201  ,\n",
       "         -1.355558  ,  -1.1579151 ,  -0.96027213,  -0.7626292 ,\n",
       "         -0.5649863 ,  -0.36734334,  -0.16970038], dtype=float32),\n",
       " <a list of 50 Patch objects>)"
      ]
     },
     "execution_count": 19,
     "metadata": {},
     "output_type": "execute_result"
    },
    {
     "data": {
      "image/png": "[encoded data removed]",
      "text/plain": [
       "<Figure size 432x288 with 1 Axes>"
      ]
     },
     "metadata": {
      "needs_background": "light"
     },
     "output_type": "display_data"
    }
   ],
   "source": [
    "both = [normal.sample()+gmm.sample() for i in range(20000)]\n",
    "plt.hist(both, bins=50)"
   ]
  },
  {
   "cell_type": "code",
   "execution_count": 17,
   "metadata": {},
   "outputs": [
    {
     "data": {
      "text/plain": [
       "-5"
      ]
     },
     "execution_count": 17,
     "metadata": {},
     "output_type": "execute_result"
    }
   ],
   "source": [
    "means3\n"
   ]
  },
  {
   "cell_type": "code",
   "execution_count": 10,
   "metadata": {},
   "outputs": [
    {
     "data": {
      "text/plain": [
       "tensor([-0.8998,  2.0957, -0.0589,  1.2179,  0.7349])"
      ]
     },
     "execution_count": 10,
     "metadata": {},
     "output_type": "execute_result"
    }
   ],
   "source": [
    "means1"
   ]
  },
  {
   "cell_type": "code",
   "execution_count": 11,
   "metadata": {},
   "outputs": [
    {
     "data": {
      "text/plain": [
       "tensor([-0.6900,  2.3055,  0.1510,  1.4278,  0.9448])"
      ]
     },
     "execution_count": 11,
     "metadata": {},
     "output_type": "execute_result"
    }
   ],
   "source": [
    "means3+means1"
   ]
  },
  {
   "cell_type": "code",
   "execution_count": 60,
   "metadata": {},
   "outputs": [
    {
     "name": "stdout",
     "output_type": "stream",
     "text": [
      "tensor([-3.,  1., -1.,  3.]) tensor([1.0262, 1.1732, 0.9816, 1.1344])\n",
      "tensor([-3., -1.,  1.,  3.]) tensor([1.0262, 0.9816, 1.1732, 1.1344])\n"
     ]
    },
    {
     "data": {
      "image/png": "[encoded data removed]",
      "text/plain": [
       "<Figure size 432x288 with 1 Axes>"
      ]
     },
     "metadata": {
      "needs_background": "light"
     },
     "output_type": "display_data"
    },
    {
     "data": {
      "image/png": "[encoded data removed]",
      "text/plain": [
       "<Figure size 432x288 with 1 Axes>"
      ]
     },
     "metadata": {
      "needs_background": "light"
     },
     "output_type": "display_data"
    },
    {
     "data": {
      "image/png": "[encoded data removed]",
      "text/plain": [
       "<Figure size 432x288 with 1 Axes>"
      ]
     },
     "metadata": {
      "needs_background": "light"
     },
     "output_type": "display_data"
    }
   ],
   "source": [
    "# proof of concept with 2x2 mixtures\n",
    "import sys\n",
    "sys.path.append(\"/media/taylor/Data/Linux/Github/simple_hwr/hwr_utils\")\n",
    "from matplotlib import pyplot as plt\n",
    "\n",
    "import torch\n",
    "import torch.distributions as D\n",
    "from new_pytorch import MixtureSameFamily\n",
    "\n",
    "mix = D.Categorical(torch.ones(2,))\n",
    "means1, std1 = torch.tensor([-1.,1.]), torch.rand(2,)\n",
    "comp = D.Normal(means1, std1)\n",
    "gmm1 = MixtureSameFamily(mix, comp)\n",
    "\n",
    "mix2 = D.Categorical(torch.ones(2,))\n",
    "means2, std2 = torch.tensor([-2.0,2.0]), torch.rand(2,)\n",
    "comp2 = D.Normal(means2, std2)\n",
    "gmm2 = MixtureSameFamily(mix2, comp2)\n",
    "\n",
    "mix_both = D.Categorical(torch.ones(4,))\n",
    "meansboth1, stdboth1 = torch.cat((means2+means1[0:1], means2+means1[1:]),axis=0), torch.cat((std2**2+std1[0:1]**2, std2**2+std1[1:]**2),axis=0)**.5\n",
    "meansboth2, stdboth2 = torch.cat((means1+means2[0:1], means1+means2[1:]),axis=0), torch.cat((std1**2+std2[0:1]**2, std1**2+std2[1:]**2),axis=0)**.5\n",
    "\n",
    "print(meansboth1, stdboth1)\n",
    "print(meansboth2, stdboth2)\n",
    "\n",
    "gmm_both1 = MixtureSameFamily(mix_both, D.Normal(meansboth1, stdboth1))\n",
    "gmm_both2 = MixtureSameFamily(mix_both, D.Normal(meansboth2, stdboth2))\n",
    "\n",
    "both = [gmm1.sample()+gmm2.sample() for i in range(20000)]\n",
    "plt.xlim = (-8,8)\n",
    "plt.hist(both, bins=50)\n",
    "plt.show()\n",
    "\n",
    "both_gmm1 = [gmm_both1.sample() for i in range(20000)]\n",
    "plt.hist(both_gmm1, bins=50)\n",
    "plt.show()\n",
    "\n",
    "both_gmm2 = [gmm_both2.sample() for i in range(20000)]\n",
    "plt.hist(both_gmm2, bins=50)\n",
    "plt.show()\n",
    "\n",
    "                             "
   ]
  },
  {
   "cell_type": "code",
   "execution_count": 46,
   "metadata": {},
   "outputs": [
    {
     "data": {
      "text/plain": [
       "tensor(1.0402)"
      ]
     },
     "execution_count": 46,
     "metadata": {},
     "output_type": "execute_result"
    }
   ],
   "source": [
    "gmm1.sample()"
   ]
  },
  {
   "cell_type": "code",
   "execution_count": null,
   "metadata": {},
   "outputs": [],
   "source": []
  }
 ],
 "metadata": {
  "kernelspec": {
   "display_name": "hwr",
   "language": "python",
   "name": "hwr"
  },
  "language_info": {
   "codemirror_mode": {
    "name": "ipython",
    "version": 3
   },
   "file_extension": ".py",
   "mimetype": "text/x-python",
   "name": "python",
   "nbconvert_exporter": "python",
   "pygments_lexer": "ipython3",
   "version": "3.8.1"
  }
 },
 "nbformat": 4,
 "nbformat_minor": 2
}
