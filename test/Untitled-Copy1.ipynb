{
 "cells": [
  {
   "cell_type": "code",
   "execution_count": 20,
   "metadata": {},
   "outputs": [
    {
     "data": {
      "text/plain": [
       "array([0, 0, 0, 0, 0, 0, 0, 0, 0, 0, 0, 0, 0, 0, 0, 0, 0, 0, 0, 0, 0, 0,\n",
       "       0, 0])"
      ]
     },
     "execution_count": 20,
     "metadata": {},
     "output_type": "execute_result"
    }
   ],
   "source": [
    "# SOS & EOS swapper\n",
    "import torch\n",
    "import numpy as np\n",
    "from torch import tensor\n",
    "\n",
    "# Make sure SOS and EOS exist and are distinct!!\n",
    "\n",
    "shp = (12, 4)\n",
    "\n",
    "gts = np.array(range(np.product(shp))).reshape(shp)\n",
    "\n",
    "\n",
    "\n",
    "# Start / end point             \n",
    "diff =  np.sum(abs(preds.reshape(-1, 2) - gts.reshape(-1, 2)), axis=1)\n",
    "diff2 = np.sum(abs(preds.reshape(-1, 2) - gts.reshape(-1, 2)[:,::-1]),axis=1)\n",
    "loss = np.minimum(diff,diff2)\n"
   ]
  },
  {
   "cell_type": "code",
   "execution_count": 28,
   "metadata": {},
   "outputs": [
    {
     "name": "stdout",
     "output_type": "stream",
     "text": [
      "tensor([0.1000, 0.0000, 0.0000, 0.0000, 0.0000, 0.0000, 0.0000, 0.0000, 0.0000,\n",
      "        0.0000, 0.0000, 0.0000, 0.0000, 0.0000, 0.0000, 0.0000, 0.0000, 0.0000,\n",
      "        0.0000, 0.0000, 0.0000, 0.0000, 0.0000, 0.0000], dtype=torch.float64)\n"
     ]
    }
   ],
   "source": [
    "# SOS & EOS swapper\n",
    "import torch\n",
    "import numpy as np\n",
    "from torch import tensor\n",
    "\n",
    "# Make sure SOS and EOS exist and are distinct!!\n",
    "\n",
    "shp = (12, 4)\n",
    "\n",
    "gts = np.array(range(np.product(shp))).reshape(shp)\n",
    "gts = tensor(gts)\n",
    "preds = tensor(preds)\n",
    "# Start / end point             \n",
    "diff =  torch.sum(torch.abs(preds.reshape(-1, 2) - gts.reshape(-1, 2)), axis=1)\n",
    "diff2 = torch.sum(torch.abs(preds.reshape(-1, 2) - torch.flip(gts.reshape(-1, 2), dims=(1,))),axis=1)\n",
    "loss = torch.min(diff,diff2)\n",
    "print(loss)"
   ]
  },
  {
   "cell_type": "code",
   "execution_count": null,
   "metadata": {},
   "outputs": [],
   "source": [
    "# Plan\n",
    "    # Get Swapper working\n",
    "        # Have this predict which is the start and end point too\n",
    "    # Fix plotting\n",
    "    # Test again:\n",
    "        # Images\n",
    "        # Warping\n",
    "        # Distortion\n",
    "    # Check if loss is a bottleneck...probably not\n",
    "        "
   ]
  },
  {
   "cell_type": "code",
   "execution_count": 5,
   "metadata": {},
   "outputs": [],
   "source": [
    "start_points = gts[2] if gts.shape[0] > 2 else np.zeros(gts.shape[-1])"
   ]
  },
  {
   "cell_type": "code",
   "execution_count": 6,
   "metadata": {},
   "outputs": [
    {
     "data": {
      "text/plain": [
       "array([0., 0., 0., 0.])"
      ]
     },
     "execution_count": 6,
     "metadata": {},
     "output_type": "execute_result"
    }
   ],
   "source": [
    "np.zeros(gts.shape[-1])"
   ]
  },
  {
   "cell_type": "code",
   "execution_count": 27,
   "metadata": {},
   "outputs": [],
   "source": [
    "preds = np.array([[ 0,  1.1,  2,  3],\n",
    "       [ 5,  4,  6,  7],\n",
    "       [ 8,  9, 10, 11],\n",
    "       [12, 13, 14, 15],\n",
    "       [16, 17, 18, 19],\n",
    "       [20, 21, 22, 23],\n",
    "       [24, 25, 26, 27],\n",
    "       [28, 29, 30, 31],\n",
    "       [32, 33, 34, 35],\n",
    "       [36, 37, 38, 39],\n",
    "       [40, 41, 42, 43],\n",
    "       [44, 45, 46, 47]])\n"
   ]
  },
  {
   "cell_type": "code",
   "execution_count": 30,
   "metadata": {},
   "outputs": [],
   "source": [
    "def get_eos_from_sos(sos):\n",
    "    eos = np.ones(sos.shape[-1])\n",
    "    eos[:-1] = sos[1:]\n",
    "    return eos"
   ]
  },
  {
   "cell_type": "code",
   "execution_count": 85,
   "metadata": {},
   "outputs": [
    {
     "name": "stdout",
     "output_type": "stream",
     "text": [
      "[ 0  4  9 10 11]\n",
      "[[ 0  1  1  1]\n",
      " [ 1  1  1  1]\n",
      " [ 2  0  0  0]\n",
      " [ 3  0  0  0]\n",
      " [ 4  1  1  1]\n",
      " [ 5  1  1  1]\n",
      " [ 6  0  0  0]\n",
      " [ 7  0  0  0]\n",
      " [ 8  0  0  0]\n",
      " [ 9  1  1  1]\n",
      " [10  1  1  1]\n",
      " [11  1  1  1]] [ 0  4  9 10 11] [[ 0  1  1  1]\n",
      " [ 4  1  1  1]\n",
      " [ 9  1  1  1]\n",
      " [10  1  1  1]\n",
      " [11  1  1  1]]\n",
      "(12, 4)\n",
      "[[ 0  1  0  1]\n",
      " [ 1  1  1  1]\n",
      " [ 2  0  0  0]\n",
      " [ 3  0  0  0]\n",
      " [ 4  1  0  1]\n",
      " [ 5  1  1  1]\n",
      " [ 6  0  0  0]\n",
      " [ 7  0  0  0]\n",
      " [ 8  0  0  0]\n",
      " [ 9  1  0  1]\n",
      " [10  1  0  1]\n",
      " [11  1  0  1]]\n"
     ]
    },
    {
     "data": {
      "text/plain": [
       "array([[ 0,  1,  1,  0],\n",
       "       [ 0,  1,  0,  1],\n",
       "       [ 1,  1,  1,  1],\n",
       "       [ 2,  0,  0,  0],\n",
       "       [ 3,  0,  0,  0],\n",
       "       [ 4,  1,  1,  0],\n",
       "       [ 4,  1,  0,  1],\n",
       "       [ 5,  1,  1,  1],\n",
       "       [ 6,  0,  0,  0],\n",
       "       [ 7,  0,  0,  0],\n",
       "       [ 8,  0,  0,  0],\n",
       "       [ 9,  1,  1,  0],\n",
       "       [ 9,  1,  0,  1],\n",
       "       [10,  1,  1,  0],\n",
       "       [10,  1,  0,  1],\n",
       "       [11,  1,  1,  0],\n",
       "       [11,  1,  0,  1]])"
      ]
     },
     "execution_count": 85,
     "metadata": {},
     "output_type": "execute_result"
    }
   ],
   "source": [
    "\n",
    "sos = np.array([1,1,0,0,1,1,0,0,0,1,1,1])\n",
    "#eos = np.array([0,0,1,1,0,0,0,1,1,0,0,1])\n",
    "eos = get_eos_from_sos(sos)\n",
    "\n",
    "gts = np.repeat(sos, 4).reshape(-1,4)\n",
    "gts[:,0] = range(len(sos))\n",
    "#print(s)\n",
    "s = np.argwhere(sos+eos>1).reshape(-1)\n",
    "print(s)\n",
    "\n",
    "\n",
    "print(gts, s, gts[s])\n",
    "print(gts.shape)\n",
    "gts[s,2]=0\n",
    "replacement = gts[s]\n",
    "replacement[:,2:] = 1,0\n",
    "print(gts)\n",
    "x = np.insert(gts, s, [replacement], 0)\n",
    "x"
   ]
  },
  {
   "cell_type": "code",
   "execution_count": 89,
   "metadata": {},
   "outputs": [
    {
     "name": "stdout",
     "output_type": "stream",
     "text": [
      "[[ 0  1  1  1]\n",
      " [ 1  1  1  1]\n",
      " [ 2  0  0  0]\n",
      " [ 3  0  0  0]\n",
      " [ 4  1  1  1]\n",
      " [ 5  1  1  1]\n",
      " [ 6  0  0  0]\n",
      " [ 7  0  0  0]\n",
      " [ 8  0  0  0]\n",
      " [ 9  1  1  1]\n",
      " [10  1  1  1]\n",
      " [11  1  1  1]]\n"
     ]
    },
    {
     "data": {
      "text/plain": [
       "array([[ 0,  1,  1,  1],\n",
       "       [ 0,  1,  0,  1],\n",
       "       [ 1,  1,  1,  1],\n",
       "       [ 2,  0,  0,  0],\n",
       "       [ 3,  0,  0,  0],\n",
       "       [ 4,  1,  1,  1],\n",
       "       [ 4,  1,  0,  1],\n",
       "       [ 5,  1,  1,  1],\n",
       "       [ 6,  0,  0,  0],\n",
       "       [ 7,  0,  0,  0],\n",
       "       [ 8,  0,  0,  0],\n",
       "       [ 9,  1,  1,  1],\n",
       "       [ 9,  1,  0,  1],\n",
       "       [10,  1,  1,  1],\n",
       "       [10,  1,  0,  1],\n",
       "       [11,  1,  1,  1],\n",
       "       [11,  1,  0,  1]])"
      ]
     },
     "execution_count": 89,
     "metadata": {},
     "output_type": "execute_result"
    }
   ],
   "source": [
    "\n",
    "sos = np.array([1,1,0,0,1,1,0,0,0,1,1,1])\n",
    "#eos = np.array([0,0,1,1,0,0,0,1,1,0,0,1])\n",
    "eos = get_eos_from_sos(sos)\n",
    "\n",
    "gts = np.repeat(sos, 4).reshape(-1,4)\n",
    "gts[:,0] = range(len(sos))\n",
    "#print(s)\n",
    "s = np.argwhere(sos+eos>1).reshape(-1)\n",
    "#print(s)\n",
    "\n",
    "#print(gts, s, gts[s])\n",
    "#print(gts.shape)\n",
    "print(gts)\n",
    "gts[s,2]=0\n",
    "replacement = gts[s]\n",
    "replacement[:,2] = 1\n",
    "\n",
    "x = np.insert(gts, s, [replacement], 0)\n",
    "x"
   ]
  },
  {
   "cell_type": "code",
   "execution_count": 52,
   "metadata": {},
   "outputs": [
    {
     "name": "stdout",
     "output_type": "stream",
     "text": [
      "[1 1 1 1 0 0 0 0 0 0 0 0 1 1 1 1 1 1 1 1 0 0 0 0 0 0 0 0 0 0 0 0 1 1 1 1 1\n",
      " 1 1 1 0 0 0 0 0 0 0 0]\n"
     ]
    }
   ],
   "source": [
    "print(gts)"
   ]
  },
  {
   "cell_type": "code",
   "execution_count": null,
   "metadata": {},
   "outputs": [],
   "source": []
  }
 ],
 "metadata": {
  "kernelspec": {
   "display_name": "hwr",
   "language": "python",
   "name": "hwr"
  },
  "language_info": {
   "codemirror_mode": {
    "name": "ipython",
    "version": 3
   },
   "file_extension": ".py",
   "mimetype": "text/x-python",
   "name": "python",
   "nbconvert_exporter": "python",
   "pygments_lexer": "ipython3",
   "version": "3.8.1"
  }
 },
 "nbformat": 4,
 "nbformat_minor": 2
}
