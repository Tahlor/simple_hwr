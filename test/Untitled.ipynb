{
 "cells": [
  {
   "cell_type": "code",
   "execution_count": 37,
   "metadata": {},
   "outputs": [
    {
     "name": "stderr",
     "output_type": "stream",
     "text": [
      "INFO:root.hwr_utils.stroke_dataset:('Original dataloader size', 74)\n",
      "INFO:root.hwr_utils.stroke_dataset:('Dataloader size', 74)\n"
     ]
    },
    {
     "name": "stdout",
     "output_type": "stream",
     "text": [
      "../data/online_coordinate_data/8_stroke_vSmall_16/test_online_coords.json\n"
     ]
    },
    {
     "name": "stderr",
     "output_type": "stream",
     "text": [
      "100%|██████████| 74/74 [00:00<00:00, 178.96it/s]\n"
     ]
    },
    {
     "name": "stdout",
     "output_type": "stream",
     "text": [
      "torch.Size([233, 4])\n",
      "torch.Size([173, 4])\n",
      "torch.Size([193, 4])\n",
      "torch.Size([265, 4])\n",
      "torch.Size([222, 4])\n",
      "torch.Size([180, 4])\n",
      "torch.Size([154, 4])\n",
      "torch.Size([215, 4])\n",
      "torch.Size([223, 4])\n",
      "torch.Size([159, 4])\n",
      "torch.Size([240, 4])\n",
      "torch.Size([275, 4])\n",
      "torch.Size([173, 4])\n",
      "torch.Size([187, 4])\n",
      "torch.Size([207, 4])\n",
      "torch.Size([133, 4])\n",
      "torch.Size([146, 4])\n",
      "torch.Size([211, 4])\n",
      "torch.Size([112, 4])\n",
      "torch.Size([184, 4])\n",
      "torch.Size([224, 4])\n",
      "torch.Size([250, 4])\n",
      "torch.Size([127, 4])\n",
      "torch.Size([239, 4])\n",
      "torch.Size([258, 4])\n",
      "torch.Size([172, 4])\n",
      "torch.Size([177, 4])\n",
      "torch.Size([247, 4])\n",
      "torch.Size([183, 4])\n",
      "torch.Size([147, 4])\n",
      "torch.Size([188, 4])\n",
      "torch.Size([171, 4])\n",
      "torch.Size([325, 4])\n",
      "torch.Size([189, 4])\n",
      "torch.Size([214, 4])\n",
      "torch.Size([161, 4])\n",
      "torch.Size([215, 4])\n",
      "torch.Size([276, 4])\n",
      "torch.Size([185, 4])\n",
      "torch.Size([208, 4])\n",
      "torch.Size([219, 4])\n",
      "torch.Size([172, 4])\n",
      "torch.Size([233, 4])\n",
      "torch.Size([396, 4])\n",
      "torch.Size([203, 4])\n",
      "torch.Size([220, 4])\n",
      "torch.Size([227, 4])\n",
      "torch.Size([252, 4])\n",
      "torch.Size([221, 4])\n",
      "torch.Size([351, 4])\n",
      "torch.Size([228, 4])\n",
      "torch.Size([170, 4])\n",
      "torch.Size([169, 4])\n",
      "torch.Size([237, 4])\n",
      "torch.Size([238, 4])\n",
      "torch.Size([193, 4])\n",
      "torch.Size([207, 4])\n",
      "torch.Size([203, 4])\n",
      "torch.Size([163, 4])\n",
      "torch.Size([236, 4])\n",
      "torch.Size([104, 4])\n",
      "torch.Size([314, 4])\n",
      "torch.Size([200, 4])\n",
      "torch.Size([223, 4])\n",
      "torch.Size([155, 4])\n",
      "torch.Size([376, 4])\n",
      "torch.Size([155, 4])\n",
      "torch.Size([249, 4])\n",
      "torch.Size([243, 4])\n",
      "torch.Size([236, 4])\n",
      "torch.Size([246, 4])\n",
      "torch.Size([209, 4])\n",
      "torch.Size([213, 4])\n",
      "torch.Size([173, 4])\n"
     ]
    }
   ],
   "source": [
    "%reload_ext autoreload\n",
    "%autoreload 2\n",
    "\n",
    "import sys\n",
    "sys.path.append(\"..\")\n",
    "from torch.utils.data import DataLoader\n",
    "from hwr_utils.stroke_dataset import StrokeRecoveryDataset\n",
    "from hwr_utils.stroke_recovery import *\n",
    "from train_stroke_recovery import graph\n",
    "from hwr_utils.stroke_plotting import *\n",
    "\n",
    "\n",
    "folder = Path(\"online_coordinate_data/3_stroke_vSmall\")\n",
    "folder = Path(\"online_coordinate_data/8_stroke_vSmall_16\")\n",
    "#folder = Path(\"online_coordinate_data/3_stroke_vverysmallFull\")\n",
    "\n",
    "x_relative_positions = True\n",
    "test_size = 2000\n",
    "train_size = None\n",
    "batch_size=1\n",
    "\n",
    "test_dataset=StrokeRecoveryDataset([folder / \"test_online_coords.json\"],\n",
    "                        img_height = 60,\n",
    "                        num_of_channels = 1.,\n",
    "                        max_images_to_load = test_size,\n",
    "                        root=r\"../data\",\n",
    "                        x_relative_positions=x_relative_positions\n",
    "                        )\n",
    "\n",
    "test_dataloader = DataLoader(test_dataset,\n",
    "                              batch_size=batch_size,\n",
    "                              shuffle=True,\n",
    "                              num_workers=3,\n",
    "                              collate_fn=test_dataset.collate,\n",
    "                              pin_memory=False)\n",
    "\n",
    "device=\"cuda\"\n",
    "\n",
    "for i in test_dataloader:\n",
    "    print(i[\"gt_list\"][0].shape)\n",
    "example = next(iter(test_dataloader)) # BATCH, WIDTH, VOCAB\n",
    "\n",
    "### PLOT\n",
    "gt = example[\"gt_list\"][0].numpy()\n",
    "#pil = gt_to_pil_format(gt)\n",
    "\n",
    "#graph(example, save_folder=output)"
   ]
  },
  {
   "cell_type": "code",
   "execution_count": 38,
   "metadata": {},
   "outputs": [
    {
     "data": {
      "text/plain": [
       "array([[255, 255, 255, ..., 255, 255, 255],\n",
       "       [255, 255, 255, ..., 255, 255, 255],\n",
       "       [255, 255, 255, ..., 255, 255, 255],\n",
       "       ...,\n",
       "       [255, 255, 255, ..., 255, 255, 255],\n",
       "       [255, 255, 255, ..., 255, 255, 255],\n",
       "       [255, 255, 255, ..., 255, 255, 255]], dtype=uint8)"
      ]
     },
     "execution_count": 38,
     "metadata": {},
     "output_type": "execute_result"
    }
   ],
   "source": [
    "draw_from_gt(gt)\n"
   ]
  },
  {
   "cell_type": "code",
   "execution_count": 22,
   "metadata": {},
   "outputs": [
    {
     "name": "stdout",
     "output_type": "stream",
     "text": [
      "[3.6542568  0.31349662 8.         0.        ]\n"
     ]
    }
   ],
   "source": [
    "print(gt[-155])"
   ]
  },
  {
   "cell_type": "code",
   "execution_count": null,
   "metadata": {},
   "outputs": [],
   "source": []
  }
 ],
 "metadata": {
  "kernelspec": {
   "display_name": "hwr",
   "language": "python",
   "name": "hwr"
  },
  "language_info": {
   "codemirror_mode": {
    "name": "ipython",
    "version": 3
   },
   "file_extension": ".py",
   "mimetype": "text/x-python",
   "name": "python",
   "nbconvert_exporter": "python",
   "pygments_lexer": "ipython3",
   "version": "3.8.1"
  }
 },
 "nbformat": 4,
 "nbformat_minor": 2
}
